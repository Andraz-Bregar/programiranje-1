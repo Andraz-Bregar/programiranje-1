{
  "cells": [
    {
      "cell_type": "markdown",
      "metadata": {},
      "source": [
        "# Funkcijsko programiranje"
      ]
    },
    {
      "cell_type": "markdown",
      "metadata": {
        "vscode": {
          "languageId": "ocaml"
        }
      },
      "source": [
        "_Funkcijsko programiranje_ je bolj matematičen pristop k pisanju programov, osnovan na sestavljanju funkcij in njihovi uporabi na vrednostih. Nasproten pristop bi bilo na primer _proceduralno_ ali _imperativno programiranje_, v katerem programe pišemo kot zaporedja ukazov, ki spreminjajo stanje računalnika. Programi, napisani v funkcijskem stilu, so dostikrat krajši in preglednejši, poleg tega pa preprosteje omogočajo porazdeljeno računanje.\n",
        "\n",
        "Zaradi vseh teh lastnosti veliko modernih programskih jezikov vpeljuje ideje iz funkcijskega programiranja. Da se bomo lahko osredotočili na te ideje, si bomo ogledali programski jezik OCaml, ki je bil eden prvih in je še danes eden najbolj popularnih funkcijskih jezikov. OCaml morda ni najbolj razširjen funkcijski jezik, so pa v njem ideje izražene najbolj neposredno."
      ]
    },
    {
      "cell_type": "markdown",
      "metadata": {},
      "source": [
        "## Osnove OCamla"
      ]
    },
    {
      "cell_type": "markdown",
      "metadata": {},
      "source": [
        "### Naš **prvi program** v OCamlu"
      ]
    },
    {
      "cell_type": "code",
      "execution_count": null,
      "metadata": {
        "vscode": {
          "languageId": "ocaml"
        }
      },
      "outputs": [
        {
          "data": {
            "text/plain": [
              "- : int = 2\n"
            ]
          },
          "metadata": {},
          "output_type": "display_data"
        }
      ],
      "source": [
        "1 + 1"
      ]
    },
    {
      "cell_type": "markdown",
      "metadata": {},
      "source": [
        "Poženimo prvi program v OCamlu:"
      ]
    },
    {
      "cell_type": "code",
      "execution_count": null,
      "metadata": {
        "vscode": {
          "languageId": "ocaml"
        }
      },
      "outputs": [
        {
          "data": {
            "text/plain": [
              "val odgovor : int = 42\n"
            ]
          },
          "metadata": {},
          "output_type": "display_data"
        }
      ],
      "source": [
        "let odgovor = min 8 7 * 6"
      ]
    },
    {
      "cell_type": "markdown",
      "metadata": {},
      "source": [
        "Vidimo lahko več stvari:\n",
        "\n",
        "- vrednosti definiramo s ključno besedo `let`\n",
        "- OCaml je poleg končne vrednosti izračunal tudi njen tip `int`\n",
        "- funkcije kličemo tako, da argumente naštejemo brez oklepajev\n",
        "- pri tem ima uporaba funkcij (_aplikacija_) višjo prioriteto kot računske operacije"
      ]
    },
    {
      "cell_type": "markdown",
      "metadata": {},
      "source": [
        "### Z `let ... in ...` pišemo **lokalne definicije**"
      ]
    },
    {
      "cell_type": "markdown",
      "metadata": {},
      "source": [
        "Vrednosti lahko definiramo tudi lokalno z izrazom `let ... in ...`. V tem primeru bodo definicije na voljo v delu `in ...`, izven pa ne."
      ]
    },
    {
      "cell_type": "code",
      "execution_count": null,
      "metadata": {
        "vscode": {
          "languageId": "ocaml"
        }
      },
      "outputs": [
        {
          "data": {
            "text/plain": [
              "val odgovor : int = 42\n"
            ]
          },
          "metadata": {},
          "output_type": "display_data"
        }
      ],
      "source": [
        "let odgovor =\n",
        "    let prvi_delni_izracun = min 8 7 in\n",
        "    let drugi_delni_izracun = 6 in\n",
        "    prvi_delni_izracun * drugi_delni_izracun"
      ]
    },
    {
      "cell_type": "code",
      "execution_count": null,
      "metadata": {
        "tags": [
          "raises-exception"
        ],
        "vscode": {
          "languageId": "ocaml"
        }
      },
      "outputs": [
        {
          "ename": "error",
          "evalue": "compile_error",
          "output_type": "error",
          "traceback": [
            "File \"[2]\", line 1, characters 0-18:\n",
            "1 | prvi_delni_izracun\n",
            "    ^^^^^^^^^^^^^^^^^^\n",
            "Error: Unbound value prvi_delni_izracun\n"
          ]
        }
      ],
      "source": [
        "prvi_delni_izracun"
      ]
    },
    {
      "cell_type": "markdown",
      "metadata": {},
      "source": [
        "### Z `let` lahko definiramo tudi **funkcije**"
      ]
    },
    {
      "cell_type": "markdown",
      "metadata": {},
      "source": [
        "Funkcije v OCamlu definiramo podobno kot vrednosti, le da za njihovim imenom naštejemo še imena argumentov:"
      ]
    },
    {
      "cell_type": "code",
      "execution_count": null,
      "metadata": {
        "vscode": {
          "languageId": "ocaml"
        }
      },
      "outputs": [
        {
          "data": {
            "text/plain": [
              "val kvadriraj : int -> int = <fun>\n"
            ]
          },
          "metadata": {},
          "output_type": "display_data"
        }
      ],
      "source": [
        "let kvadriraj x = x * x"
      ]
    },
    {
      "cell_type": "markdown",
      "metadata": {},
      "source": [
        "Funkcije potem uporabimo kot običajno:"
      ]
    },
    {
      "cell_type": "code",
      "execution_count": null,
      "metadata": {
        "vscode": {
          "languageId": "ocaml"
        }
      },
      "outputs": [
        {
          "data": {
            "text/plain": [
              "- : int = 64\n"
            ]
          },
          "metadata": {},
          "output_type": "display_data"
        }
      ],
      "source": [
        "kvadriraj 8"
      ]
    },
    {
      "cell_type": "code",
      "execution_count": null,
      "metadata": {
        "vscode": {
          "languageId": "ocaml"
        }
      },
      "outputs": [
        {
          "data": {
            "text/plain": [
              "val absolutna_vrednost : int -> int = <fun>\n"
            ]
          },
          "metadata": {},
          "output_type": "display_data"
        }
      ],
      "source": [
        "let absolutna_vrednost x =\n",
        "  if x < 0 then -x else x"
      ]
    },
    {
      "cell_type": "code",
      "execution_count": null,
      "metadata": {
        "vscode": {
          "languageId": "ocaml"
        }
      },
      "outputs": [
        {
          "data": {
            "text/plain": [
              "- : int = 8\n"
            ]
          },
          "metadata": {},
          "output_type": "display_data"
        }
      ],
      "source": [
        "absolutna_vrednost (-8)"
      ]
    },
    {
      "cell_type": "markdown",
      "metadata": {},
      "source": [
        "### Funkcije lahko sprejmejo **več argumentov**"
      ]
    },
    {
      "cell_type": "markdown",
      "metadata": {},
      "source": [
        "Na podoben način lahko definiramo funkcije več argumentov:"
      ]
    },
    {
      "cell_type": "code",
      "execution_count": null,
      "metadata": {
        "vscode": {
          "languageId": "ocaml"
        }
      },
      "outputs": [
        {
          "data": {
            "text/plain": [
              "val obseg_pravokotnika : int -> int -> int = <fun>\n"
            ]
          },
          "metadata": {},
          "output_type": "display_data"
        }
      ],
      "source": [
        "let obseg_pravokotnika a b =\n",
        "  2 * (a + b)"
      ]
    },
    {
      "cell_type": "code",
      "execution_count": null,
      "metadata": {
        "vscode": {
          "languageId": "ocaml"
        }
      },
      "outputs": [
        {
          "data": {
            "text/plain": [
              "- : int = 42\n"
            ]
          },
          "metadata": {},
          "output_type": "display_data"
        }
      ],
      "source": [
        "obseg_pravokotnika 6 15"
      ]
    },
    {
      "cell_type": "code",
      "execution_count": null,
      "metadata": {
        "vscode": {
          "languageId": "ocaml"
        }
      },
      "outputs": [
        {
          "data": {
            "text/plain": [
              "val povrsina_kvadra : int -> int -> int -> int = <fun>\n"
            ]
          },
          "metadata": {},
          "output_type": "display_data"
        }
      ],
      "source": [
        "let povrsina_kvadra a b c =\n",
        "  2 * (a * b + a * c + b * c)"
      ]
    },
    {
      "cell_type": "markdown",
      "metadata": {},
      "source": [
        "### Funkcije dveh argumentov so lahko **simboli**"
      ]
    },
    {
      "cell_type": "code",
      "execution_count": null,
      "metadata": {
        "vscode": {
          "languageId": "ocaml"
        }
      },
      "outputs": [
        {
          "data": {
            "text/plain": [
              "val ( // ) : int -> int -> int = <fun>\n"
            ]
          },
          "metadata": {},
          "output_type": "display_data"
        }
      ],
      "source": [
        "let ( // ) a b =\n",
        "  if a > b then a / b else b / a "
      ]
    },
    {
      "cell_type": "code",
      "execution_count": null,
      "metadata": {
        "vscode": {
          "languageId": "ocaml"
        }
      },
      "outputs": [
        {
          "data": {
            "text/plain": [
              "- : int = 40\n"
            ]
          },
          "metadata": {},
          "output_type": "display_data"
        }
      ],
      "source": [
        "120 // 3"
      ]
    },
    {
      "cell_type": "code",
      "execution_count": null,
      "metadata": {
        "vscode": {
          "languageId": "ocaml"
        }
      },
      "outputs": [
        {
          "data": {
            "text/plain": [
              "- : int = 40\n"
            ]
          },
          "metadata": {},
          "output_type": "display_data"
        }
      ],
      "source": [
        "3 // 120"
      ]
    },
    {
      "cell_type": "markdown",
      "metadata": {},
      "source": [
        "### Namesto zank uporabljamo **rekurzijo**\n"
      ]
    },
    {
      "cell_type": "markdown",
      "metadata": {},
      "source": [
        "Če želimo definirati rekurzivno funkcijo, jo moramo podati z `let rec`:"
      ]
    },
    {
      "cell_type": "code",
      "execution_count": null,
      "metadata": {
        "vscode": {
          "languageId": "ocaml"
        }
      },
      "outputs": [
        {
          "data": {
            "text/plain": [
              "val vsota_prvih : int -> int = <fun>\n"
            ]
          },
          "metadata": {},
          "output_type": "display_data"
        }
      ],
      "source": [
        "let rec vsota_prvih n =\n",
        "  if n = 0 then 0 else vsota_prvih (n - 1) + n"
      ]
    },
    {
      "cell_type": "code",
      "execution_count": null,
      "metadata": {
        "vscode": {
          "languageId": "ocaml"
        }
      },
      "outputs": [
        {
          "data": {
            "text/plain": [
              "- : int = 5050\n"
            ]
          },
          "metadata": {},
          "output_type": "display_data"
        }
      ],
      "source": [
        "vsota_prvih 100"
      ]
    },
    {
      "cell_type": "markdown",
      "metadata": {},
      "source": [
        "## Osnovni tipi"
      ]
    },
    {
      "cell_type": "markdown",
      "metadata": {},
      "source": [
        "Ena izmed največjih prednosti OCamla je njegov bogat in dovršen sistem tipov. Vsak pravilen program v OCamlu ima svoj tip, ki ga OCaml samodejno preveri pred vsakim izvajanjem, kar polovi ogromno napak."
      ]
    },
    {
      "cell_type": "markdown",
      "metadata": {},
      "source": [
        "### **Celim številom** priredimo tip `int`"
      ]
    },
    {
      "cell_type": "markdown",
      "metadata": {},
      "source": [
        "Cela števila pripadajo tipu `int`, z njimi pa delamo podobno kot v drugih jezikih:"
      ]
    },
    {
      "cell_type": "code",
      "execution_count": null,
      "metadata": {
        "vscode": {
          "languageId": "ocaml"
        }
      },
      "outputs": [],
      "source": [
        "12 * (34 + 67) - 89"
      ]
    },
    {
      "cell_type": "markdown",
      "metadata": {},
      "source": [
        "Za razliko od Pythona celoštevilsko delimo z `/`, ostanek pa izračunamo z `mod`:"
      ]
    },
    {
      "cell_type": "code",
      "execution_count": null,
      "metadata": {
        "vscode": {
          "languageId": "ocaml"
        }
      },
      "outputs": [],
      "source": [
        "1024 / 100"
      ]
    },
    {
      "cell_type": "code",
      "execution_count": null,
      "metadata": {
        "vscode": {
          "languageId": "ocaml"
        }
      },
      "outputs": [],
      "source": [
        "1024 mod 100"
      ]
    },
    {
      "cell_type": "markdown",
      "metadata": {},
      "source": [
        "### **Številom s plavajočo vejico** priredimo tip `float`"
      ]
    },
    {
      "cell_type": "markdown",
      "metadata": {},
      "source": [
        "Tipu `float` pripadajo števila s plavajočo vejico, ki jih pišemo kot drugod, razlika pa se pojavi pri operacijah, saj OCaml loči med operacijami na celih številih ter operacijami na številih s plavajočo vejico, ki se končajo s piko."
      ]
    },
    {
      "cell_type": "code",
      "execution_count": null,
      "metadata": {
        "vscode": {
          "languageId": "ocaml"
        }
      },
      "outputs": [],
      "source": [
        "12.0 *. (34.0 +. 67.0) -. 89.0"
      ]
    },
    {
      "cell_type": "code",
      "execution_count": null,
      "metadata": {
        "vscode": {
          "languageId": "ocaml"
        }
      },
      "outputs": [],
      "source": [
        "1024. /. 100."
      ]
    },
    {
      "cell_type": "code",
      "execution_count": null,
      "metadata": {
        "vscode": {
          "languageId": "ocaml"
        }
      },
      "outputs": [],
      "source": [
        "sqrt 2."
      ]
    },
    {
      "cell_type": "markdown",
      "metadata": {},
      "source": [
        "### OCaml **strogo** ločuje med tipoma `int` in `float`"
      ]
    },
    {
      "cell_type": "markdown",
      "metadata": {},
      "source": [
        " Kot smo že omenili, OCaml preverja ustreznost tipov, in tako na primer operacija `*` sprejme dva argumenta tipa `int` in `int` tudi vrne. Če ji damo argumente tipa `float`, se bo OCaml pritožil, saj med tema dvema tipoma strogo loči:"
      ]
    },
    {
      "cell_type": "code",
      "execution_count": null,
      "metadata": {
        "tags": [
          "raises-exception"
        ],
        "vscode": {
          "languageId": "ocaml"
        }
      },
      "outputs": [],
      "source": [
        "2 * 3.141592"
      ]
    },
    {
      "cell_type": "code",
      "execution_count": null,
      "metadata": {
        "vscode": {
          "languageId": "ocaml"
        }
      },
      "outputs": [],
      "source": [
        "float_of_int 10"
      ]
    },
    {
      "cell_type": "code",
      "execution_count": null,
      "metadata": {
        "vscode": {
          "languageId": "ocaml"
        }
      },
      "outputs": [],
      "source": [
        "int_of_float 3.141592"
      ]
    },
    {
      "cell_type": "markdown",
      "metadata": {},
      "source": [
        "### **Logičnim vrednostim** priredimo tip `bool`"
      ]
    },
    {
      "cell_type": "markdown",
      "metadata": {},
      "source": [
        "\n",
        "Tipu `bool` pripadajo logične vrednosti, kjer imamo na voljo obe logični konstanti ter običajne logične operacije, pri čemer konjunkcijo _in_ pišemo kot `&&`, disjunkcijo _ali_ pa kot `||`. Na voljo imamo tudi običajne relacije za primerjavo:"
      ]
    },
    {
      "cell_type": "code",
      "execution_count": null,
      "metadata": {
        "vscode": {
          "languageId": "ocaml"
        }
      },
      "outputs": [],
      "source": [
        "3 <= 8"
      ]
    },
    {
      "cell_type": "code",
      "execution_count": null,
      "metadata": {
        "vscode": {
          "languageId": "ocaml"
        }
      },
      "outputs": [],
      "source": [
        "3 <= 8 && 8 <= 6"
      ]
    },
    {
      "cell_type": "markdown",
      "metadata": {
        "vscode": {
          "languageId": "ocaml"
        }
      },
      "source": [
        "Logične vrednosti lahko uporabljamo v pogojnih izrazih:"
      ]
    },
    {
      "cell_type": "code",
      "execution_count": null,
      "metadata": {
        "vscode": {
          "languageId": "ocaml"
        }
      },
      "outputs": [],
      "source": [
        "let abs x =\n",
        "  if x < 0 then -x else x"
      ]
    },
    {
      "cell_type": "markdown",
      "metadata": {},
      "source": [
        "### **Nizom** priredimo tip `string`"
      ]
    },
    {
      "cell_type": "markdown",
      "metadata": {
        "vscode": {
          "languageId": "ocaml"
        }
      },
      "source": [
        "Nizi pripadajo tipu `string`, pišemo pa jih med dvojne narekovaje. Stikanje nizov je pogosta operacija, ki jo pišemo kot `^`:"
      ]
    },
    {
      "cell_type": "code",
      "execution_count": 2,
      "metadata": {
        "vscode": {
          "languageId": "ocaml"
        }
      },
      "outputs": [
        {
          "data": {
            "text/plain": [
              "val fun_prog : string = \"Funkcijsko programiranje\"\n"
            ]
          },
          "execution_count": 2,
          "metadata": {},
          "output_type": "execute_result"
        }
      ],
      "source": [
        "let fun_prog = \"Funkcijsko \" ^ \"programiranje\""
      ]
    },
    {
      "cell_type": "markdown",
      "metadata": {
        "vscode": {
          "languageId": "ocaml"
        }
      },
      "source": [
        "Na voljo imamo tudi funkcije za pretvorbo v nize in iz nizov, pri čemer slednje lahko sprožijo napako:"
      ]
    },
    {
      "cell_type": "code",
      "execution_count": 4,
      "metadata": {
        "vscode": {
          "languageId": "ocaml"
        }
      },
      "outputs": [
        {
          "data": {
            "text/plain": [
              "- : string = \"100\"\n"
            ]
          },
          "execution_count": 4,
          "metadata": {},
          "output_type": "execute_result"
        }
      ],
      "source": [
        "string_of_int 100\n"
      ]
    },
    {
      "cell_type": "code",
      "execution_count": 5,
      "metadata": {
        "vscode": {
          "languageId": "ocaml"
        }
      },
      "outputs": [
        {
          "data": {
            "text/plain": [
              "- : int = 100\n"
            ]
          },
          "execution_count": 5,
          "metadata": {},
          "output_type": "execute_result"
        }
      ],
      "source": [
        "int_of_string \"100\""
      ]
    },
    {
      "cell_type": "code",
      "execution_count": 6,
      "metadata": {
        "tags": [
          "raises-exception"
        ],
        "vscode": {
          "languageId": "ocaml"
        }
      },
      "outputs": [
        {
          "ename": "error",
          "evalue": "runtime_error",
          "output_type": "error",
          "traceback": [
            "\u001b[31mException: Failure \"int_of_string\".\nRaised by primitive operation at unknown location\nCalled from Stdlib__Fun.protect in file \"fun.ml\", line 33, characters 8-15\nRe-raised at Stdlib__Fun.protect in file \"fun.ml\", line 38, characters 6-52\nCalled from Topeval.load_lambda in file \"toplevel/byte/topeval.ml\", line 89, characters 4-150\n\u001b[0m"
          ]
        }
      ],
      "source": [
        "int_of_string \"sto\""
      ]
    },
    {
      "cell_type": "markdown",
      "metadata": {},
      "source": [
        "### Funkcije za delo z nizi se nahajajo v **modulu** `String`"
      ]
    },
    {
      "cell_type": "markdown",
      "metadata": {},
      "source": [
        "Več funkcij za delo z nizi najdemo v [standardni knjižnici](http://caml.inria.fr/pub/docs/manual-ocaml/libref/), ki je razdeljena na module, na primer:\n",
        "\n",
        "- osnovni modul [`Stdlib`](http://caml.inria.fr/pub/docs/manual-ocaml/libref/Stdlib.html), ki je vedno naložen in ga ni treba posebej navajati,\n",
        "- modul [`String`](http://caml.inria.fr/pub/docs/manual-ocaml/libref/String.html) za delo z nizi,\n",
        "- modul [`List`](http://caml.inria.fr/pub/docs/manual-ocaml/libref/List.html) za delo s seznami ali\n",
        "- modul [`Random`](http://caml.inria.fr/pub/docs/manual-ocaml/libref/Random.html) za delo s psevdonaključnimi vrednostmi.\n",
        "\n",
        "Do funkcij iz danega modula dostopamo prek zapisa `ImeModula.ime_funkcije`:"
      ]
    },
    {
      "cell_type": "code",
      "execution_count": null,
      "metadata": {
        "vscode": {
          "languageId": "ocaml"
        }
      },
      "outputs": [],
      "source": [
        "String.length fun_prog"
      ]
    },
    {
      "cell_type": "code",
      "execution_count": null,
      "metadata": {
        "vscode": {
          "languageId": "ocaml"
        }
      },
      "outputs": [],
      "source": [
        "String.cat \"Uvod v \" (String.lowercase_ascii fun_prog)"
      ]
    },
    {
      "cell_type": "code",
      "execution_count": null,
      "metadata": {
        "vscode": {
          "languageId": "ocaml"
        }
      },
      "outputs": [],
      "source": [
        "\"Uvod v \" ^ String.lowercase_ascii fun_prog"
      ]
    },
    {
      "cell_type": "markdown",
      "metadata": {},
      "source": [
        "### **Enotski tip** `unit` vsebuje samo eno vrednost"
      ]
    },
    {
      "cell_type": "markdown",
      "metadata": {},
      "source": [
        "V OCamlu imamo tudi enotski tip `unit`, ki vsebuje samo eno vrednost:"
      ]
    },
    {
      "cell_type": "code",
      "execution_count": 10,
      "metadata": {
        "vscode": {
          "languageId": "ocaml"
        }
      },
      "outputs": [
        {
          "data": {
            "text/plain": [
              "- : unit = ()\n"
            ]
          },
          "execution_count": 10,
          "metadata": {},
          "output_type": "execute_result"
        }
      ],
      "source": [
        "()"
      ]
    },
    {
      "cell_type": "markdown",
      "metadata": {},
      "source": [
        "Toda če je `()` edina vrednost svojega tipa, kakšen je njen namen, saj ne nosi nobene informacije?"
      ]
    },
    {
      "cell_type": "markdown",
      "metadata": {},
      "source": [
        "### Tip `unit` uporabljamo v funkcijah, ki sprožajo **stranske učinke**."
      ]
    },
    {
      "cell_type": "markdown",
      "metadata": {},
      "source": [
        "Poglejmo si najprej funkcijo `Random.int`, ki za argument sprejme celo število `n` in vrne naključno število med `0` in `n - 1`:"
      ]
    },
    {
      "cell_type": "code",
      "execution_count": 21,
      "metadata": {
        "vscode": {
          "languageId": "ocaml"
        }
      },
      "outputs": [
        {
          "data": {
            "text/plain": [
              "- : int = 3\n"
            ]
          },
          "execution_count": 21,
          "metadata": {},
          "output_type": "execute_result"
        }
      ],
      "source": [
        "Random.int 6"
      ]
    },
    {
      "cell_type": "markdown",
      "metadata": {},
      "source": [
        "Podobno kot si lahko izberemo naključno število, lahko izberemo tudi naključno logično vrednost s pomočjo funkcije `Random.bool`. Toda `Random.bool` ne potrebuje nobenega argumenta, ki bi določal množico vrednosti, med katerimi izbiramo. Toda funkcijo moramo vseeno poklicati na nekem argumentu, zato v tem primeru uporabimo `()`:"
      ]
    },
    {
      "cell_type": "code",
      "execution_count": 25,
      "metadata": {
        "vscode": {
          "languageId": "ocaml"
        }
      },
      "outputs": [
        {
          "data": {
            "text/plain": [
              "- : bool = false\n"
            ]
          },
          "execution_count": 25,
          "metadata": {},
          "output_type": "execute_result"
        }
      ],
      "source": [
        "Random.bool ()"
      ]
    },
    {
      "cell_type": "markdown",
      "metadata": {},
      "source": [
        "Podobno lahko s funkcijo `print_endline` na zaslon izpišemo podani niz. Toda izpisani niz ni rezultat, ki bi ga vrnila funkcija, temveč njen _stranski učinek_. A vsaka funkcija mora imeti rezultat, zato v tem primeru zopet vrnemo `()`:"
      ]
    },
    {
      "cell_type": "code",
      "execution_count": 26,
      "metadata": {
        "vscode": {
          "languageId": "ocaml"
        }
      },
      "outputs": [
        {
          "name": "stdout",
          "output_type": "stream",
          "text": [
            "Hello, world!\n"
          ]
        },
        {
          "data": {
            "text/plain": [
              "- : unit = ()\n"
            ]
          },
          "execution_count": 26,
          "metadata": {},
          "output_type": "execute_result"
        }
      ],
      "source": [
        "print_endline \"Hello, world!\""
      ]
    },
    {
      "cell_type": "markdown",
      "metadata": {},
      "source": [
        "Vidimo, da OCaml najprej izpiše niz, nato pa vrne `()`."
      ]
    },
    {
      "cell_type": "markdown",
      "metadata": {},
      "source": [
        "### Posameznim **znakom** priredimo tip `char`"
      ]
    },
    {
      "cell_type": "markdown",
      "metadata": {},
      "source": [
        "Tipu `char` pripadajo posamezni znaki, ki jih pišemo med enojne narekovaje."
      ]
    },
    {
      "cell_type": "code",
      "execution_count": null,
      "metadata": {
        "vscode": {
          "languageId": "ocaml"
        }
      },
      "outputs": [],
      "source": [
        "'a'"
      ]
    },
    {
      "cell_type": "markdown",
      "metadata": {
        "vscode": {
          "languageId": "ocaml"
        }
      },
      "source": [
        "Funkcije za delo z znaki so na voljo v modulu `Char`. Dva primera sta funkciji `code`, ki znak pretvori v njegovo ASCII kodo, ter `chr`, ki naredi ravno obratno."
      ]
    },
    {
      "cell_type": "code",
      "execution_count": null,
      "metadata": {
        "vscode": {
          "languageId": "ocaml"
        }
      },
      "outputs": [],
      "source": [
        "Char.code 'x'"
      ]
    },
    {
      "cell_type": "code",
      "execution_count": null,
      "metadata": {
        "vscode": {
          "languageId": "ocaml"
        }
      },
      "outputs": [],
      "source": [
        "Char.code 'y'"
      ]
    },
    {
      "cell_type": "code",
      "execution_count": null,
      "metadata": {
        "vscode": {
          "languageId": "ocaml"
        }
      },
      "outputs": [],
      "source": [
        "Char.chr 122"
      ]
    },
    {
      "cell_type": "markdown",
      "metadata": {
        "vscode": {
          "languageId": "ocaml"
        }
      },
      "source": [
        "### Primer: Cezarjeva šifra"
      ]
    },
    {
      "cell_type": "markdown",
      "metadata": {
        "vscode": {
          "languageId": "ocaml"
        }
      },
      "source": [
        "Za malo večji primer si oglejmo Cezarjevo šifro, ki je ena najstarejših šifrirnih tehnik. Pri Cezarjevi šifri vsak znak zamenjamo z ustrezno zamaknjenim znakom v abecedi. Na primer, pri zamiku 10 bi `A` zamenjali s `K`, `B` z `L` in tako naprej. Cezarjev znameniti citat \"Veni, vidi, vici\" bi tako postal \"Foxs, fsns, fsms\"."
      ]
    },
    {
      "cell_type": "markdown",
      "metadata": {},
      "source": [
        "    ABCDEFGHIJKLMNOPQRSTUVWXYZ    VENI, VIDI, VICI\n",
        "    KLMNOPQRSTUVWXYZABCDEFGHIJ    FOXS, FSNS, FSMS"
      ]
    },
    {
      "cell_type": "markdown",
      "metadata": {
        "vscode": {
          "languageId": "ocaml"
        }
      },
      "source": [
        "Najprej napišimo funkcijo, ki zamakne en sam znak. Pri tem menjamo samo velike tiskane črke, ostale znake (npr. ločila in presledke) pa pustimo nespremenjene."
      ]
    },
    {
      "cell_type": "code",
      "execution_count": 27,
      "metadata": {
        "vscode": {
          "languageId": "ocaml"
        }
      },
      "outputs": [
        {
          "data": {
            "text/plain": [
              "val cezarjeva_sifra : int -> char -> char = <fun>\n"
            ]
          },
          "execution_count": 27,
          "metadata": {},
          "output_type": "execute_result"
        }
      ],
      "source": [
        "let cezarjeva_sifra zamik znak =\n",
        "  if 'A' <= znak && znak <= 'Z' then\n",
        "    let mesto_znaka = Char.code znak - Char.code 'A' in\n",
        "    let novo_mesto = (mesto_znaka + zamik) mod 26 in\n",
        "    Char.chr (Char.code 'A' + novo_mesto)\n",
        "  else\n",
        "    znak"
      ]
    },
    {
      "cell_type": "code",
      "execution_count": 28,
      "metadata": {
        "vscode": {
          "languageId": "ocaml"
        }
      },
      "outputs": [
        {
          "data": {
            "text/plain": [
              "- : char = 'B'\n"
            ]
          },
          "execution_count": 28,
          "metadata": {},
          "output_type": "execute_result"
        }
      ],
      "source": [
        "cezarjeva_sifra 10 'R'"
      ]
    },
    {
      "cell_type": "markdown",
      "metadata": {},
      "source": [
        "Šifriranje celotnega niza enostavno naredimo tako, da s pomočjo funkcije `String.map` funkcijo za šifriranje znaka uporabimo na vsakem znaku posebej."
      ]
    },
    {
      "cell_type": "code",
      "execution_count": 29,
      "metadata": {
        "vscode": {
          "languageId": "ocaml"
        }
      },
      "outputs": [
        {
          "data": {
            "text/plain": [
              "val zasifriraj : int -> string -> string = <fun>\n"
            ]
          },
          "execution_count": 29,
          "metadata": {},
          "output_type": "execute_result"
        }
      ],
      "source": [
        "let zasifriraj zamik niz =\n",
        "    let zasifriraj_znak znak = cezarjeva_sifra zamik znak in\n",
        "    String.map zasifriraj_znak niz"
      ]
    },
    {
      "cell_type": "code",
      "execution_count": 30,
      "metadata": {
        "vscode": {
          "languageId": "ocaml"
        }
      },
      "outputs": [
        {
          "data": {
            "text/plain": [
              "- : string = \"FOXS, FSNS, FSMS\"\n"
            ]
          },
          "execution_count": 30,
          "metadata": {},
          "output_type": "execute_result"
        }
      ],
      "source": [
        "zasifriraj 10 \"VENI, VIDI, VICI\""
      ]
    },
    {
      "cell_type": "markdown",
      "metadata": {},
      "source": [
        "Sporočilo lahko odšifriramo tako, da uporabimo ravno obratni zamik."
      ]
    },
    {
      "cell_type": "code",
      "execution_count": 32,
      "metadata": {
        "vscode": {
          "languageId": "ocaml"
        }
      },
      "outputs": [
        {
          "data": {
            "text/plain": [
              "- : string = \"VENI, VIDI, VICI\"\n"
            ]
          },
          "execution_count": 32,
          "metadata": {},
          "output_type": "execute_result"
        }
      ],
      "source": [
        "zasifriraj (26 - 10) \"FOXS, FSNS, FSMS\""
      ]
    },
    {
      "cell_type": "markdown",
      "metadata": {},
      "source": [
        "## Funkcijski tipi"
      ]
    },
    {
      "cell_type": "markdown",
      "metadata": {},
      "source": [
        "### **Funkcijam** priredimo tip oblike <code>tip<sub>arg</sub> -> tip<sub>rez</sub></code>"
      ]
    },
    {
      "cell_type": "markdown",
      "metadata": {
        "vscode": {
          "languageId": "ocaml"
        }
      },
      "source": [
        "Vsaka vrednost v OCamlu ima svoj tip, tudi funkcije. Tip funkcije je oblike <code>tip<sub>arg</sub> -> tip<sub>rez</sub></code>, kjer je <code>tip<sub>arg</sub></code> tip argumenta funkcije, <code>tip<sub>rez</sub></code> pa tip njenega rezultata. Na primer `float_of_int` vzame `int` in vrne `float`:\n"
      ]
    },
    {
      "cell_type": "code",
      "execution_count": 1,
      "metadata": {
        "vscode": {
          "languageId": "ocaml"
        }
      },
      "outputs": [
        {
          "data": {
            "text/plain": [
              "- : int -> float = <fun>\n"
            ]
          },
          "execution_count": 1,
          "metadata": {},
          "output_type": "execute_result"
        }
      ],
      "source": [
        "float_of_int"
      ]
    },
    {
      "cell_type": "markdown",
      "metadata": {
        "vscode": {
          "languageId": "ocaml"
        }
      },
      "source": [
        "Podobno je z ostalimi funkcijami, ki smo jih spoznali:"
      ]
    },
    {
      "cell_type": "code",
      "execution_count": 2,
      "metadata": {
        "vscode": {
          "languageId": "ocaml"
        }
      },
      "outputs": [
        {
          "data": {
            "text/plain": [
              "- : float -> int = <fun>\n"
            ]
          },
          "execution_count": 2,
          "metadata": {},
          "output_type": "execute_result"
        }
      ],
      "source": [
        "int_of_float"
      ]
    },
    {
      "cell_type": "code",
      "execution_count": 3,
      "metadata": {
        "vscode": {
          "languageId": "ocaml"
        }
      },
      "outputs": [
        {
          "data": {
            "text/plain": [
              "- : string -> int = <fun>\n"
            ]
          },
          "execution_count": 3,
          "metadata": {},
          "output_type": "execute_result"
        }
      ],
      "source": [
        "String.length"
      ]
    },
    {
      "cell_type": "code",
      "execution_count": 4,
      "metadata": {
        "vscode": {
          "languageId": "ocaml"
        }
      },
      "outputs": [
        {
          "data": {
            "text/plain": [
              "- : string -> unit = <fun>\n"
            ]
          },
          "execution_count": 4,
          "metadata": {},
          "output_type": "execute_result"
        }
      ],
      "source": [
        "print_endline"
      ]
    },
    {
      "cell_type": "markdown",
      "metadata": {},
      "source": [
        "Prisotnost tipa `unit` v argumentih ali rezultatih funkcije nakazuje, da se bodo najverjetneje zgodili učinki, saj ni razloga, da bi funkcija izračunala samo trivialni rezultat `()`. Podobno funkcija iz prazne vrednosti `()` težko izračuna kaj zanimivega."
      ]
    },
    {
      "cell_type": "markdown",
      "metadata": {},
      "source": [
        "### Funkcije imajo lahko tudi **več argumentov**"
      ]
    },
    {
      "cell_type": "markdown",
      "metadata": {
        "vscode": {
          "languageId": "ocaml"
        }
      },
      "source": [
        "Podoben tip imajo tudi funkcije več argumentov:"
      ]
    },
    {
      "cell_type": "code",
      "execution_count": 5,
      "metadata": {
        "vscode": {
          "languageId": "ocaml"
        }
      },
      "outputs": [
        {
          "data": {
            "text/plain": [
              "val zmnozi : int -> int -> int = <fun>\n"
            ]
          },
          "execution_count": 5,
          "metadata": {},
          "output_type": "execute_result"
        }
      ],
      "source": [
        "let zmnozi x y = x * y"
      ]
    },
    {
      "cell_type": "markdown",
      "metadata": {},
      "source": [
        "Funkcija `zmnozi` sprejme dve celi števili tipa `int` in vrne njun produkt, ki je ravno tako tipa `int`. Podobno funkcija `String.cat` sprejme dva niza vrne njun stik."
      ]
    },
    {
      "cell_type": "code",
      "execution_count": 33,
      "metadata": {
        "vscode": {
          "languageId": "ocaml"
        }
      },
      "outputs": [
        {
          "data": {
            "text/plain": [
              "- : string -> string -> string = <fun>\n"
            ]
          },
          "execution_count": 33,
          "metadata": {},
          "output_type": "execute_result"
        }
      ],
      "source": [
        "String.cat"
      ]
    },
    {
      "cell_type": "markdown",
      "metadata": {},
      "source": [
        "Seveda ni treba, da so vsi tipi enaki. Funkcija `cezarjeva_sifra`, ki smo jo spoznali malo prej, vzame zamik tipa `int` in znak tipa `char` ter vrne zašifrirani znak, ki je ravno tako tipa `char`."
      ]
    },
    {
      "cell_type": "code",
      "execution_count": 34,
      "metadata": {
        "vscode": {
          "languageId": "ocaml"
        }
      },
      "outputs": [
        {
          "data": {
            "text/plain": [
              "val cezarjeva_sifra : int -> char -> char = <fun>\n"
            ]
          },
          "execution_count": 34,
          "metadata": {},
          "output_type": "execute_result"
        }
      ],
      "source": [
        "let cezarjeva_sifra zamik znak =\n",
        "  if 'A' <= znak && znak <= 'Z' then\n",
        "    let mesto_znaka = Char.code znak - Char.code 'A' in\n",
        "    let novo_mesto = (mesto_znaka + zamik) mod 26 in\n",
        "    Char.chr (Char.code 'A' + novo_mesto)\n",
        "  else\n",
        "    znak"
      ]
    },
    {
      "cell_type": "markdown",
      "metadata": {},
      "source": [
        "### Funkcije z več argumenti lahko tudi **delno uporabimo**"
      ]
    },
    {
      "cell_type": "markdown",
      "metadata": {},
      "source": [
        "Najpomembnejša lastnost funkcij, ki sprejmejo več argumentov, je ta, da jih lahko tudi delno uporabimo tako, da jim podamo samo nekaj argumentov. Za primer vzemimo funkcijo `zasifriraj`, ki sprejme zamik in niz ter vrne zasifriran niz:"
      ]
    },
    {
      "cell_type": "code",
      "execution_count": 35,
      "metadata": {
        "vscode": {
          "languageId": "ocaml"
        }
      },
      "outputs": [
        {
          "data": {
            "text/plain": [
              "val zasifriraj : int -> string -> string = <fun>\n"
            ]
          },
          "execution_count": 35,
          "metadata": {},
          "output_type": "execute_result"
        }
      ],
      "source": [
        "let zasifriraj zamik niz =\n",
        "  let zasifriraj_znak znak = cezarjeva_sifra zamik znak in\n",
        "  String.map zasifriraj_znak niz"
      ]
    },
    {
      "cell_type": "markdown",
      "metadata": {},
      "source": [
        "Če funkciji podamo samo zamik, ne dobimo napake, kot bi jo v večini programskih jezikov, temveč funkcijo, ki čaka še na drugi argument:"
      ]
    },
    {
      "cell_type": "code",
      "execution_count": 37,
      "metadata": {
        "vscode": {
          "languageId": "ocaml"
        }
      },
      "outputs": [
        {
          "data": {
            "text/plain": [
              "val rot13 : string -> string = <fun>\n"
            ]
          },
          "execution_count": 37,
          "metadata": {},
          "output_type": "execute_result"
        }
      ],
      "source": [
        "let rot13 = zasifriraj 13"
      ]
    },
    {
      "cell_type": "markdown",
      "metadata": {},
      "source": [
        "V tem primeru uporabimo zamik 13 in dobimo funkcijo, ki vsak niz zašifrira z zamikom 13. Ta zamik je poseben, saj je sam svoj obrat, zato lahko isto funkcijo uporabimo za šifriranje in odšifriranje."
      ]
    },
    {
      "cell_type": "code",
      "execution_count": 38,
      "metadata": {
        "vscode": {
          "languageId": "ocaml"
        }
      },
      "outputs": [
        {
          "data": {
            "text/plain": [
              "- : string = \"IRAV, IVQV, IVPV\"\n"
            ]
          },
          "execution_count": 38,
          "metadata": {},
          "output_type": "execute_result"
        }
      ],
      "source": [
        "rot13 \"VENI, VIDI, VICI\""
      ]
    },
    {
      "cell_type": "code",
      "execution_count": 39,
      "metadata": {
        "vscode": {
          "languageId": "ocaml"
        }
      },
      "outputs": [
        {
          "data": {
            "text/plain": [
              "- : string = \"VENI, VIDI, VICI\"\n"
            ]
          },
          "execution_count": 39,
          "metadata": {},
          "output_type": "execute_result"
        }
      ],
      "source": [
        "rot13 \"IRAV, IVQV, IVPV\""
      ]
    },
    {
      "cell_type": "markdown",
      "metadata": {},
      "source": [
        "Takim funkcijam več argumentov pravimo, da so **curryrane**. Imenujejo se po logiku ([Haskellu Brooksu Curryju](https://en.wikipedia.org/wiki/Haskell_Curry), 1900–1982), ki je bil eden prvih raziskovalcev idej, na katerih temeljijo funkcijski jeziki. Na curryrane funkcije dveh argumentov lahko gledamo kot na funkcije _enega_ argumenta (prvega), ki vrnejo funkcijo _enega_ argumenta (drugega). Ko ta funkcija dobi še drugi argument, ima na voljo vse, kar potrebuje, in lahko izračuna končno vrednost."
      ]
    },
    {
      "cell_type": "markdown",
      "metadata": {},
      "source": [
        "### Delna uporaba omogoča precej **krajše programe**"
      ]
    },
    {
      "cell_type": "markdown",
      "metadata": {},
      "source": [
        "Z delno uporabo lahko programe precej skrajšamo. Za primer si spet oglejmo funkcijo `zasifriraj`."
      ]
    },
    {
      "cell_type": "code",
      "execution_count": null,
      "metadata": {
        "vscode": {
          "languageId": "ocaml"
        }
      },
      "outputs": [],
      "source": [
        "let zasifriraj zamik niz =\n",
        "  let zasifriraj_znak znak = cezarjeva_sifra zamik znak in\n",
        "  String.map zasifriraj_znak niz"
      ]
    },
    {
      "cell_type": "markdown",
      "metadata": {},
      "source": [
        "V njej smo uporabili pomožno funkcijo `zasifriraj_znak : char -> char`, ki znak zašifrira z poprej podanim zamikom. Ta funkcija se obnaša tako, kot da funkciji `cezarjeva_sifra` podali samo zamik. Zato lahko zgornjo vrstico na krajše napišemo kot:"
      ]
    },
    {
      "cell_type": "code",
      "execution_count": null,
      "metadata": {
        "vscode": {
          "languageId": "ocaml"
        }
      },
      "outputs": [],
      "source": [
        "let zasifriraj zamik niz =\n",
        "  let zasifriraj_znak = cezarjeva_sifra zamik in\n",
        "  String.map zasifriraj_znak niz"
      ]
    },
    {
      "cell_type": "markdown",
      "metadata": {
        "vscode": {
          "languageId": "ocaml"
        }
      },
      "source": [
        "Ker je definicija `zasifriraj_znak` precej preprosta, jo lahko vstavimo kar neposredno:"
      ]
    },
    {
      "cell_type": "code",
      "execution_count": null,
      "metadata": {
        "vscode": {
          "languageId": "ocaml"
        }
      },
      "outputs": [],
      "source": [
        "let zasifriraj zamik niz =\n",
        "  String.map (cezarjeva_sifra zamik) niz"
      ]
    },
    {
      "cell_type": "markdown",
      "metadata": {},
      "source": [
        "Tudi `String.map` lahko delno uporabimo tako, da ji podamo samo funkcijo, ki jo želimo uporabiti na vsakem znaku, in nazaj dobimo funkcijo iz nizov v nize:"
      ]
    },
    {
      "cell_type": "code",
      "execution_count": null,
      "metadata": {
        "vscode": {
          "languageId": "ocaml"
        }
      },
      "outputs": [],
      "source": [
        "let zasifriraj zamik =\n",
        "  String.map (cezarjeva_sifra zamik)"
      ]
    },
    {
      "cell_type": "markdown",
      "metadata": {},
      "source": [
        "Končna definicija je precej bolj jedrnata: na vsakem znaku uporabi cezarjevo šifro z danim zamikom. Ko se bomo navadili na osnovne tehnike funkcijskega programiranja, bo taka definicija tudi bolj pregledna."
      ]
    },
    {
      "cell_type": "markdown",
      "metadata": {},
      "source": [
        "### Funkcije **višjega reda** za argumente sprejemajo druge funkcije"
      ]
    },
    {
      "cell_type": "markdown",
      "metadata": {
        "vscode": {
          "languageId": "ocaml"
        }
      },
      "source": [
        "Funkcije so lahko tudi argumenti drugih funkcij. Na primer funkcija `String.exists` sprejme funkcijo tipa `char -> bool` in niz ter vrne `true`, če funkcija najde znak, za katerega je funkcija resnična. Na primer, če gledamo, ali niz vsebuje samoglasnik, lahko definiramo:"
      ]
    },
    {
      "cell_type": "code",
      "execution_count": null,
      "metadata": {
        "vscode": {
          "languageId": "ocaml"
        }
      },
      "outputs": [],
      "source": [
        "let je_samoglasnik znak =\n",
        "  String.contains \"aeiou\" (Char.lowercase_ascii znak)"
      ]
    },
    {
      "cell_type": "code",
      "execution_count": null,
      "metadata": {
        "vscode": {
          "languageId": "ocaml"
        }
      },
      "outputs": [],
      "source": [
        "je_samoglasnik 'A'"
      ]
    },
    {
      "cell_type": "markdown",
      "metadata": {
        "vscode": {
          "languageId": "ocaml"
        }
      },
      "source": [
        "Če bi radi vedeli, ali `niz` vsebuje samoglasnik, bi lahko napisali `String.exists je_samoglasnik niz`. Z delno uporabo pa lahko napišemo kar:"
      ]
    },
    {
      "cell_type": "code",
      "execution_count": null,
      "metadata": {
        "vscode": {
          "languageId": "ocaml"
        }
      },
      "outputs": [],
      "source": [
        "let vsebuje_samoglasnik =\n",
        "  String.exists je_samoglasnik"
      ]
    },
    {
      "cell_type": "code",
      "execution_count": null,
      "metadata": {
        "vscode": {
          "languageId": "ocaml"
        }
      },
      "outputs": [],
      "source": [
        "vsebuje_samoglasnik \"čmrlj\""
      ]
    },
    {
      "cell_type": "markdown",
      "metadata": {},
      "source": [
        "Tudi tip funkcije `String.exists` kaže, da sprejme dva argumenta: funkcijo tipa `char -> bool` in niz `string`."
      ]
    },
    {
      "cell_type": "code",
      "execution_count": 4,
      "metadata": {
        "vscode": {
          "languageId": "ocaml"
        }
      },
      "outputs": [
        {
          "data": {
            "text/plain": [
              "- : (char -> bool) -> string -> bool = <fun>\n"
            ]
          },
          "execution_count": 4,
          "metadata": {},
          "output_type": "execute_result"
        }
      ],
      "source": [
        "String.exists"
      ]
    },
    {
      "cell_type": "markdown",
      "metadata": {},
      "source": [
        "Pri tem je treba biti pozoren na postavitev oklepajev. Če bi jih izpustili, bi dobili tip `char -> bool -> string -> bool`, kar pa je funkcija, ki sprejme tri argumente, znak `char`, logično vrednost `bool` in niz `string`."
      ]
    },
    {
      "cell_type": "markdown",
      "metadata": {},
      "source": [
        "### V funkcijskih tipih je **postavitev oklepajev** pomembna"
      ]
    },
    {
      "cell_type": "markdown",
      "metadata": {},
      "source": [
        "Poglejmo si še en primer dveh na videz podobnih, po pomenu pa različnih tipov. Funkcija `String.make` sprejme vrne niz dane dolžine, sestavljen iz danega znaka:"
      ]
    },
    {
      "cell_type": "code",
      "execution_count": 5,
      "metadata": {
        "vscode": {
          "languageId": "ocaml"
        }
      },
      "outputs": [
        {
          "data": {
            "text/plain": [
              "- : int -> char -> string = <fun>\n"
            ]
          },
          "execution_count": 5,
          "metadata": {},
          "output_type": "execute_result"
        }
      ],
      "source": [
        "String.make"
      ]
    },
    {
      "cell_type": "code",
      "execution_count": 6,
      "metadata": {
        "vscode": {
          "languageId": "ocaml"
        }
      },
      "outputs": [
        {
          "data": {
            "text/plain": [
              "- : string = \"**********\"\n"
            ]
          },
          "execution_count": 6,
          "metadata": {},
          "output_type": "execute_result"
        }
      ],
      "source": [
        "String.make 10 '*'"
      ]
    },
    {
      "cell_type": "markdown",
      "metadata": {},
      "source": [
        "Funkcija `String.init` pa podobno sprejme dolžino niza, a namesto znaka sprejme funkcijo, ki ji poda indeks znaka, ki ga mora vrniti:"
      ]
    },
    {
      "cell_type": "code",
      "execution_count": 7,
      "metadata": {
        "vscode": {
          "languageId": "ocaml"
        }
      },
      "outputs": [
        {
          "data": {
            "text/plain": [
              "- : int -> (int -> char) -> string = <fun>\n"
            ]
          },
          "execution_count": 7,
          "metadata": {},
          "output_type": "execute_result"
        }
      ],
      "source": [
        "String.init"
      ]
    },
    {
      "cell_type": "code",
      "execution_count": 9,
      "metadata": {
        "vscode": {
          "languageId": "ocaml"
        }
      },
      "outputs": [
        {
          "data": {
            "text/plain": [
              "- : (int -> char) -> string = <fun>\n"
            ]
          },
          "execution_count": 9,
          "metadata": {},
          "output_type": "execute_result"
        }
      ],
      "source": [
        "String.init 10"
      ]
    },
    {
      "cell_type": "markdown",
      "metadata": {},
      "source": [
        "Za primer funkcije, ki iz števila naredi znak, vzemimo ustrezno zaporedno črko angleške abecede:"
      ]
    },
    {
      "cell_type": "code",
      "execution_count": 8,
      "metadata": {
        "vscode": {
          "languageId": "ocaml"
        }
      },
      "outputs": [
        {
          "data": {
            "text/plain": [
              "val crka_abecede : int -> char = <fun>\n"
            ]
          },
          "execution_count": 8,
          "metadata": {},
          "output_type": "execute_result"
        }
      ],
      "source": [
        "let crka_abecede n = Char.chr (Char.code 'a' + n)"
      ]
    },
    {
      "cell_type": "markdown",
      "metadata": {},
      "source": [
        "Sedaj lahko sestavimo celotno abecedo:"
      ]
    },
    {
      "cell_type": "code",
      "execution_count": 40,
      "metadata": {
        "vscode": {
          "languageId": "ocaml"
        }
      },
      "outputs": [
        {
          "data": {
            "text/plain": [
              "- : string = \"abcdefghijklmnopqrstuvwxyz\"\n"
            ]
          },
          "execution_count": 40,
          "metadata": {},
          "output_type": "execute_result"
        }
      ],
      "source": [
        "String.init 26 crka_abecede"
      ]
    },
    {
      "cell_type": "markdown",
      "metadata": {},
      "source": [
        "### Kratke funkcije lahko pišemo tudi **anonimno**"
      ]
    },
    {
      "cell_type": "markdown",
      "metadata": {},
      "source": [
        "Napišimo funkcijo, ki vrne prezrcaljen niz:"
      ]
    },
    {
      "cell_type": "code",
      "execution_count": 41,
      "metadata": {
        "vscode": {
          "languageId": "ocaml"
        }
      },
      "outputs": [
        {
          "data": {
            "text/plain": [
              "val zrcali : string -> string = <fun>\n"
            ]
          },
          "execution_count": 41,
          "metadata": {},
          "output_type": "execute_result"
        }
      ],
      "source": [
        "let zrcali niz =\n",
        "  let n = String.length niz in\n",
        "  let znak_na_zrcalnem_mestu i = String.get niz (n - i - 1) in\n",
        "  String.init n znak_na_zrcalnem_mestu"
      ]
    },
    {
      "cell_type": "code",
      "execution_count": 42,
      "metadata": {
        "vscode": {
          "languageId": "ocaml"
        }
      },
      "outputs": [
        {
          "data": {
            "text/plain": [
              "- : string = \"per icar ezer acirep\"\n"
            ]
          },
          "execution_count": 42,
          "metadata": {},
          "output_type": "execute_result"
        }
      ],
      "source": [
        "zrcali \"perica reze raci rep\""
      ]
    },
    {
      "cell_type": "markdown",
      "metadata": {},
      "source": [
        "Včasih majhnih funkcij kot je zgornja ni smiselno poimenovati. Veliko pisanja si prihranimo z uporabo _anonimnih_, torej nepoimenovanih funkcij, ki so oblike `fun arg -> ...`. Na primer, zgornjo funkcijo bi lahko napisali preprosto kot:"
      ]
    },
    {
      "cell_type": "code",
      "execution_count": 43,
      "metadata": {
        "vscode": {
          "languageId": "ocaml"
        }
      },
      "outputs": [
        {
          "data": {
            "text/plain": [
              "val zrcali : string -> string = <fun>\n"
            ]
          },
          "execution_count": 43,
          "metadata": {},
          "output_type": "execute_result"
        }
      ],
      "source": [
        "let zrcali niz =\n",
        "  let n = String.length niz in\n",
        "  String.init n (fun i -> String.get niz (n - i - 1))"
      ]
    },
    {
      "cell_type": "markdown",
      "metadata": {},
      "source": [
        "ki deluje enako kot zgornja definicija, le da nam pomožne funkcije ni bilo treba poimenovati. Še en primer je funkcija, ki preveri, ali so vsi znaki v nizu števke:"
      ]
    },
    {
      "cell_type": "code",
      "execution_count": 44,
      "metadata": {
        "vscode": {
          "languageId": "ocaml"
        }
      },
      "outputs": [
        {
          "data": {
            "text/plain": [
              "val je_stevilo : string -> bool = <fun>\n"
            ]
          },
          "execution_count": 44,
          "metadata": {},
          "output_type": "execute_result"
        }
      ],
      "source": [
        "let je_stevilo niz =\n",
        "  String.for_all (fun znak -> '0' <= znak && znak <= '9') niz"
      ]
    },
    {
      "cell_type": "markdown",
      "metadata": {},
      "source": [
        "## Sestavljeni tipi"
      ]
    },
    {
      "cell_type": "markdown",
      "metadata": {},
      "source": [
        "### Več vrednosti istega tipa združujemo v **sezname**"
      ]
    },
    {
      "cell_type": "markdown",
      "metadata": {},
      "source": [
        "Poleg preprostih vrednosti poznamo tudi sestavljene."
      ]
    },
    {
      "cell_type": "markdown",
      "metadata": {
        "vscode": {
          "languageId": "ocaml"
        }
      },
      "source": [
        "Sezname v OCamlu pišemo med oglate oklepaje, vrednosti pa ločimo s podpičji. Vse vrednosti v seznamih morajo biti enakega tipa, seznam pa ima potem tip oblike <code>tip<sub>el</sub> list</code>, kjer je <code>tip<sub>el</sub></code> tip komponent."
      ]
    },
    {
      "cell_type": "code",
      "execution_count": null,
      "metadata": {
        "vscode": {
          "languageId": "ocaml"
        }
      },
      "outputs": [],
      "source": [
        "[1; 2; 3; 4]"
      ]
    },
    {
      "cell_type": "code",
      "execution_count": null,
      "metadata": {
        "vscode": {
          "languageId": "ocaml"
        }
      },
      "outputs": [],
      "source": [
        "['a'; 'b'; 'c'; 'd']"
      ]
    },
    {
      "cell_type": "markdown",
      "metadata": {
        "vscode": {
          "languageId": "ocaml"
        }
      },
      "source": [
        "Sezname sestavljamo z dvema operacijama. Z `::` sestavimo nov seznam z dano glavo in repom:"
      ]
    },
    {
      "cell_type": "code",
      "execution_count": null,
      "metadata": {
        "vscode": {
          "languageId": "ocaml"
        }
      },
      "outputs": [],
      "source": [
        "\"a\" :: \"b\" :: [\"c\"; \"d\"]"
      ]
    },
    {
      "cell_type": "markdown",
      "metadata": {},
      "source": [
        "Kasneje bomo videli, da ima `::` prav posebno vlogo, saj je tako imenovani _konstruktor_ seznamov. Vsak neprazen seznam je namreč prek `::` sestavljen iz glave in repa. Tudi `[1; 2; 3; 4]` je v resnici samo okrajšava za `1 :: (2 :: (3 :: (4 :: []))))`.\n",
        "\n",
        "Če želimo stakniti dva seznama, pa uporabimo operator `@`."
      ]
    },
    {
      "cell_type": "code",
      "execution_count": 45,
      "metadata": {
        "vscode": {
          "languageId": "ocaml"
        }
      },
      "outputs": [
        {
          "data": {
            "text/plain": [
              "- : int list = [1; 2; 3; 4; 5; 6]\n"
            ]
          },
          "execution_count": 45,
          "metadata": {},
          "output_type": "execute_result"
        }
      ],
      "source": [
        "[1; 2; 3] @ [4; 5; 6]"
      ]
    },
    {
      "cell_type": "code",
      "execution_count": 46,
      "metadata": {
        "vscode": {
          "languageId": "ocaml"
        }
      },
      "outputs": [
        {
          "data": {
            "text/plain": [
              "- : string list = [\"Uvod\"; \"v\"; \"funkcijsko\"; \"programiranje\"]\n"
            ]
          },
          "execution_count": 46,
          "metadata": {},
          "output_type": "execute_result"
        }
      ],
      "source": [
        "String.split_on_char ' ' \"Uvod v funkcijsko programiranje\""
      ]
    },
    {
      "cell_type": "markdown",
      "metadata": {},
      "source": [
        "### **Najkoristnejše funkcije** za delo s seznami so v modulu `List`"
      ]
    },
    {
      "cell_type": "code",
      "execution_count": null,
      "metadata": {
        "vscode": {
          "languageId": "ocaml"
        }
      },
      "outputs": [],
      "source": [
        "List.map String.length [\"Uvod\"; \"v\"; \"funkcijsko\"; \"programiranje\"]"
      ]
    },
    {
      "cell_type": "code",
      "execution_count": null,
      "metadata": {
        "vscode": {
          "languageId": "ocaml"
        }
      },
      "outputs": [],
      "source": [
        "List.filter (fun x -> x < 5) [3; 1; 4; 1; 5; 9; 2; 6; 5; 3; 5; 9]"
      ]
    },
    {
      "cell_type": "code",
      "execution_count": null,
      "metadata": {
        "vscode": {
          "languageId": "ocaml"
        }
      },
      "outputs": [],
      "source": [
        "List.flatten [[1; 2; 3]; [4; 5; 6]; [7; 8; 9]]"
      ]
    },
    {
      "cell_type": "markdown",
      "metadata": {},
      "source": [
        "### Vrednosti **poljubnih** tipov združujemo v **nabore**"
      ]
    },
    {
      "cell_type": "markdown",
      "metadata": {
        "vscode": {
          "languageId": "ocaml"
        }
      },
      "source": [
        "Poleg seznamov, ki vsebujejo poljubno število vrednosti istega tipa, pozna OCaml tudi nabore, ki vsebujejo fiksno število vrednosti različnih tipov. Nabore pišemo med navadne oklepaje, komponente pa ločimo z vejico."
      ]
    },
    {
      "cell_type": "code",
      "execution_count": 2,
      "metadata": {
        "vscode": {
          "languageId": "ocaml"
        }
      },
      "outputs": [
        {
          "data": {
            "text/plain": [
              "- : int * string * int = (25, \"junij\", 1991)\n"
            ]
          },
          "execution_count": 2,
          "metadata": {},
          "output_type": "execute_result"
        }
      ],
      "source": [
        "(25, \"junij\", 1991)"
      ]
    },
    {
      "cell_type": "code",
      "execution_count": 3,
      "metadata": {
        "vscode": {
          "languageId": "ocaml"
        }
      },
      "outputs": [
        {
          "data": {
            "text/plain": [
              "- : int * string = (4220, \"Škofja Loka\")\n"
            ]
          },
          "execution_count": 3,
          "metadata": {},
          "output_type": "execute_result"
        }
      ],
      "source": [
        "(4220, \"Škofja Loka\")"
      ]
    },
    {
      "cell_type": "markdown",
      "metadata": {
        "vscode": {
          "languageId": "ocaml"
        }
      },
      "source": [
        "Kot vidimo, imajo nabori tip označen s kartezičnim produktom <code>τ<sub>1</sub> * τ<sub>2</sub> * ... * τ<sub>n</sub></code>, kjer so <code>τ<sub>i</sub></code> tipi posameznih komponent."
      ]
    },
    {
      "cell_type": "code",
      "execution_count": null,
      "metadata": {
        "vscode": {
          "languageId": "ocaml"
        }
      },
      "outputs": [],
      "source": [
        "List.partition (fun x -> x < 5) [3; 1; 4; 1; 5; 9; 2; 6; 5; 3; 5; 9]"
      ]
    },
    {
      "cell_type": "markdown",
      "metadata": {},
      "source": [
        "### Nabore lahko **razstavljamo** z vzorci"
      ]
    },
    {
      "cell_type": "markdown",
      "metadata": {},
      "source": [
        "Na parih (torej naborih velikosti 2) imamo na voljo funkciji `fst` in `snd`, ki projecirata na prvo in drugo komponento."
      ]
    },
    {
      "cell_type": "code",
      "execution_count": 4,
      "metadata": {
        "vscode": {
          "languageId": "ocaml"
        }
      },
      "outputs": [
        {
          "data": {
            "text/plain": [
              "- : int = 5\n"
            ]
          },
          "execution_count": 4,
          "metadata": {},
          "output_type": "execute_result"
        }
      ],
      "source": [
        "fst (5, true)"
      ]
    },
    {
      "cell_type": "markdown",
      "metadata": {
        "vscode": {
          "languageId": "ocaml"
        }
      },
      "source": [
        "V lokalnih definicijah in argumentih funkcij lahko nabore razstavimo s pomočjo vzorcev. Na primer, namesto:"
      ]
    },
    {
      "cell_type": "code",
      "execution_count": 5,
      "metadata": {
        "vscode": {
          "languageId": "ocaml"
        }
      },
      "outputs": [
        {
          "data": {
            "text/plain": [
              "val raztegni : float -> float * float -> float * float = <fun>\n"
            ]
          },
          "execution_count": 5,
          "metadata": {},
          "output_type": "execute_result"
        }
      ],
      "source": [
        "let raztegni faktor koord =\n",
        "  (faktor *. fst koord, faktor *. snd koord)"
      ]
    },
    {
      "cell_type": "markdown",
      "metadata": {
        "vscode": {
          "languageId": "ocaml"
        }
      },
      "source": [
        "lahko pišemo:"
      ]
    },
    {
      "cell_type": "code",
      "execution_count": null,
      "metadata": {
        "vscode": {
          "languageId": "ocaml"
        }
      },
      "outputs": [],
      "source": [
        "let raztegni faktor koord =\n",
        "  let (x, y) = koord in\n",
        "  (faktor *. x, faktor *. y)"
      ]
    },
    {
      "cell_type": "markdown",
      "metadata": {
        "vscode": {
          "languageId": "ocaml"
        }
      },
      "source": [
        "ali še bolje kot:"
      ]
    },
    {
      "cell_type": "code",
      "execution_count": null,
      "metadata": {
        "vscode": {
          "languageId": "ocaml"
        }
      },
      "outputs": [],
      "source": [
        "let raztegni faktor (x, y) =\n",
        "  (faktor *. x, faktor *. y)"
      ]
    },
    {
      "cell_type": "markdown",
      "metadata": {},
      "source": [
        "### Vrednosti lahko **ignoriramo** z vzorcem `_`"
      ]
    },
    {
      "cell_type": "code",
      "execution_count": null,
      "metadata": {
        "vscode": {
          "languageId": "ocaml"
        }
      },
      "outputs": [],
      "source": [
        "let poste = [(1000, \"Ljubljana\"); (2000, \"Maribor\"); (3000, \"Celje\")]"
      ]
    },
    {
      "cell_type": "code",
      "execution_count": null,
      "metadata": {
        "vscode": {
          "languageId": "ocaml"
        }
      },
      "outputs": [],
      "source": [
        "List.split poste"
      ]
    },
    {
      "cell_type": "code",
      "execution_count": null,
      "metadata": {
        "vscode": {
          "languageId": "ocaml"
        }
      },
      "outputs": [],
      "source": [
        "let (_, imena_krajev) = List.split poste"
      ]
    },
    {
      "cell_type": "markdown",
      "metadata": {},
      "source": [
        "### Za **delno definirane** funkcije uporabljamo tip `option`"
      ]
    },
    {
      "cell_type": "markdown",
      "metadata": {},
      "source": [
        "Včasih imamo opravka s funkcijami, ki jih ne moremo povsod dobro definirati. Na primer, vsak niz ne predstavlja števila. Če funkcijo `int_of_string` uporabimo na takem nizu, bomo dobili napako ob izvajanju."
      ]
    },
    {
      "cell_type": "code",
      "execution_count": null,
      "metadata": {
        "vscode": {
          "languageId": "ocaml"
        }
      },
      "outputs": [],
      "source": [
        "int_of_string \"100\""
      ]
    },
    {
      "cell_type": "code",
      "execution_count": null,
      "metadata": {
        "tags": [
          "raises-exception"
        ],
        "vscode": {
          "languageId": "ocaml"
        }
      },
      "outputs": [],
      "source": [
        "int_of_string \"sto\""
      ]
    },
    {
      "cell_type": "markdown",
      "metadata": {},
      "source": [
        "Varnejši način je, da uporabimo tip `'a option`, ki predstavlja morebitno vrednost tipa `'a`:"
      ]
    },
    {
      "cell_type": "code",
      "execution_count": null,
      "metadata": {
        "vscode": {
          "languageId": "ocaml"
        }
      },
      "outputs": [],
      "source": [
        "int_of_string_opt \"100\""
      ]
    },
    {
      "cell_type": "code",
      "execution_count": null,
      "metadata": {
        "vscode": {
          "languageId": "ocaml"
        }
      },
      "outputs": [],
      "source": [
        "int_of_string_opt"
      ]
    },
    {
      "cell_type": "code",
      "execution_count": null,
      "metadata": {
        "vscode": {
          "languageId": "ocaml"
        }
      },
      "outputs": [],
      "source": [
        "List.filter_map int_of_string_opt [\"100\"; \"sto\"; \"123\"; \"tisoč\"]"
      ]
    },
    {
      "cell_type": "markdown",
      "metadata": {},
      "source": [
        "## Polimorfni tipi"
      ]
    },
    {
      "cell_type": "markdown",
      "metadata": {},
      "source": [
        "### **Kakšen je tip** lepljenja seznamov?"
      ]
    },
    {
      "cell_type": "markdown",
      "metadata": {},
      "source": [
        "Vsaka vrednost v OCamlu ima natančno določen tip. Kakšen pa je tip funkcije `@`, saj lahko z njo stikamo tako sezname logičnih vrednosti, sezname števil, sezname seznamov števil, ..."
      ]
    },
    {
      "cell_type": "code",
      "execution_count": null,
      "metadata": {
        "vscode": {
          "languageId": "ocaml"
        }
      },
      "outputs": [],
      "source": [
        "[true; false] @ [false; true]"
      ]
    },
    {
      "cell_type": "code",
      "execution_count": null,
      "metadata": {
        "vscode": {
          "languageId": "ocaml"
        }
      },
      "outputs": [],
      "source": [
        "[1; 2] @ [3; 4; 5]"
      ]
    },
    {
      "cell_type": "markdown",
      "metadata": {
        "vscode": {
          "languageId": "ocaml"
        }
      },
      "source": [
        "Je `@` torej tipa `bool list -> bool list -> bool list` ali `int list -> int list -> int list` ali `int list list -> int list list -> int list list`? V resnici je lahko tipa `α list -> α list -> α list` za poljuben tip `α`. To v OCamlu označimo kot `'a list -> 'a list -> 'a list`. In res:"
      ]
    },
    {
      "cell_type": "code",
      "execution_count": null,
      "metadata": {
        "vscode": {
          "languageId": "ocaml"
        }
      },
      "outputs": [],
      "source": [
        "( @ )"
      ]
    },
    {
      "cell_type": "markdown",
      "metadata": {},
      "source": [
        "### Vrednostim, ki se pri vseh tipih obnašajo enako,<br>pravimo **parametrično polimorfne**"
      ]
    },
    {
      "cell_type": "markdown",
      "metadata": {},
      "source": [
        "Vrednostim, ki imajo v tipih spremenljivke, pravimo _parametrično polimorfne_. Polimorfne zaradi tega, ker lahko delujejo pri več tipih, parametrično pa zato, ker pri vseh tipih delujejo na enak način."
      ]
    },
    {
      "cell_type": "code",
      "execution_count": null,
      "metadata": {
        "vscode": {
          "languageId": "ocaml"
        }
      },
      "outputs": [],
      "source": [
        "List.flatten"
      ]
    },
    {
      "cell_type": "code",
      "execution_count": null,
      "metadata": {
        "vscode": {
          "languageId": "ocaml"
        }
      },
      "outputs": [],
      "source": [
        "List.filter"
      ]
    },
    {
      "cell_type": "markdown",
      "metadata": {},
      "source": [
        "Tudi nekatere vrednosti so parametrično polimorfne:"
      ]
    },
    {
      "cell_type": "code",
      "execution_count": null,
      "metadata": {
        "vscode": {
          "languageId": "ocaml"
        }
      },
      "outputs": [],
      "source": [
        "[]"
      ]
    },
    {
      "cell_type": "code",
      "execution_count": 1,
      "metadata": {
        "vscode": {
          "languageId": "ocaml"
        }
      },
      "outputs": [
        {
          "data": {
            "text/plain": [
              "- : 'a list * 'b list list * ('c list * int) = ([], [[]], ([], 3))\n"
            ]
          },
          "execution_count": 1,
          "metadata": {},
          "output_type": "execute_result"
        }
      ],
      "source": [
        "([], [[]], ([], 3))"
      ]
    },
    {
      "cell_type": "markdown",
      "metadata": {},
      "source": [
        "\n",
        "Poznamo tudi tako imenovani _ad hoc_ polimorfizem, kjer pri nekaterih tipih funkcije delujejo na en način, pri nekaterih na drugačen, pri tretjih pa sploh ne. Primer takega polimorfizma je na primer `+` v Pythonu: števila sešteva, sezname in nize stika, na funkcijah pa ne deluje. OCaml ad hoc polimorfizma nima, ker povzroča težave pri določanju tipov."
      ]
    },
    {
      "cell_type": "markdown",
      "metadata": {},
      "source": [
        "### V polimorfnih tipih lahko nastopa **več parametrov**"
      ]
    },
    {
      "cell_type": "markdown",
      "metadata": {},
      "source": [
        "V parametrično polimorfnih funkcijah lahko nastopa več parametrov. Na primer, projekcija na prvo komponento vzame par iz kartezičnega produkta poljubnih dveh tipov in slika v drugega:"
      ]
    },
    {
      "cell_type": "code",
      "execution_count": null,
      "metadata": {
        "vscode": {
          "languageId": "ocaml"
        }
      },
      "outputs": [],
      "source": [
        "snd"
      ]
    },
    {
      "cell_type": "code",
      "execution_count": null,
      "metadata": {
        "vscode": {
          "languageId": "ocaml"
        }
      },
      "outputs": [],
      "source": [
        "List.map"
      ]
    },
    {
      "cell_type": "code",
      "execution_count": null,
      "metadata": {
        "vscode": {
          "languageId": "ocaml"
        }
      },
      "outputs": [],
      "source": [
        "List.filter_map"
      ]
    },
    {
      "cell_type": "code",
      "execution_count": null,
      "metadata": {
        "vscode": {
          "languageId": "ocaml"
        }
      },
      "outputs": [],
      "source": [
        "List.combine"
      ]
    },
    {
      "cell_type": "markdown",
      "metadata": {},
      "source": [
        "## Veriženje"
      ]
    },
    {
      "cell_type": "markdown",
      "metadata": {},
      "source": [
        "### Funkcije **verižimo** z operacijo `|>`"
      ]
    },
    {
      "cell_type": "code",
      "execution_count": null,
      "metadata": {
        "vscode": {
          "languageId": "ocaml"
        }
      },
      "outputs": [],
      "source": [
        "let ( |> ) x f = f x"
      ]
    },
    {
      "cell_type": "code",
      "execution_count": null,
      "metadata": {
        "vscode": {
          "languageId": "ocaml"
        }
      },
      "outputs": [],
      "source": [
        "String.length (String.trim \"   beseda   \")"
      ]
    },
    {
      "cell_type": "code",
      "execution_count": null,
      "metadata": {
        "vscode": {
          "languageId": "ocaml"
        }
      },
      "outputs": [],
      "source": [
        "\"   beseda   \" |> String.trim |> String.length"
      ]
    },
    {
      "cell_type": "code",
      "execution_count": null,
      "metadata": {
        "vscode": {
          "languageId": "ocaml"
        }
      },
      "outputs": [],
      "source": [
        "\"100,sto,123,tisoč\"\n",
        "|> String.split_on_char ','\n",
        "|> List.filter_map int_of_string_opt\n"
      ]
    },
    {
      "cell_type": "markdown",
      "metadata": {},
      "source": [
        "### Primer: **izločanje števil** v besedilu"
      ]
    },
    {
      "cell_type": "markdown",
      "metadata": {},
      "source": [
        "    1000,Ljubljana        [[1000];\n",
        "    sto,100          ~>    [100];\n",
        "    1,a,2,b,3              [1; 2; 3]]"
      ]
    },
    {
      "cell_type": "code",
      "execution_count": null,
      "metadata": {
        "vscode": {
          "languageId": "ocaml"
        }
      },
      "outputs": [],
      "source": [
        "let stevila_v_vrstici vrstica =\n",
        "  vrstica |> String.split_on_char ',' |> List.filter_map int_of_string_opt"
      ]
    },
    {
      "cell_type": "code",
      "execution_count": null,
      "metadata": {
        "vscode": {
          "languageId": "ocaml"
        }
      },
      "outputs": [],
      "source": [
        "let stevila_v_besedilu besedilo =\n",
        "  besedilo |> String.split_on_char '\\n' |> List.map stevila_v_vrstici"
      ]
    },
    {
      "cell_type": "code",
      "execution_count": null,
      "metadata": {
        "vscode": {
          "languageId": "ocaml"
        }
      },
      "outputs": [],
      "source": [
        "\"1000,Ljubljana\n",
        "sto,100\n",
        "1,a,2,b,3\n",
        "\" |> stevila_v_besedilu"
      ]
    },
    {
      "cell_type": "markdown",
      "metadata": {},
      "source": [
        "### **Kakšen je tip** lepljenja seznamov?"
      ]
    },
    {
      "cell_type": "code",
      "execution_count": null,
      "metadata": {
        "vscode": {
          "languageId": "ocaml"
        }
      },
      "outputs": [],
      "source": [
        "[true; false] @ [false; true]"
      ]
    },
    {
      "cell_type": "code",
      "execution_count": null,
      "metadata": {
        "vscode": {
          "languageId": "ocaml"
        }
      },
      "outputs": [],
      "source": [
        "[1; 2] @ [3; 4; 5]"
      ]
    },
    {
      "cell_type": "code",
      "execution_count": null,
      "metadata": {
        "vscode": {
          "languageId": "ocaml"
        }
      },
      "outputs": [],
      "source": [
        "( @ )"
      ]
    },
    {
      "cell_type": "markdown",
      "metadata": {},
      "source": [
        "### Vrednostim, ki se pri vseh tipih obnašajo enako,<br>pravimo **parametrično polimorfne**"
      ]
    },
    {
      "cell_type": "code",
      "execution_count": null,
      "metadata": {
        "vscode": {
          "languageId": "ocaml"
        }
      },
      "outputs": [],
      "source": [
        "List.flatten"
      ]
    },
    {
      "cell_type": "code",
      "execution_count": null,
      "metadata": {
        "vscode": {
          "languageId": "ocaml"
        }
      },
      "outputs": [],
      "source": [
        "List.filter"
      ]
    },
    {
      "cell_type": "code",
      "execution_count": null,
      "metadata": {
        "vscode": {
          "languageId": "ocaml"
        }
      },
      "outputs": [],
      "source": [
        "[]"
      ]
    },
    {
      "cell_type": "markdown",
      "metadata": {},
      "source": [
        "### V polimorfnih tipih lahko nastopa **več parametrov**"
      ]
    },
    {
      "cell_type": "code",
      "execution_count": null,
      "metadata": {
        "vscode": {
          "languageId": "ocaml"
        }
      },
      "outputs": [],
      "source": [
        "snd"
      ]
    },
    {
      "cell_type": "code",
      "execution_count": null,
      "metadata": {
        "vscode": {
          "languageId": "ocaml"
        }
      },
      "outputs": [],
      "source": [
        "List.map"
      ]
    },
    {
      "cell_type": "code",
      "execution_count": null,
      "metadata": {
        "vscode": {
          "languageId": "ocaml"
        }
      },
      "outputs": [],
      "source": [
        "List.filter_map"
      ]
    },
    {
      "cell_type": "code",
      "execution_count": null,
      "metadata": {
        "vscode": {
          "languageId": "ocaml"
        }
      },
      "outputs": [],
      "source": [
        "List.combine"
      ]
    }
  ],
  "metadata": {
    "kernelspec": {
      "display_name": "OCaml default",
      "language": "OCaml",
      "name": "ocaml-jupyter"
    },
    "language_info": {
      "codemirror_mode": "text/x-ocaml",
      "file_extension": ".ml",
      "mimetype": "text/x-ocaml",
      "name": "OCaml",
      "nbconverter_exporter": null,
      "pygments_lexer": "OCaml",
      "version": "4.14.1"
    }
  },
  "nbformat": 4,
  "nbformat_minor": 2
}
