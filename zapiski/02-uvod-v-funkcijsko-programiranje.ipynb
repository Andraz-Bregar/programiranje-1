{
  "cells": [
    {
      "cell_type": "markdown",
      "metadata": {},
      "source": [
        "# Uvod v funkcijsko programiranje"
      ]
    },
    {
      "cell_type": "code",
      "execution_count": 23,
      "metadata": {
        "tags": [
          "remove-cell",
          "remove-stdout"
        ],
        "vscode": {
          "languageId": "ocaml"
        }
      },
      "outputs": [],
      "source": [
        "(* Ko se v Jupytru prvič požene OCaml, program Findlib izpiše neko sporočilo. Da se to sporočilo ne bi videlo v zapiskih, je tu ta celica, ki sproži izpis, vendar ima nastavljeno, da je v zapiskih v celoti skrita. *)"
      ]
    },
    {
      "cell_type": "markdown",
      "metadata": {},
      "source": [
        "Prednosti funkcijskega programiranja ne bomo posebej naštevali, a v obzir moramo vzeti tudi dve njegovi slabosti. Prva je ta, da so funkcijski jeziki namenjeni izražanju idej in so zato precej oddaljeni od dejanskih strojnih ukazov, ki smo jih spoznali v prejšnjem poglavju. Zaradi tega je potrebnega kar nekaj truda za njihovo učinkovito izvajanje. Druga pa je višji nivo abstrakcije, ki seveda vodi do bolj jedrnatih programov, a hkrati tudi ni pisan na kožo vsakemu programerju.\n",
        "\n",
        "Glede prve slabosti vam ni treba skrbeti, saj so večino truda opravile že generacije raziskovalcev in inženirjev pred vami. Po izbiri študija sodeč pa vam tudi druga ne bi smela predstavljati večjih ovir. Se bosta pa obe vseeno poznali, saj se zaradi njuju funkcijske ideje niso tako hitro prijele, funkcijski jeziki pa so v praksi ostali nedodelani in malo ezoterični. Ideje, ki so jih prevzeli uveljavljeni jeziki, pa je treba seveda združiti z vsemi obstoječimi, kar zopet vodi v svoje težave. V zadnjih letih se situacija spreminja na bolje, vendar še vedno nismo na točki, ko bi imeli dobro podprt jezik z jasno izraženimi funkcijskimi ideji.\n",
        "\n",
        "Ker so ideje seveda pomembnejše, si bomo ogledali programski jezik OCaml, ki je bil eden prvih in je še danes eden najbolj popularnih funkcijskih jezikov. OCaml morda ni najbolj razširjen funkcijski jezik, so pa v njem ideje izražene najbolj neposredno."
      ]
    },
    {
      "cell_type": "markdown",
      "metadata": {},
      "source": [
        "## Osnove OCamla"
      ]
    },
    {
      "cell_type": "markdown",
      "metadata": {},
      "source": [
        "### Matematični izrazi"
      ]
    },
    {
      "cell_type": "markdown",
      "metadata": {},
      "source": [
        "(Imperativna) navada zapoveduje, da mora prvi program na zaslon izpisati \"Hello, world!\". Mi bomo začeli drugače, bolj matematično, in raje začeli z enostavnim izračunom:"
      ]
    },
    {
      "cell_type": "code",
      "execution_count": 5,
      "metadata": {
        "vscode": {
          "languageId": "ocaml"
        }
      },
      "outputs": [
        {
          "data": {
            "text/plain": [
              "- : int = 42\n"
            ]
          },
          "execution_count": 5,
          "metadata": {},
          "output_type": "execute_result"
        }
      ],
      "source": [
        "7 * 6"
      ]
    },
    {
      "cell_type": "markdown",
      "metadata": {},
      "source": [
        "Opazimo lahko, da je OCaml je poleg končne vrednosti izpisal tudi njen tip `int`. Tipom se bomo še posvetili, mi pa izračun naredimo še malo bolj zapleten z uporabo funkcije `succ`, ki izračuna naslednika:"
      ]
    },
    {
      "cell_type": "code",
      "execution_count": 7,
      "metadata": {
        "vscode": {
          "languageId": "ocaml"
        }
      },
      "outputs": [
        {
          "data": {
            "text/plain": [
              "- : int = 42\n"
            ]
          },
          "execution_count": 7,
          "metadata": {},
          "output_type": "execute_result"
        }
      ],
      "source": [
        "succ 6 * 6"
      ]
    },
    {
      "cell_type": "markdown",
      "metadata": {},
      "source": [
        "V funkcijskih jezikih je uporaba funkcij tako pogosta, da jo želimo napisati na čim krajši način. Zato argumentov ni treba pisati v oklepajih. Tako kot ima množenje prednost pred seštevanjem, ima uporaba funkcije (oz. _aplikacija_) višjo prioriteto kot računske operacije, zato se je izračun izvedel kot `(succ 6) * 6 = 7 * 6 = 42` in ne kot `succ (6 * 6) = succ 36 = 37`."
      ]
    },
    {
      "cell_type": "markdown",
      "metadata": {},
      "source": [
        "Uporabimo lahko tudi funkcijo več argumentov, v kateri argumente zopet ločimo kar s presledkom:"
      ]
    },
    {
      "cell_type": "code",
      "execution_count": 8,
      "metadata": {
        "vscode": {
          "languageId": "ocaml"
        }
      },
      "outputs": [
        {
          "data": {
            "text/plain": [
              "- : int = 42\n"
            ]
          },
          "execution_count": 8,
          "metadata": {},
          "output_type": "execute_result"
        }
      ],
      "source": [
        "min 8 7 * 6"
      ]
    },
    {
      "cell_type": "markdown",
      "metadata": {},
      "source": [
        "### Definicije"
      ]
    },
    {
      "cell_type": "markdown",
      "metadata": {},
      "source": [
        "Z ukazom `let ime = ...` lahko vrednost izračuna poimenujemo za kasnejšo uporabo:"
      ]
    },
    {
      "cell_type": "code",
      "execution_count": 10,
      "metadata": {
        "vscode": {
          "languageId": "ocaml"
        }
      },
      "outputs": [
        {
          "data": {
            "text/plain": [
              "val odgovor : int = 42\n"
            ]
          },
          "execution_count": 10,
          "metadata": {},
          "output_type": "execute_result"
        }
      ],
      "source": [
        "let odgovor = min 8 7 * 6"
      ]
    },
    {
      "cell_type": "code",
      "execution_count": 11,
      "metadata": {
        "vscode": {
          "languageId": "ocaml"
        }
      },
      "outputs": [
        {
          "data": {
            "text/plain": [
              "val malo_slabsi_odgovor : int = 41\n"
            ]
          },
          "execution_count": 11,
          "metadata": {},
          "output_type": "execute_result"
        }
      ],
      "source": [
        "let malo_slabsi_odgovor = odgovor - 1"
      ]
    },
    {
      "cell_type": "markdown",
      "metadata": {},
      "source": [
        "Vrednosti lahko definiramo tudi lokalno z izrazom `let ime = ... in ...`. V tem primeru bodo definicije na voljo v delu `in ...`, izven pa ne."
      ]
    },
    {
      "cell_type": "code",
      "execution_count": 19,
      "metadata": {
        "vscode": {
          "languageId": "ocaml"
        }
      },
      "outputs": [
        {
          "data": {
            "text/plain": [
              "val odgovor : int = 42\n"
            ]
          },
          "execution_count": 19,
          "metadata": {},
          "output_type": "execute_result"
        }
      ],
      "source": [
        "let odgovor =\n",
        "  let prvi_delni_izracun = min 8 7 in\n",
        "  let drugi_delni_izracun = max 6 5 in\n",
        "  prvi_delni_izracun * drugi_delni_izracun"
      ]
    },
    {
      "cell_type": "code",
      "execution_count": 13,
      "metadata": {
        "tags": [
          "raises-exception"
        ],
        "vscode": {
          "languageId": "ocaml"
        }
      },
      "outputs": [
        {
          "ename": "error",
          "evalue": "compile_error",
          "output_type": "error",
          "traceback": [
            "File \"[13]\", line 1, characters 0-18:\n1 | prvi_delni_izracun\n    ^^^^^^^^^^^^^^^^^^\nError: Unbound value prvi_delni_izracun\n"
          ]
        }
      ],
      "source": [
        "prvi_delni_izracun"
      ]
    },
    {
      "cell_type": "markdown",
      "metadata": {},
      "source": [
        "Če želimo, lahko več lokalnih definicij hkrati podamo tako, da jih ločimo z `and`."
      ]
    },
    {
      "cell_type": "code",
      "execution_count": 18,
      "metadata": {
        "vscode": {
          "languageId": "ocaml"
        }
      },
      "outputs": [
        {
          "data": {
            "text/plain": [
              "val odgovor : int = 42\n"
            ]
          },
          "execution_count": 18,
          "metadata": {},
          "output_type": "execute_result"
        }
      ],
      "source": [
        "let odgovor =\n",
        "  let prvi_delni_izracun = min 8 7\n",
        "  and drugi_delni_izracun = max 6 5 in\n",
        "  prvi_delni_izracun * drugi_delni_izracun"
      ]
    },
    {
      "cell_type": "markdown",
      "metadata": {},
      "source": [
        "Razlika med tem in gnezdenimi lokalnimi definicijami je v tem, da so vrednosti definirane hkrati, zato se ne morejo nanašati ena na drugo:"
      ]
    },
    {
      "cell_type": "code",
      "execution_count": 21,
      "metadata": {
        "vscode": {
          "languageId": "ocaml"
        }
      },
      "outputs": [
        {
          "data": {
            "text/plain": [
              "val odgovor : int = 42\n"
            ]
          },
          "execution_count": 21,
          "metadata": {},
          "output_type": "execute_result"
        }
      ],
      "source": [
        "let odgovor =\n",
        "  let prvi_delni_izracun = min 8 7 in\n",
        "  let drugi_delni_izracun = prvi_delni_izracun - 1 in\n",
        "  prvi_delni_izracun * drugi_delni_izracun"
      ]
    },
    {
      "cell_type": "code",
      "execution_count": 22,
      "metadata": {
        "tags": [
          "raises-exception"
        ],
        "vscode": {
          "languageId": "ocaml"
        }
      },
      "outputs": [
        {
          "ename": "error",
          "evalue": "compile_error",
          "output_type": "error",
          "traceback": [
            "File \"[22]\", line 3, characters 28-46:\n3 |   and drugi_delni_izracun = prvi_delni_izracun - 1 in\n                                ^^^^^^^^^^^^^^^^^^\nError: Unbound value prvi_delni_izracun\n"
          ]
        }
      ],
      "source": [
        "let odgovor =\n",
        "  let prvi_delni_izracun = min 8 7\n",
        "  and drugi_delni_izracun = prvi_delni_izracun - 1 in\n",
        "  prvi_delni_izracun * drugi_delni_izracun"
      ]
    },
    {
      "cell_type": "markdown",
      "metadata": {},
      "source": [
        "### Definicije funkcij"
      ]
    },
    {
      "cell_type": "markdown",
      "metadata": {},
      "source": [
        "Funkcije v OCamlu definiramo podobno kot vrednosti, le da za njihovim imenom naštejemo še imena argumentov:"
      ]
    },
    {
      "cell_type": "code",
      "execution_count": null,
      "metadata": {
        "vscode": {
          "languageId": "ocaml"
        }
      },
      "outputs": [
        {
          "data": {
            "text/plain": [
              "val kvadriraj : int -> int = <fun>\n"
            ]
          },
          "metadata": {},
          "output_type": "display_data"
        }
      ],
      "source": [
        "let kvadriraj x = x * x"
      ]
    },
    {
      "cell_type": "markdown",
      "metadata": {},
      "source": [
        "K tipu funkcije se bomo vrnili kasneje. Funkcije potem uporabimo kot običajno:"
      ]
    },
    {
      "cell_type": "code",
      "execution_count": null,
      "metadata": {
        "vscode": {
          "languageId": "ocaml"
        }
      },
      "outputs": [
        {
          "data": {
            "text/plain": [
              "- : int = 64\n"
            ]
          },
          "metadata": {},
          "output_type": "display_data"
        }
      ],
      "source": [
        "kvadriraj 8"
      ]
    },
    {
      "cell_type": "code",
      "execution_count": null,
      "metadata": {
        "vscode": {
          "languageId": "ocaml"
        }
      },
      "outputs": [
        {
          "data": {
            "text/plain": [
              "val absolutna_vrednost : int -> int = <fun>\n"
            ]
          },
          "metadata": {},
          "output_type": "display_data"
        }
      ],
      "source": [
        "let absolutna_vrednost x =\n",
        "  if x < 0 then -x else x"
      ]
    },
    {
      "cell_type": "code",
      "execution_count": null,
      "metadata": {
        "vscode": {
          "languageId": "ocaml"
        }
      },
      "outputs": [
        {
          "data": {
            "text/plain": [
              "- : int = 8\n"
            ]
          },
          "metadata": {},
          "output_type": "display_data"
        }
      ],
      "source": [
        "absolutna_vrednost (-8)"
      ]
    },
    {
      "cell_type": "markdown",
      "metadata": {},
      "source": [
        "Tu smo morali uporabiti oklepaje, saj OCaml ni občutljiv na presledke in bi izraz `absolutna_vrednost -8` razumel kot odštevanje `absolutna_vrednost - 8`."
      ]
    },
    {
      "cell_type": "markdown",
      "metadata": {},
      "source": [
        "### Funkcije več argumentov"
      ]
    },
    {
      "cell_type": "markdown",
      "metadata": {},
      "source": [
        "Na podoben način lahko definiramo funkcije več argumentov:"
      ]
    },
    {
      "cell_type": "code",
      "execution_count": null,
      "metadata": {
        "vscode": {
          "languageId": "ocaml"
        }
      },
      "outputs": [
        {
          "data": {
            "text/plain": [
              "val obseg_pravokotnika : int -> int -> int = <fun>\n"
            ]
          },
          "metadata": {},
          "output_type": "display_data"
        }
      ],
      "source": [
        "let obseg_pravokotnika a b =\n",
        "  2 * (a + b)"
      ]
    },
    {
      "cell_type": "code",
      "execution_count": null,
      "metadata": {
        "vscode": {
          "languageId": "ocaml"
        }
      },
      "outputs": [
        {
          "data": {
            "text/plain": [
              "- : int = 42\n"
            ]
          },
          "metadata": {},
          "output_type": "display_data"
        }
      ],
      "source": [
        "obseg_pravokotnika 6 15"
      ]
    },
    {
      "cell_type": "code",
      "execution_count": null,
      "metadata": {
        "vscode": {
          "languageId": "ocaml"
        }
      },
      "outputs": [
        {
          "data": {
            "text/plain": [
              "val povrsina_kvadra : int -> int -> int -> int = <fun>\n"
            ]
          },
          "metadata": {},
          "output_type": "display_data"
        }
      ],
      "source": [
        "let povrsina_kvadra a b c =\n",
        "  2 * (a * b + a * c + b * c)"
      ]
    },
    {
      "cell_type": "markdown",
      "metadata": {},
      "source": [
        "### Simbolne operacije"
      ]
    },
    {
      "cell_type": "code",
      "execution_count": null,
      "metadata": {
        "vscode": {
          "languageId": "ocaml"
        }
      },
      "outputs": [
        {
          "data": {
            "text/plain": [
              "val ( // ) : int -> int -> int = <fun>\n"
            ]
          },
          "metadata": {},
          "output_type": "display_data"
        }
      ],
      "source": [
        "let ( // ) a b =\n",
        "  if a > b then a / b else b / a "
      ]
    },
    {
      "cell_type": "code",
      "execution_count": null,
      "metadata": {
        "vscode": {
          "languageId": "ocaml"
        }
      },
      "outputs": [
        {
          "data": {
            "text/plain": [
              "- : int = 40\n"
            ]
          },
          "metadata": {},
          "output_type": "display_data"
        }
      ],
      "source": [
        "120 // 3"
      ]
    },
    {
      "cell_type": "code",
      "execution_count": null,
      "metadata": {
        "vscode": {
          "languageId": "ocaml"
        }
      },
      "outputs": [
        {
          "data": {
            "text/plain": [
              "- : int = 40\n"
            ]
          },
          "metadata": {},
          "output_type": "display_data"
        }
      ],
      "source": [
        "3 // 120"
      ]
    },
    {
      "cell_type": "markdown",
      "metadata": {},
      "source": [
        "### Rekurzivne funkcije\n"
      ]
    },
    {
      "cell_type": "markdown",
      "metadata": {},
      "source": [
        "Če želimo definirati rekurzivno funkcijo, jo moramo podati z `let rec`:"
      ]
    },
    {
      "cell_type": "code",
      "execution_count": null,
      "metadata": {
        "vscode": {
          "languageId": "ocaml"
        }
      },
      "outputs": [
        {
          "data": {
            "text/plain": [
              "val vsota_prvih : int -> int = <fun>\n"
            ]
          },
          "metadata": {},
          "output_type": "display_data"
        }
      ],
      "source": [
        "let rec vsota_prvih n =\n",
        "  if n = 0 then 0 else vsota_prvih (n - 1) + n"
      ]
    },
    {
      "cell_type": "code",
      "execution_count": null,
      "metadata": {
        "vscode": {
          "languageId": "ocaml"
        }
      },
      "outputs": [
        {
          "data": {
            "text/plain": [
              "- : int = 5050\n"
            ]
          },
          "metadata": {},
          "output_type": "display_data"
        }
      ],
      "source": [
        "vsota_prvih 100"
      ]
    },
    {
      "cell_type": "markdown",
      "metadata": {},
      "source": [
        "Seveda ne gre brez klasičnih primerov rekurzivnih funkcij: fakultete in Fibonaccijevih števil."
      ]
    },
    {
      "cell_type": "code",
      "execution_count": 41,
      "metadata": {
        "vscode": {
          "languageId": "ocaml"
        }
      },
      "outputs": [
        {
          "data": {
            "text/plain": [
              "val fakulteta : int -> int = <fun>\n"
            ]
          },
          "execution_count": 41,
          "metadata": {},
          "output_type": "execute_result"
        }
      ],
      "source": [
        "let rec fakulteta = function\n",
        "  | 0 -> 1\n",
        "  | n -> n * fakulteta (n - 1)"
      ]
    },
    {
      "cell_type": "code",
      "execution_count": 42,
      "metadata": {
        "vscode": {
          "languageId": "ocaml"
        }
      },
      "outputs": [
        {
          "data": {
            "text/plain": [
              "- : int = 3628800\n"
            ]
          },
          "execution_count": 42,
          "metadata": {},
          "output_type": "execute_result"
        }
      ],
      "source": [
        "fakulteta 10"
      ]
    },
    {
      "cell_type": "code",
      "execution_count": 43,
      "metadata": {
        "vscode": {
          "languageId": "ocaml"
        }
      },
      "outputs": [
        {
          "data": {
            "text/plain": [
              "val fib : int -> int = <fun>\n"
            ]
          },
          "execution_count": 43,
          "metadata": {},
          "output_type": "execute_result"
        }
      ],
      "source": [
        "let rec fib = function\n",
        "  | 0 -> 0\n",
        "  | 1 -> 1\n",
        "  | n -> fib (n - 1) + fib (n - 2)"
      ]
    },
    {
      "cell_type": "markdown",
      "metadata": {
        "vscode": {
          "languageId": "ocaml"
        }
      },
      "source": [
        "Zgornja definicija je precej neučinkovita, zato si lahko pomagamo s pomožno funkcijo, ki deluje veliko hitreje."
      ]
    },
    {
      "cell_type": "code",
      "execution_count": 44,
      "metadata": {
        "vscode": {
          "languageId": "ocaml"
        }
      },
      "outputs": [
        {
          "data": {
            "text/plain": [
              "val hitri_fib : int -> int = <fun>\n"
            ]
          },
          "execution_count": 44,
          "metadata": {},
          "output_type": "execute_result"
        }
      ],
      "source": [
        "let hitri_fib n =\n",
        "  let rec aux n a b =\n",
        "    if n = 0 then a else aux (n - 1) b (a + b)\n",
        "  in aux n 0 1"
      ]
    },
    {
      "cell_type": "markdown",
      "metadata": {},
      "source": [
        "Z uporabo `and` lahko hkrati definiramo tudi več rekurzivnih funkcij:"
      ]
    },
    {
      "cell_type": "code",
      "execution_count": 45,
      "metadata": {
        "vscode": {
          "languageId": "ocaml"
        }
      },
      "outputs": [
        {
          "data": {
            "text/plain": [
              "val je_sodo : int -> bool = <fun>\n",
              "val je_liho : int -> bool = <fun>\n"
            ]
          },
          "execution_count": 45,
          "metadata": {},
          "output_type": "execute_result"
        }
      ],
      "source": [
        "let rec je_sodo = function\n",
        "  | 0 -> true\n",
        "  | n -> je_liho (n - 1)\n",
        "\n",
        "and je_liho = function\n",
        "  | 0 -> false\n",
        "  | n -> je_sodo (n - 1)"
      ]
    },
    {
      "cell_type": "markdown",
      "metadata": {},
      "source": [
        "O učinkovitosti funkcij v zgornjem primeru raje ne izgubljajmo besed."
      ]
    },
    {
      "cell_type": "markdown",
      "metadata": {},
      "source": [
        "## Osnovni tipi"
      ]
    },
    {
      "cell_type": "markdown",
      "metadata": {},
      "source": [
        "Ena izmed največjih prednosti OCamla je njegov bogat in dovršen sistem tipov. Vsak pravilen program v OCamlu ima svoj tip, ki ga OCaml samodejno preveri pred vsakim izvajanjem, kar polovi ogromno napak."
      ]
    },
    {
      "cell_type": "markdown",
      "metadata": {},
      "source": [
        "### Cela števila `int`"
      ]
    },
    {
      "cell_type": "markdown",
      "metadata": {},
      "source": [
        "Cela števila pripadajo tipu `int`, z njimi pa delamo podobno kot v drugih jezikih:"
      ]
    },
    {
      "cell_type": "code",
      "execution_count": null,
      "metadata": {
        "vscode": {
          "languageId": "ocaml"
        }
      },
      "outputs": [],
      "source": [
        "12 * (34 + 67) - 89"
      ]
    },
    {
      "cell_type": "markdown",
      "metadata": {},
      "source": [
        "Za razliko od Pythona celoštevilsko delimo z `/`, ostanek pa izračunamo z `mod`:"
      ]
    },
    {
      "cell_type": "code",
      "execution_count": null,
      "metadata": {
        "vscode": {
          "languageId": "ocaml"
        }
      },
      "outputs": [],
      "source": [
        "1024 / 100"
      ]
    },
    {
      "cell_type": "code",
      "execution_count": null,
      "metadata": {
        "vscode": {
          "languageId": "ocaml"
        }
      },
      "outputs": [],
      "source": [
        "1024 mod 100"
      ]
    },
    {
      "cell_type": "markdown",
      "metadata": {},
      "source": [
        "Prav tako za razliko od Pythona OCamlov tip `int` ne podpira poljubno velikih števil, zato lahko pri nekaterih operacijah pride do prekoračitve obsega:"
      ]
    },
    {
      "cell_type": "code",
      "execution_count": 24,
      "metadata": {
        "vscode": {
          "languageId": "ocaml"
        }
      },
      "outputs": [
        {
          "data": {
            "text/plain": [
              "- : int = 4611686018427387903\n"
            ]
          },
          "execution_count": 24,
          "metadata": {},
          "output_type": "execute_result"
        }
      ],
      "source": [
        "4611686018427387902 + 1"
      ]
    },
    {
      "cell_type": "code",
      "execution_count": 25,
      "metadata": {
        "vscode": {
          "languageId": "ocaml"
        }
      },
      "outputs": [
        {
          "data": {
            "text/plain": [
              "- : int = -4611686018427387904\n"
            ]
          },
          "execution_count": 25,
          "metadata": {},
          "output_type": "execute_result"
        }
      ],
      "source": [
        "4611686018427387902 + 2"
      ]
    },
    {
      "cell_type": "markdown",
      "metadata": {},
      "source": [
        "### Števila s plavajočo vejico `float`"
      ]
    },
    {
      "cell_type": "markdown",
      "metadata": {},
      "source": [
        "Tipu `float` pripadajo števila s plavajočo vejico, ki jih pišemo kot drugod, razlika pa se pojavi pri operacijah, saj OCaml loči med operacijami na celih številih ter operacijami na številih s plavajočo vejico, ki se končajo s piko."
      ]
    },
    {
      "cell_type": "code",
      "execution_count": null,
      "metadata": {
        "vscode": {
          "languageId": "ocaml"
        }
      },
      "outputs": [],
      "source": [
        "12.0 *. (34.0 +. 67.0) -. 89.0"
      ]
    },
    {
      "cell_type": "code",
      "execution_count": null,
      "metadata": {
        "vscode": {
          "languageId": "ocaml"
        }
      },
      "outputs": [],
      "source": [
        "1024. /. 100."
      ]
    },
    {
      "cell_type": "code",
      "execution_count": null,
      "metadata": {
        "vscode": {
          "languageId": "ocaml"
        }
      },
      "outputs": [],
      "source": [
        "sqrt 2."
      ]
    },
    {
      "cell_type": "markdown",
      "metadata": {},
      "source": [
        " Kot smo že omenili, OCaml preverja ustreznost tipov, in tako na primer operacija `*` sprejme dva argumenta tipa `int` in `int` tudi vrne. Če ji damo argumente tipa `float`, se bo OCaml pritožil, saj med tema dvema tipoma strogo loči:"
      ]
    },
    {
      "cell_type": "code",
      "execution_count": null,
      "metadata": {
        "tags": [
          "raises-exception"
        ],
        "vscode": {
          "languageId": "ocaml"
        }
      },
      "outputs": [],
      "source": [
        "2 * 3.141592"
      ]
    },
    {
      "cell_type": "code",
      "execution_count": null,
      "metadata": {
        "vscode": {
          "languageId": "ocaml"
        }
      },
      "outputs": [],
      "source": [
        "float_of_int 10"
      ]
    },
    {
      "cell_type": "code",
      "execution_count": null,
      "metadata": {
        "vscode": {
          "languageId": "ocaml"
        }
      },
      "outputs": [],
      "source": [
        "int_of_float 3.141592"
      ]
    },
    {
      "cell_type": "markdown",
      "metadata": {},
      "source": [
        "### Nizi `string`"
      ]
    },
    {
      "cell_type": "markdown",
      "metadata": {
        "vscode": {
          "languageId": "ocaml"
        }
      },
      "source": [
        "Nizi pripadajo tipu `string`, pišemo pa jih med dvojne narekovaje. Stikanje nizov je pogosta operacija, ki jo pišemo kot `^`:"
      ]
    },
    {
      "cell_type": "code",
      "execution_count": 2,
      "metadata": {
        "vscode": {
          "languageId": "ocaml"
        }
      },
      "outputs": [
        {
          "data": {
            "text/plain": [
              "val fun_prog : string = \"Funkcijsko programiranje\"\n"
            ]
          },
          "execution_count": 2,
          "metadata": {},
          "output_type": "execute_result"
        }
      ],
      "source": [
        "let fun_prog = \"Funkcijsko \" ^ \"programiranje\""
      ]
    },
    {
      "cell_type": "markdown",
      "metadata": {
        "vscode": {
          "languageId": "ocaml"
        }
      },
      "source": [
        "Na voljo imamo tudi funkcije za pretvorbo v nize in iz nizov, pri čemer slednje lahko sprožijo napako:"
      ]
    },
    {
      "cell_type": "code",
      "execution_count": 4,
      "metadata": {
        "vscode": {
          "languageId": "ocaml"
        }
      },
      "outputs": [
        {
          "data": {
            "text/plain": [
              "- : string = \"100\"\n"
            ]
          },
          "execution_count": 4,
          "metadata": {},
          "output_type": "execute_result"
        }
      ],
      "source": [
        "string_of_int 100\n"
      ]
    },
    {
      "cell_type": "code",
      "execution_count": 5,
      "metadata": {
        "vscode": {
          "languageId": "ocaml"
        }
      },
      "outputs": [
        {
          "data": {
            "text/plain": [
              "- : int = 100\n"
            ]
          },
          "execution_count": 5,
          "metadata": {},
          "output_type": "execute_result"
        }
      ],
      "source": [
        "int_of_string \"100\""
      ]
    },
    {
      "cell_type": "code",
      "execution_count": 6,
      "metadata": {
        "tags": [
          "raises-exception"
        ],
        "vscode": {
          "languageId": "ocaml"
        }
      },
      "outputs": [
        {
          "ename": "error",
          "evalue": "runtime_error",
          "output_type": "error",
          "traceback": [
            "\u001b[31mException: Failure \"int_of_string\".\nRaised by primitive operation at unknown location\nCalled from Stdlib__Fun.protect in file \"fun.ml\", line 33, characters 8-15\nRe-raised at Stdlib__Fun.protect in file \"fun.ml\", line 38, characters 6-52\nCalled from Topeval.load_lambda in file \"toplevel/byte/topeval.ml\", line 89, characters 4-150\n\u001b[0m"
          ]
        }
      ],
      "source": [
        "int_of_string \"sto\""
      ]
    },
    {
      "cell_type": "markdown",
      "metadata": {},
      "source": [
        "Več funkcij za delo z nizi najdemo v [standardni knjižnici](http://caml.inria.fr/pub/docs/manual-ocaml/libref/), ki je razdeljena na module, na primer:\n",
        "\n",
        "- osnovni modul [`Stdlib`](http://caml.inria.fr/pub/docs/manual-ocaml/libref/Stdlib.html), ki je vedno naložen in ga ni treba posebej navajati,\n",
        "- modul [`String`](http://caml.inria.fr/pub/docs/manual-ocaml/libref/String.html) za delo z nizi,\n",
        "- modul [`List`](http://caml.inria.fr/pub/docs/manual-ocaml/libref/List.html) za delo s seznami ali\n",
        "- modul [`Random`](http://caml.inria.fr/pub/docs/manual-ocaml/libref/Random.html) za delo s psevdonaključnimi vrednostmi.\n",
        "\n",
        "Do funkcij iz danega modula dostopamo prek zapisa `ImeModula.ime_funkcije`:"
      ]
    },
    {
      "cell_type": "code",
      "execution_count": null,
      "metadata": {
        "vscode": {
          "languageId": "ocaml"
        }
      },
      "outputs": [],
      "source": [
        "String.length fun_prog"
      ]
    },
    {
      "cell_type": "code",
      "execution_count": null,
      "metadata": {
        "vscode": {
          "languageId": "ocaml"
        }
      },
      "outputs": [],
      "source": [
        "String.cat \"Uvod v \" (String.lowercase_ascii fun_prog)"
      ]
    },
    {
      "cell_type": "code",
      "execution_count": null,
      "metadata": {
        "vscode": {
          "languageId": "ocaml"
        }
      },
      "outputs": [],
      "source": [
        "\"Uvod v \" ^ String.lowercase_ascii fun_prog"
      ]
    },
    {
      "cell_type": "markdown",
      "metadata": {},
      "source": [
        "### Logične vrednosti `bool`"
      ]
    },
    {
      "cell_type": "markdown",
      "metadata": {},
      "source": [
        "\n",
        "Tipu `bool` pripadajo logične vrednosti, kjer imamo na voljo obe logični konstanti ter običajne logične operacije, pri čemer konjunkcijo _in_ pišemo kot `&&`, disjunkcijo _ali_ pa kot `||`. Na voljo imamo tudi običajne relacije za primerjavo:"
      ]
    },
    {
      "cell_type": "code",
      "execution_count": null,
      "metadata": {
        "vscode": {
          "languageId": "ocaml"
        }
      },
      "outputs": [],
      "source": [
        "3 <= 8"
      ]
    },
    {
      "cell_type": "code",
      "execution_count": null,
      "metadata": {
        "vscode": {
          "languageId": "ocaml"
        }
      },
      "outputs": [],
      "source": [
        "3 <= 8 && 8 <= 6"
      ]
    },
    {
      "cell_type": "markdown",
      "metadata": {},
      "source": [
        "Logične vrednosti lahko uporabljamo v pogojnih izrazih:"
      ]
    },
    {
      "cell_type": "code",
      "execution_count": null,
      "metadata": {
        "vscode": {
          "languageId": "ocaml"
        }
      },
      "outputs": [],
      "source": [
        "let abs x =\n",
        "  if x < 0 then -x else x"
      ]
    },
    {
      "cell_type": "markdown",
      "metadata": {
        "vscode": {
          "languageId": "ocaml"
        }
      },
      "source": [
        "Pogojni izrazi so lahko tudi vsebovani v drugih izrazih. Na primer, funkcija v spodnjem izrazu je rezultat pogojnega izraza:"
      ]
    },
    {
      "cell_type": "code",
      "execution_count": 32,
      "metadata": {
        "vscode": {
          "languageId": "ocaml"
        }
      },
      "outputs": [
        {
          "data": {
            "text/plain": [
              "- : int = 42\n"
            ]
          },
          "execution_count": 32,
          "metadata": {},
          "output_type": "execute_result"
        }
      ],
      "source": [
        "(if 1 = 3 then pred else succ) 5 * 7"
      ]
    },
    {
      "cell_type": "markdown",
      "metadata": {},
      "source": [
        "Za primerjavo enakosti uporabljamo operaciji `=` in `<>`, ki argumente primerjata glede na vrednosti. Na voljo sta tudi primerjavi `==` in `!=`, ki gledata identičnost argumentov in ju uporabljamo le takrat, kadar smo v to popolnoma prepričani, saj nam sicer dajeta nepričakovane odgovore:"
      ]
    },
    {
      "cell_type": "code",
      "execution_count": 26,
      "metadata": {
        "vscode": {
          "languageId": "ocaml"
        }
      },
      "outputs": [
        {
          "data": {
            "text/plain": [
              "- : bool = false\n"
            ]
          },
          "execution_count": 26,
          "metadata": {},
          "output_type": "execute_result"
        }
      ],
      "source": [
        "\"A\" == \"A\""
      ]
    },
    {
      "cell_type": "markdown",
      "metadata": {},
      "source": [
        "Dobili smo `false`, ker je za vsako stran OCaml naredil svoj niz in ta niza shranil na dve različni mesti v pomnilniku. Če bi naredili en sam niz, bi enakost veljala:"
      ]
    },
    {
      "cell_type": "code",
      "execution_count": 86,
      "metadata": {
        "vscode": {
          "languageId": "ocaml"
        }
      },
      "outputs": [
        {
          "data": {
            "text/plain": [
              "val a : string = \"A\"\n"
            ]
          },
          "execution_count": 86,
          "metadata": {},
          "output_type": "execute_result"
        }
      ],
      "source": [
        "let a = \"A\""
      ]
    },
    {
      "cell_type": "code",
      "execution_count": 87,
      "metadata": {
        "vscode": {
          "languageId": "ocaml"
        }
      },
      "outputs": [
        {
          "data": {
            "text/plain": [
              "- : bool = true\n"
            ]
          },
          "execution_count": 87,
          "metadata": {},
          "output_type": "execute_result"
        }
      ],
      "source": [
        "a == a"
      ]
    },
    {
      "cell_type": "markdown",
      "metadata": {},
      "source": [
        "### Enotski tip `unit`"
      ]
    },
    {
      "cell_type": "markdown",
      "metadata": {},
      "source": [
        "V OCamlu imamo tudi enotski tip `unit`, ki vsebuje samo eno vrednost:"
      ]
    },
    {
      "cell_type": "code",
      "execution_count": 10,
      "metadata": {
        "vscode": {
          "languageId": "ocaml"
        }
      },
      "outputs": [
        {
          "data": {
            "text/plain": [
              "- : unit = ()\n"
            ]
          },
          "execution_count": 10,
          "metadata": {},
          "output_type": "execute_result"
        }
      ],
      "source": [
        "()"
      ]
    },
    {
      "cell_type": "markdown",
      "metadata": {},
      "source": [
        "Toda če je `()` edina vrednost svojega tipa, kakšen je njen namen, saj ne nosi nobene informacije?"
      ]
    },
    {
      "cell_type": "markdown",
      "metadata": {},
      "source": [
        "Poglejmo si najprej funkcijo `Random.int`, ki za argument sprejme celo število `n` in vrne naključno število med `0` in `n - 1`:"
      ]
    },
    {
      "cell_type": "code",
      "execution_count": 21,
      "metadata": {
        "vscode": {
          "languageId": "ocaml"
        }
      },
      "outputs": [
        {
          "data": {
            "text/plain": [
              "- : int = 3\n"
            ]
          },
          "execution_count": 21,
          "metadata": {},
          "output_type": "execute_result"
        }
      ],
      "source": [
        "Random.int 6"
      ]
    },
    {
      "cell_type": "markdown",
      "metadata": {},
      "source": [
        "Podobno kot si lahko izberemo naključno število, lahko izberemo tudi naključno logično vrednost s pomočjo funkcije `Random.bool`. Toda `Random.bool` ne potrebuje nobenega argumenta, ki bi določal množico vrednosti, med katerimi izbiramo. Toda funkcijo moramo vseeno poklicati na nekem argumentu, zato v tem primeru uporabimo `()`:"
      ]
    },
    {
      "cell_type": "code",
      "execution_count": 25,
      "metadata": {
        "vscode": {
          "languageId": "ocaml"
        }
      },
      "outputs": [
        {
          "data": {
            "text/plain": [
              "- : bool = false\n"
            ]
          },
          "execution_count": 25,
          "metadata": {},
          "output_type": "execute_result"
        }
      ],
      "source": [
        "Random.bool ()"
      ]
    },
    {
      "cell_type": "markdown",
      "metadata": {},
      "source": [
        "Podobno lahko s funkcijo `print_endline` na zaslon izpišemo podani niz. Toda izpisani niz ni rezultat, ki bi ga vrnila funkcija, temveč njen _stranski učinek_. A vsaka funkcija mora imeti rezultat, zato v tem primeru zopet vrnemo `()`:"
      ]
    },
    {
      "cell_type": "code",
      "execution_count": 26,
      "metadata": {
        "vscode": {
          "languageId": "ocaml"
        }
      },
      "outputs": [
        {
          "name": "stdout",
          "output_type": "stream",
          "text": [
            "Hello, world!\n"
          ]
        },
        {
          "data": {
            "text/plain": [
              "- : unit = ()\n"
            ]
          },
          "execution_count": 26,
          "metadata": {},
          "output_type": "execute_result"
        }
      ],
      "source": [
        "print_endline \"Hello, world!\""
      ]
    },
    {
      "cell_type": "markdown",
      "metadata": {},
      "source": [
        "Vidimo, da OCaml najprej izpiše niz, nato pa vrne `()`."
      ]
    },
    {
      "cell_type": "markdown",
      "metadata": {},
      "source": [
        "### Znaki `char`"
      ]
    },
    {
      "cell_type": "markdown",
      "metadata": {},
      "source": [
        "Tipu `char` pripadajo posamezni znaki, ki jih pišemo med enojne narekovaje."
      ]
    },
    {
      "cell_type": "code",
      "execution_count": null,
      "metadata": {
        "vscode": {
          "languageId": "ocaml"
        }
      },
      "outputs": [],
      "source": [
        "'a'"
      ]
    },
    {
      "cell_type": "markdown",
      "metadata": {
        "vscode": {
          "languageId": "ocaml"
        }
      },
      "source": [
        "Funkcije za delo z znaki so na voljo v modulu `Char`. Dva primera sta funkciji `code`, ki znak pretvori v njegovo ASCII kodo, ter `chr`, ki naredi ravno obratno."
      ]
    },
    {
      "cell_type": "code",
      "execution_count": null,
      "metadata": {
        "vscode": {
          "languageId": "ocaml"
        }
      },
      "outputs": [],
      "source": [
        "Char.code 'x'"
      ]
    },
    {
      "cell_type": "code",
      "execution_count": null,
      "metadata": {
        "vscode": {
          "languageId": "ocaml"
        }
      },
      "outputs": [],
      "source": [
        "Char.code 'y'"
      ]
    },
    {
      "cell_type": "code",
      "execution_count": null,
      "metadata": {
        "vscode": {
          "languageId": "ocaml"
        }
      },
      "outputs": [],
      "source": [
        "Char.chr 122"
      ]
    },
    {
      "cell_type": "markdown",
      "metadata": {
        "vscode": {
          "languageId": "ocaml"
        }
      },
      "source": [
        "### Primer: Cezarjeva šifra"
      ]
    },
    {
      "cell_type": "markdown",
      "metadata": {
        "vscode": {
          "languageId": "ocaml"
        }
      },
      "source": [
        "Za malo večji primer si oglejmo Cezarjevo šifro, ki je ena najstarejših šifrirnih tehnik. Pri Cezarjevi šifri vsak znak zamenjamo z ustrezno zamaknjenim znakom v abecedi. Na primer, pri zamiku 10 bi `A` zamenjali s `K`, `B` z `L` in tako naprej. Cezarjev znameniti citat \"Veni, vidi, vici\" bi tako postal \"Foxs, fsns, fsms\"."
      ]
    },
    {
      "cell_type": "markdown",
      "metadata": {},
      "source": [
        "    ABCDEFGHIJKLMNOPQRSTUVWXYZ    VENI, VIDI, VICI\n",
        "    KLMNOPQRSTUVWXYZABCDEFGHIJ    FOXS, FSNS, FSMS"
      ]
    },
    {
      "cell_type": "markdown",
      "metadata": {
        "vscode": {
          "languageId": "ocaml"
        }
      },
      "source": [
        "Najprej napišimo funkcijo, ki zamakne en sam znak. Pri tem menjamo samo velike tiskane črke, ostale znake (npr. ločila in presledke) pa pustimo nespremenjene."
      ]
    },
    {
      "cell_type": "code",
      "execution_count": 27,
      "metadata": {
        "vscode": {
          "languageId": "ocaml"
        }
      },
      "outputs": [
        {
          "data": {
            "text/plain": [
              "val cezarjeva_sifra : int -> char -> char = <fun>\n"
            ]
          },
          "execution_count": 27,
          "metadata": {},
          "output_type": "execute_result"
        }
      ],
      "source": [
        "let cezarjeva_sifra zamik znak =\n",
        "  if 'A' <= znak && znak <= 'Z' then\n",
        "    let mesto_znaka = Char.code znak - Char.code 'A' in\n",
        "    let novo_mesto = (mesto_znaka + zamik) mod 26 in\n",
        "    Char.chr (Char.code 'A' + novo_mesto)\n",
        "  else\n",
        "    znak"
      ]
    },
    {
      "cell_type": "code",
      "execution_count": 28,
      "metadata": {
        "vscode": {
          "languageId": "ocaml"
        }
      },
      "outputs": [
        {
          "data": {
            "text/plain": [
              "- : char = 'B'\n"
            ]
          },
          "execution_count": 28,
          "metadata": {},
          "output_type": "execute_result"
        }
      ],
      "source": [
        "cezarjeva_sifra 10 'R'"
      ]
    },
    {
      "cell_type": "markdown",
      "metadata": {},
      "source": [
        "Šifriranje celotnega niza enostavno naredimo tako, da s pomočjo funkcije `String.map` funkcijo za šifriranje znaka uporabimo na vsakem znaku posebej."
      ]
    },
    {
      "cell_type": "code",
      "execution_count": 29,
      "metadata": {
        "vscode": {
          "languageId": "ocaml"
        }
      },
      "outputs": [
        {
          "data": {
            "text/plain": [
              "val zasifriraj : int -> string -> string = <fun>\n"
            ]
          },
          "execution_count": 29,
          "metadata": {},
          "output_type": "execute_result"
        }
      ],
      "source": [
        "let zasifriraj zamik niz =\n",
        "    let zasifriraj_znak znak = cezarjeva_sifra zamik znak in\n",
        "    String.map zasifriraj_znak niz"
      ]
    },
    {
      "cell_type": "code",
      "execution_count": 30,
      "metadata": {
        "vscode": {
          "languageId": "ocaml"
        }
      },
      "outputs": [
        {
          "data": {
            "text/plain": [
              "- : string = \"FOXS, FSNS, FSMS\"\n"
            ]
          },
          "execution_count": 30,
          "metadata": {},
          "output_type": "execute_result"
        }
      ],
      "source": [
        "zasifriraj 10 \"VENI, VIDI, VICI\""
      ]
    },
    {
      "cell_type": "markdown",
      "metadata": {},
      "source": [
        "Sporočilo lahko odšifriramo tako, da uporabimo ravno obratni zamik."
      ]
    },
    {
      "cell_type": "code",
      "execution_count": 32,
      "metadata": {
        "vscode": {
          "languageId": "ocaml"
        }
      },
      "outputs": [
        {
          "data": {
            "text/plain": [
              "- : string = \"VENI, VIDI, VICI\"\n"
            ]
          },
          "execution_count": 32,
          "metadata": {},
          "output_type": "execute_result"
        }
      ],
      "source": [
        "zasifriraj (26 - 10) \"FOXS, FSNS, FSMS\""
      ]
    },
    {
      "cell_type": "markdown",
      "metadata": {},
      "source": [
        "## Funkcije"
      ]
    },
    {
      "cell_type": "markdown",
      "metadata": {},
      "source": [
        "### Funkcijski tipi"
      ]
    },
    {
      "cell_type": "markdown",
      "metadata": {
        "vscode": {
          "languageId": "ocaml"
        }
      },
      "source": [
        "Vsaka vrednost v OCamlu ima svoj tip, tudi funkcije. Tip funkcije je oblike <code>tip<sub>arg</sub> -> tip<sub>rez</sub></code>, kjer je <code>tip<sub>arg</sub></code> tip argumenta funkcije, <code>tip<sub>rez</sub></code> pa tip njenega rezultata. Na primer `float_of_int` vzame `int` in vrne `float`:\n"
      ]
    },
    {
      "cell_type": "code",
      "execution_count": 1,
      "metadata": {
        "vscode": {
          "languageId": "ocaml"
        }
      },
      "outputs": [
        {
          "data": {
            "text/plain": [
              "- : int -> float = <fun>\n"
            ]
          },
          "execution_count": 1,
          "metadata": {},
          "output_type": "execute_result"
        }
      ],
      "source": [
        "float_of_int"
      ]
    },
    {
      "cell_type": "markdown",
      "metadata": {
        "vscode": {
          "languageId": "ocaml"
        }
      },
      "source": [
        "Podobno je z ostalimi funkcijami, ki smo jih spoznali:"
      ]
    },
    {
      "cell_type": "code",
      "execution_count": 2,
      "metadata": {
        "vscode": {
          "languageId": "ocaml"
        }
      },
      "outputs": [
        {
          "data": {
            "text/plain": [
              "- : float -> int = <fun>\n"
            ]
          },
          "execution_count": 2,
          "metadata": {},
          "output_type": "execute_result"
        }
      ],
      "source": [
        "int_of_float"
      ]
    },
    {
      "cell_type": "code",
      "execution_count": 3,
      "metadata": {
        "vscode": {
          "languageId": "ocaml"
        }
      },
      "outputs": [
        {
          "data": {
            "text/plain": [
              "- : string -> int = <fun>\n"
            ]
          },
          "execution_count": 3,
          "metadata": {},
          "output_type": "execute_result"
        }
      ],
      "source": [
        "String.length"
      ]
    },
    {
      "cell_type": "code",
      "execution_count": 4,
      "metadata": {
        "vscode": {
          "languageId": "ocaml"
        }
      },
      "outputs": [
        {
          "data": {
            "text/plain": [
              "- : string -> unit = <fun>\n"
            ]
          },
          "execution_count": 4,
          "metadata": {},
          "output_type": "execute_result"
        }
      ],
      "source": [
        "print_endline"
      ]
    },
    {
      "cell_type": "markdown",
      "metadata": {},
      "source": [
        "Prisotnost tipa `unit` v argumentih ali rezultatih funkcije nakazuje, da se bodo najverjetneje zgodili učinki, saj ni razloga, da bi funkcija izračunala samo trivialni rezultat `()`. Podobno funkcija iz prazne vrednosti `()` težko izračuna kaj zanimivega."
      ]
    },
    {
      "cell_type": "markdown",
      "metadata": {},
      "source": [
        "### Funkcije več argumentov"
      ]
    },
    {
      "cell_type": "markdown",
      "metadata": {
        "vscode": {
          "languageId": "ocaml"
        }
      },
      "source": [
        "Podoben tip imajo tudi funkcije več argumentov:"
      ]
    },
    {
      "cell_type": "code",
      "execution_count": 5,
      "metadata": {
        "vscode": {
          "languageId": "ocaml"
        }
      },
      "outputs": [
        {
          "data": {
            "text/plain": [
              "val zmnozi : int -> int -> int = <fun>\n"
            ]
          },
          "execution_count": 5,
          "metadata": {},
          "output_type": "execute_result"
        }
      ],
      "source": [
        "let zmnozi x y = x * y"
      ]
    },
    {
      "cell_type": "markdown",
      "metadata": {},
      "source": [
        "Funkcija `zmnozi` sprejme dve celi števili tipa `int` in vrne njun produkt, ki je ravno tako tipa `int`. Podobno funkcija `String.cat` sprejme dva niza vrne njun stik."
      ]
    },
    {
      "cell_type": "code",
      "execution_count": 33,
      "metadata": {
        "vscode": {
          "languageId": "ocaml"
        }
      },
      "outputs": [
        {
          "data": {
            "text/plain": [
              "- : string -> string -> string = <fun>\n"
            ]
          },
          "execution_count": 33,
          "metadata": {},
          "output_type": "execute_result"
        }
      ],
      "source": [
        "String.cat"
      ]
    },
    {
      "cell_type": "markdown",
      "metadata": {},
      "source": [
        "Seveda ni treba, da so vsi tipi enaki. Funkcija `cezarjeva_sifra`, ki smo jo spoznali malo prej, vzame zamik tipa `int` in znak tipa `char` ter vrne zašifrirani znak, ki je ravno tako tipa `char`."
      ]
    },
    {
      "cell_type": "code",
      "execution_count": 34,
      "metadata": {
        "vscode": {
          "languageId": "ocaml"
        }
      },
      "outputs": [
        {
          "data": {
            "text/plain": [
              "val cezarjeva_sifra : int -> char -> char = <fun>\n"
            ]
          },
          "execution_count": 34,
          "metadata": {},
          "output_type": "execute_result"
        }
      ],
      "source": [
        "let cezarjeva_sifra zamik znak =\n",
        "  if 'A' <= znak && znak <= 'Z' then\n",
        "    let mesto_znaka = Char.code znak - Char.code 'A' in\n",
        "    let novo_mesto = (mesto_znaka + zamik) mod 26 in\n",
        "    Char.chr (Char.code 'A' + novo_mesto)\n",
        "  else\n",
        "    znak"
      ]
    },
    {
      "cell_type": "markdown",
      "metadata": {},
      "source": [
        "### Delna uporaba"
      ]
    },
    {
      "cell_type": "markdown",
      "metadata": {},
      "source": [
        "Najpomembnejša lastnost funkcij, ki sprejmejo več argumentov, je ta, da jih lahko tudi delno uporabimo tako, da jim podamo samo nekaj argumentov. Za primer vzemimo funkcijo `zasifriraj`, ki sprejme zamik in niz ter vrne zasifriran niz:"
      ]
    },
    {
      "cell_type": "code",
      "execution_count": 35,
      "metadata": {
        "vscode": {
          "languageId": "ocaml"
        }
      },
      "outputs": [
        {
          "data": {
            "text/plain": [
              "val zasifriraj : int -> string -> string = <fun>\n"
            ]
          },
          "execution_count": 35,
          "metadata": {},
          "output_type": "execute_result"
        }
      ],
      "source": [
        "let zasifriraj zamik niz =\n",
        "  let zasifriraj_znak znak = cezarjeva_sifra zamik znak in\n",
        "  String.map zasifriraj_znak niz"
      ]
    },
    {
      "cell_type": "markdown",
      "metadata": {},
      "source": [
        "Če funkciji podamo samo zamik, ne dobimo napake, kot bi jo v večini programskih jezikov, temveč funkcijo, ki čaka še na drugi argument:"
      ]
    },
    {
      "cell_type": "code",
      "execution_count": 37,
      "metadata": {
        "vscode": {
          "languageId": "ocaml"
        }
      },
      "outputs": [
        {
          "data": {
            "text/plain": [
              "val rot13 : string -> string = <fun>\n"
            ]
          },
          "execution_count": 37,
          "metadata": {},
          "output_type": "execute_result"
        }
      ],
      "source": [
        "let rot13 = zasifriraj 13"
      ]
    },
    {
      "cell_type": "markdown",
      "metadata": {},
      "source": [
        "V tem primeru uporabimo zamik 13 in dobimo funkcijo, ki vsak niz zašifrira z zamikom 13. Ta zamik je poseben, saj je sam svoj obrat, zato lahko isto funkcijo uporabimo za šifriranje in odšifriranje."
      ]
    },
    {
      "cell_type": "code",
      "execution_count": 38,
      "metadata": {
        "vscode": {
          "languageId": "ocaml"
        }
      },
      "outputs": [
        {
          "data": {
            "text/plain": [
              "- : string = \"IRAV, IVQV, IVPV\"\n"
            ]
          },
          "execution_count": 38,
          "metadata": {},
          "output_type": "execute_result"
        }
      ],
      "source": [
        "rot13 \"VENI, VIDI, VICI\""
      ]
    },
    {
      "cell_type": "code",
      "execution_count": 39,
      "metadata": {
        "vscode": {
          "languageId": "ocaml"
        }
      },
      "outputs": [
        {
          "data": {
            "text/plain": [
              "- : string = \"VENI, VIDI, VICI\"\n"
            ]
          },
          "execution_count": 39,
          "metadata": {},
          "output_type": "execute_result"
        }
      ],
      "source": [
        "rot13 \"IRAV, IVQV, IVPV\""
      ]
    },
    {
      "cell_type": "markdown",
      "metadata": {},
      "source": [
        "Z delno uporabo lahko programe precej skrajšamo. Za primer si spet oglejmo funkcijo `zasifriraj`."
      ]
    },
    {
      "cell_type": "code",
      "execution_count": null,
      "metadata": {
        "vscode": {
          "languageId": "ocaml"
        }
      },
      "outputs": [],
      "source": [
        "let zasifriraj zamik niz =\n",
        "  let zasifriraj_znak znak = cezarjeva_sifra zamik znak in\n",
        "  String.map zasifriraj_znak niz"
      ]
    },
    {
      "cell_type": "markdown",
      "metadata": {},
      "source": [
        "V njej smo uporabili pomožno funkcijo `zasifriraj_znak : char -> char`, ki znak zašifrira z poprej podanim zamikom. Ta funkcija se obnaša tako, kot da funkciji `cezarjeva_sifra` podali samo zamik. Zato lahko zgornjo vrstico na krajše napišemo kot:"
      ]
    },
    {
      "cell_type": "code",
      "execution_count": null,
      "metadata": {
        "vscode": {
          "languageId": "ocaml"
        }
      },
      "outputs": [],
      "source": [
        "let zasifriraj zamik niz =\n",
        "  let zasifriraj_znak = cezarjeva_sifra zamik in\n",
        "  String.map zasifriraj_znak niz"
      ]
    },
    {
      "cell_type": "markdown",
      "metadata": {
        "vscode": {
          "languageId": "ocaml"
        }
      },
      "source": [
        "Ker je definicija `zasifriraj_znak` precej preprosta, jo lahko vstavimo kar neposredno:"
      ]
    },
    {
      "cell_type": "code",
      "execution_count": null,
      "metadata": {
        "vscode": {
          "languageId": "ocaml"
        }
      },
      "outputs": [],
      "source": [
        "let zasifriraj zamik niz =\n",
        "  String.map (cezarjeva_sifra zamik) niz"
      ]
    },
    {
      "cell_type": "markdown",
      "metadata": {},
      "source": [
        "Tudi `String.map` lahko delno uporabimo tako, da ji podamo samo funkcijo, ki jo želimo uporabiti na vsakem znaku, in nazaj dobimo funkcijo iz nizov v nize:"
      ]
    },
    {
      "cell_type": "code",
      "execution_count": null,
      "metadata": {
        "vscode": {
          "languageId": "ocaml"
        }
      },
      "outputs": [],
      "source": [
        "let zasifriraj zamik =\n",
        "  String.map (cezarjeva_sifra zamik)"
      ]
    },
    {
      "cell_type": "markdown",
      "metadata": {},
      "source": [
        "Končna definicija je precej bolj jedrnata: na vsakem znaku uporabi cezarjevo šifro z danim zamikom. Ko se bomo navadili na osnovne tehnike funkcijskega programiranja, bo taka definicija tudi bolj pregledna."
      ]
    },
    {
      "cell_type": "markdown",
      "metadata": {},
      "source": [
        "### Funkcije višjega reda"
      ]
    },
    {
      "cell_type": "markdown",
      "metadata": {
        "vscode": {
          "languageId": "ocaml"
        }
      },
      "source": [
        "Funkcije so lahko tudi argumenti drugih funkcij. Na primer funkcija `String.exists` sprejme funkcijo tipa `char -> bool` in niz ter vrne `true`, če funkcija najde znak, za katerega je funkcija resnična. Na primer, če gledamo, ali niz vsebuje samoglasnik, lahko definiramo:"
      ]
    },
    {
      "cell_type": "code",
      "execution_count": null,
      "metadata": {
        "vscode": {
          "languageId": "ocaml"
        }
      },
      "outputs": [],
      "source": [
        "let je_samoglasnik znak =\n",
        "  String.contains \"aeiou\" (Char.lowercase_ascii znak)"
      ]
    },
    {
      "cell_type": "code",
      "execution_count": null,
      "metadata": {
        "vscode": {
          "languageId": "ocaml"
        }
      },
      "outputs": [],
      "source": [
        "je_samoglasnik 'A'"
      ]
    },
    {
      "cell_type": "markdown",
      "metadata": {
        "vscode": {
          "languageId": "ocaml"
        }
      },
      "source": [
        "Če bi radi vedeli, ali `niz` vsebuje samoglasnik, bi lahko napisali `String.exists je_samoglasnik niz`. Z delno uporabo pa lahko napišemo kar:"
      ]
    },
    {
      "cell_type": "code",
      "execution_count": null,
      "metadata": {
        "vscode": {
          "languageId": "ocaml"
        }
      },
      "outputs": [],
      "source": [
        "let vsebuje_samoglasnik =\n",
        "  String.exists je_samoglasnik"
      ]
    },
    {
      "cell_type": "code",
      "execution_count": null,
      "metadata": {
        "vscode": {
          "languageId": "ocaml"
        }
      },
      "outputs": [],
      "source": [
        "vsebuje_samoglasnik \"čmrlj\""
      ]
    },
    {
      "cell_type": "markdown",
      "metadata": {},
      "source": [
        "Tudi tip funkcije `String.exists` kaže, da sprejme dva argumenta: funkcijo tipa `char -> bool` in niz `string`."
      ]
    },
    {
      "cell_type": "code",
      "execution_count": 4,
      "metadata": {
        "vscode": {
          "languageId": "ocaml"
        }
      },
      "outputs": [
        {
          "data": {
            "text/plain": [
              "- : (char -> bool) -> string -> bool = <fun>\n"
            ]
          },
          "execution_count": 4,
          "metadata": {},
          "output_type": "execute_result"
        }
      ],
      "source": [
        "String.exists"
      ]
    },
    {
      "cell_type": "markdown",
      "metadata": {},
      "source": [
        "Pri tem je treba biti pozoren na postavitev oklepajev. Če bi jih izpustili, bi dobili tip `char -> bool -> string -> bool`, kar pa je funkcija, ki sprejme tri argumente, znak `char`, logično vrednost `bool` in niz `string`."
      ]
    },
    {
      "cell_type": "markdown",
      "metadata": {
        "vscode": {
          "languageId": "ocaml"
        }
      },
      "source": [
        "Kadar funkcija za argument sprejme drugo funkcijo, govorimo o funkcijah višjega reda. Običajne funkcije med števili, nizi, seznami in podobnimi vrednostmi so funkcije prvega reda. Funkcija $n$-tega reda pa je taka, ki za argument sprejme funkcijo $n - 1$-tega reda. Pri tem predmetu bomo spoznali tudi funkcije tretjega reda, velika večina funkcij, s katerimi se bomo ukvarjali, pa bodo funkcije prvega ali drugega reda."
      ]
    },
    {
      "cell_type": "markdown",
      "metadata": {},
      "source": [
        "### Anonimne funkcije"
      ]
    },
    {
      "cell_type": "markdown",
      "metadata": {},
      "source": [
        "Napišimo funkcijo, ki vrne prezrcaljen niz:"
      ]
    },
    {
      "cell_type": "code",
      "execution_count": 41,
      "metadata": {
        "vscode": {
          "languageId": "ocaml"
        }
      },
      "outputs": [
        {
          "data": {
            "text/plain": [
              "val zrcali : string -> string = <fun>\n"
            ]
          },
          "execution_count": 41,
          "metadata": {},
          "output_type": "execute_result"
        }
      ],
      "source": [
        "let zrcali niz =\n",
        "  let n = String.length niz in\n",
        "  let znak_na_zrcalnem_mestu i = String.get niz (n - i - 1) in\n",
        "  String.init n znak_na_zrcalnem_mestu"
      ]
    },
    {
      "cell_type": "code",
      "execution_count": 42,
      "metadata": {
        "vscode": {
          "languageId": "ocaml"
        }
      },
      "outputs": [
        {
          "data": {
            "text/plain": [
              "- : string = \"per icar ezer acirep\"\n"
            ]
          },
          "execution_count": 42,
          "metadata": {},
          "output_type": "execute_result"
        }
      ],
      "source": [
        "zrcali \"perica reze raci rep\""
      ]
    },
    {
      "cell_type": "markdown",
      "metadata": {},
      "source": [
        "Včasih majhnih funkcij kot je zgornja ni smiselno poimenovati. Precejšen del pisanja si prihranimo z uporabo _anonimnih_, torej nepoimenovanih funkcij, ki so oblike `fun arg -> ...`. Na primer, zgornjo funkcijo bi lahko napisali preprosto kot:"
      ]
    },
    {
      "cell_type": "code",
      "execution_count": 43,
      "metadata": {
        "vscode": {
          "languageId": "ocaml"
        }
      },
      "outputs": [
        {
          "data": {
            "text/plain": [
              "val zrcali : string -> string = <fun>\n"
            ]
          },
          "execution_count": 43,
          "metadata": {},
          "output_type": "execute_result"
        }
      ],
      "source": [
        "let zrcali niz =\n",
        "  let n = String.length niz in\n",
        "  String.init n (fun i -> String.get niz (n - i - 1))"
      ]
    },
    {
      "cell_type": "markdown",
      "metadata": {},
      "source": [
        "ki deluje enako kot zgornja definicija, le da nam pomožne funkcije ni bilo treba poimenovati. Še en primer je funkcija, ki preveri, ali so vsi znaki v nizu števke:"
      ]
    },
    {
      "cell_type": "code",
      "execution_count": 44,
      "metadata": {
        "vscode": {
          "languageId": "ocaml"
        }
      },
      "outputs": [
        {
          "data": {
            "text/plain": [
              "val je_stevilo : string -> bool = <fun>\n"
            ]
          },
          "execution_count": 44,
          "metadata": {},
          "output_type": "execute_result"
        }
      ],
      "source": [
        "let je_stevilo niz =\n",
        "  String.for_all (fun znak -> '0' <= znak && znak <= '9') niz"
      ]
    },
    {
      "cell_type": "markdown",
      "metadata": {
        "vscode": {
          "languageId": "ocaml"
        }
      },
      "source": [
        "Anonimne funkcije lahko sprejmejo tudi več argumentov. Za primer si najprej oglejmo funkcijo `String.mapi`, ki deluje podobno kot `String.map`, le da poleg znaka sprejme še njegov indeks:"
      ]
    },
    {
      "cell_type": "code",
      "execution_count": 66,
      "metadata": {
        "vscode": {
          "languageId": "ocaml"
        }
      },
      "outputs": [
        {
          "data": {
            "text/plain": [
              "val povej_sarkasticno : string -> string = <fun>\n"
            ]
          },
          "execution_count": 66,
          "metadata": {},
          "output_type": "execute_result"
        }
      ],
      "source": [
        "let povej_sarkasticno niz =\n",
        "  let soda_malo_liha_veliko i c =\n",
        "    if i mod 2 = 0 then Char.lowercase_ascii c else Char.uppercase_ascii c\n",
        "  in\n",
        "  String.mapi soda_malo_liha_veliko niz"
      ]
    },
    {
      "cell_type": "code",
      "execution_count": 67,
      "metadata": {
        "vscode": {
          "languageId": "ocaml"
        }
      },
      "outputs": [
        {
          "data": {
            "text/plain": [
              "- : string = \"jA, fUnKcIjSkO PrOgRaMiRaNjE Je rEs nAjBoLjšE!\"\n"
            ]
          },
          "execution_count": 67,
          "metadata": {},
          "output_type": "execute_result"
        }
      ],
      "source": [
        "povej_sarkasticno \"Ja, funkcijsko programiranje je res najboljše!\""
      ]
    },
    {
      "cell_type": "markdown",
      "metadata": {
        "vscode": {
          "languageId": "ocaml"
        }
      },
      "source": [
        "S pomočjo anonimnih funkcij bi to na krajše napisali kot:"
      ]
    },
    {
      "cell_type": "code",
      "execution_count": 68,
      "metadata": {
        "vscode": {
          "languageId": "ocaml"
        }
      },
      "outputs": [
        {
          "data": {
            "text/plain": [
              "val povej_sarkasticno : string -> string = <fun>\n"
            ]
          },
          "execution_count": 68,
          "metadata": {},
          "output_type": "execute_result"
        }
      ],
      "source": [
        "let povej_sarkasticno niz =\n",
        "  String.mapi\n",
        "    (fun i c -> if i mod 2 = 0 then Char.lowercase_ascii c else Char.uppercase_ascii c)\n",
        "    niz"
      ]
    },
    {
      "cell_type": "code",
      "execution_count": 71,
      "metadata": {
        "vscode": {
          "languageId": "ocaml"
        }
      },
      "outputs": [
        {
          "data": {
            "text/plain": [
              "- : string = \"aNoNiMnE FuNkCiJe mI PrIhRaNiJo tOlIkO TrUdA PrI PoImEnOvAnJu.\"\n"
            ]
          },
          "execution_count": 71,
          "metadata": {},
          "output_type": "execute_result"
        }
      ],
      "source": [
        "povej_sarkasticno \"Anonimne funkcije mi prihranijo toliko truda pri poimenovanju.\""
      ]
    },
    {
      "cell_type": "markdown",
      "metadata": {},
      "source": [
        "Z delno uporabo pa vse skupaj napišemo še na krajše:"
      ]
    },
    {
      "cell_type": "code",
      "execution_count": 69,
      "metadata": {
        "vscode": {
          "languageId": "ocaml"
        }
      },
      "outputs": [
        {
          "data": {
            "text/plain": [
              "val povej_sarkasticno : string -> string = <fun>\n"
            ]
          },
          "execution_count": 69,
          "metadata": {},
          "output_type": "execute_result"
        }
      ],
      "source": [
        "let povej_sarkasticno =\n",
        "  String.mapi (fun i -> if i mod 2 = 0 then Char.lowercase_ascii else Char.uppercase_ascii)"
      ]
    },
    {
      "cell_type": "code",
      "execution_count": 73,
      "metadata": {
        "vscode": {
          "languageId": "ocaml"
        }
      },
      "outputs": [
        {
          "data": {
            "text/plain": [
              "- : string = \"dElNa uPoRaBa dEfInIcIjE NaReDi sPlOh zElO PrEgLeDnE.\"\n"
            ]
          },
          "execution_count": 73,
          "metadata": {},
          "output_type": "execute_result"
        }
      ],
      "source": [
        "povej_sarkasticno \"Delna uporaba definicije naredi sploh zelo pregledne.\""
      ]
    },
    {
      "cell_type": "markdown",
      "metadata": {},
      "source": [
        "## Sestavljeni tipi"
      ]
    },
    {
      "cell_type": "markdown",
      "metadata": {},
      "source": [
        "Poleg preprostih vrednosti poznamo tudi sestavljene."
      ]
    },
    {
      "cell_type": "markdown",
      "metadata": {},
      "source": [
        "### Seznami"
      ]
    },
    {
      "cell_type": "markdown",
      "metadata": {
        "vscode": {
          "languageId": "ocaml"
        }
      },
      "source": [
        "Sezname v OCamlu pišemo med oglate oklepaje, vrednosti pa ločimo s podpičji. Vse vrednosti v seznamih morajo biti enakega tipa, seznam pa ima potem tip oblike <code>tip<sub>el</sub> list</code>, kjer je <code>tip<sub>el</sub></code> tip komponent."
      ]
    },
    {
      "cell_type": "code",
      "execution_count": null,
      "metadata": {
        "vscode": {
          "languageId": "ocaml"
        }
      },
      "outputs": [],
      "source": [
        "[1; 2; 3; 4]"
      ]
    },
    {
      "cell_type": "code",
      "execution_count": null,
      "metadata": {
        "vscode": {
          "languageId": "ocaml"
        }
      },
      "outputs": [],
      "source": [
        "['a'; 'b'; 'c'; 'd']"
      ]
    },
    {
      "cell_type": "markdown",
      "metadata": {
        "vscode": {
          "languageId": "ocaml"
        }
      },
      "source": [
        "Sezname sestavljamo z dvema operacijama. Z `::` sestavimo nov seznam z dano glavo in repom:"
      ]
    },
    {
      "cell_type": "code",
      "execution_count": null,
      "metadata": {
        "vscode": {
          "languageId": "ocaml"
        }
      },
      "outputs": [],
      "source": [
        "\"a\" :: \"b\" :: [\"c\"; \"d\"]"
      ]
    },
    {
      "cell_type": "markdown",
      "metadata": {},
      "source": [
        "Kasneje bomo videli, da ima `::` prav posebno vlogo, saj je tako imenovani _konstruktor_ seznamov. Vsak neprazen seznam je namreč prek `::` sestavljen iz glave in repa. Tudi `[1; 2; 3; 4]` je v resnici samo okrajšava za `1 :: (2 :: (3 :: (4 :: []))))`.\n",
        "\n",
        "Če želimo stakniti dva seznama, pa uporabimo operator `@`."
      ]
    },
    {
      "cell_type": "code",
      "execution_count": 45,
      "metadata": {
        "vscode": {
          "languageId": "ocaml"
        }
      },
      "outputs": [
        {
          "data": {
            "text/plain": [
              "- : int list = [1; 2; 3; 4; 5; 6]\n"
            ]
          },
          "execution_count": 45,
          "metadata": {},
          "output_type": "execute_result"
        }
      ],
      "source": [
        "[1; 2; 3] @ [4; 5; 6]"
      ]
    },
    {
      "cell_type": "code",
      "execution_count": 46,
      "metadata": {
        "vscode": {
          "languageId": "ocaml"
        }
      },
      "outputs": [
        {
          "data": {
            "text/plain": [
              "- : string list = [\"Uvod\"; \"v\"; \"funkcijsko\"; \"programiranje\"]\n"
            ]
          },
          "execution_count": 46,
          "metadata": {},
          "output_type": "execute_result"
        }
      ],
      "source": [
        "String.split_on_char ' ' \"Uvod v funkcijsko programiranje\""
      ]
    },
    {
      "cell_type": "markdown",
      "metadata": {},
      "source": [
        "Najkoristnejše funkcije za delo s seznami so v modulu `List`:"
      ]
    },
    {
      "cell_type": "code",
      "execution_count": null,
      "metadata": {
        "vscode": {
          "languageId": "ocaml"
        }
      },
      "outputs": [],
      "source": [
        "List.map String.length [\"Uvod\"; \"v\"; \"funkcijsko\"; \"programiranje\"]"
      ]
    },
    {
      "cell_type": "code",
      "execution_count": null,
      "metadata": {
        "vscode": {
          "languageId": "ocaml"
        }
      },
      "outputs": [],
      "source": [
        "List.filter (fun x -> x < 5) [3; 1; 4; 1; 5; 9; 2; 6; 5; 3; 5; 9]"
      ]
    },
    {
      "cell_type": "code",
      "execution_count": null,
      "metadata": {
        "vscode": {
          "languageId": "ocaml"
        }
      },
      "outputs": [],
      "source": [
        "List.flatten [[1; 2; 3]; [4; 5; 6]; [7; 8; 9]]"
      ]
    },
    {
      "cell_type": "markdown",
      "metadata": {
        "vscode": {
          "languageId": "ocaml"
        }
      },
      "source": [
        "Za vajo lahko preverite, kateri izmed spodnjih seznamov so veljavni:\n",
        "\n",
        "<details>\n",
        "    <summary><code>[1; 2] :: [3; 4]</code></summary>\n",
        "    NE\n",
        "</details>\n",
        "<details>\n",
        "    <summary><code>1 :: 2 :: 3 :: []</code></summary>\n",
        "    DA\n",
        "</details>\n",
        "<details>\n",
        "    <summary><code>[1; 2] @ [3; 4]</code></summary>\n",
        "    DA\n",
        "</details>\n",
        "<details>\n",
        "    <summary><code>1 @ 2 @ [3]</code></summary>\n",
        "    NE\n",
        "</details>\n",
        "<details>\n",
        "    <summary><code>[1, 2] @ [3]</code></summary>\n",
        "    NE\n",
        "</details>\n",
        "<details>\n",
        "    <summary><code>1 :: 2 :: 3</code></summary>\n",
        "    NE\n",
        "</details>\n",
        "<details>\n",
        "    <summary><code>[1; 2] @ []</code></summary>\n",
        "    DA\n",
        "</details>\n",
        "<details>\n",
        "    <summary><code>[1; 2] :: []</code></summary>\n",
        "    DA, presenetljivo je tudi to veljaven seznam in sicer <code>[[1; 2]]</code>.\n",
        "</details>"
      ]
    },
    {
      "cell_type": "markdown",
      "metadata": {},
      "source": [
        "### Nabori"
      ]
    },
    {
      "cell_type": "markdown",
      "metadata": {
        "vscode": {
          "languageId": "ocaml"
        }
      },
      "source": [
        "Poleg seznamov, ki vsebujejo poljubno število vrednosti istega tipa, pozna OCaml tudi nabore, ki vsebujejo fiksno število vrednosti različnih tipov. Nabore pišemo med navadne oklepaje, komponente pa ločimo z vejico."
      ]
    },
    {
      "cell_type": "code",
      "execution_count": 2,
      "metadata": {
        "vscode": {
          "languageId": "ocaml"
        }
      },
      "outputs": [
        {
          "data": {
            "text/plain": [
              "- : int * string * int = (25, \"junij\", 1991)\n"
            ]
          },
          "execution_count": 2,
          "metadata": {},
          "output_type": "execute_result"
        }
      ],
      "source": [
        "(25, \"junij\", 1991)"
      ]
    },
    {
      "cell_type": "code",
      "execution_count": 3,
      "metadata": {
        "vscode": {
          "languageId": "ocaml"
        }
      },
      "outputs": [
        {
          "data": {
            "text/plain": [
              "- : int * string = (4220, \"Škofja Loka\")\n"
            ]
          },
          "execution_count": 3,
          "metadata": {},
          "output_type": "execute_result"
        }
      ],
      "source": [
        "(4220, \"Škofja Loka\")"
      ]
    },
    {
      "cell_type": "markdown",
      "metadata": {
        "vscode": {
          "languageId": "ocaml"
        }
      },
      "source": [
        "Kot vidimo, imajo nabori tip označen s kartezičnim produktom <code>τ<sub>1</sub> * τ<sub>2</sub> * ... * τ<sub>n</sub></code>, kjer so <code>τ<sub>i</sub></code> tipi posameznih komponent. Naborov velikosti ena ni, ker niso potrebni, nabor velikosti 0 pa je natanko en in smo ga že spoznali. To je `()`. Ker kartezičnega produkta nič tipov ne moremo zapisati, tip praznega nabora označujemo z `unit`.\n"
      ]
    },
    {
      "cell_type": "markdown",
      "metadata": {
        "vscode": {
          "languageId": "ocaml"
        }
      },
      "source": [
        "Poglavitni namen naborov je pisanje funkcij, ki vrnejo več rezultatov:"
      ]
    },
    {
      "cell_type": "code",
      "execution_count": 1,
      "metadata": {
        "vscode": {
          "languageId": "ocaml"
        }
      },
      "outputs": [
        {
          "data": {
            "text/plain": [
              "- : int list * int list = ([3; 1; 4; 1; 2; 3], [5; 9; 6; 5; 5; 9])\n"
            ]
          },
          "execution_count": 1,
          "metadata": {},
          "output_type": "execute_result"
        }
      ],
      "source": [
        "List.partition (fun x -> x < 5) [3; 1; 4; 1; 5; 9; 2; 6; 5; 3; 5; 9]"
      ]
    },
    {
      "cell_type": "markdown",
      "metadata": {},
      "source": [
        "Pri zapisu naborov lahko oklepaje tudi izpustimo, vendar tega raje ne počnimo."
      ]
    },
    {
      "cell_type": "code",
      "execution_count": 36,
      "metadata": {
        "vscode": {
          "languageId": "ocaml"
        }
      },
      "outputs": [
        {
          "data": {
            "text/plain": [
              "- : int * bool * string = (1, true, \"abc\")\n"
            ]
          },
          "execution_count": 36,
          "metadata": {},
          "output_type": "execute_result"
        }
      ],
      "source": [
        "1, 2 < 3, \"abc\""
      ]
    },
    {
      "cell_type": "markdown",
      "metadata": {
        "vscode": {
          "languageId": "ocaml"
        }
      },
      "source": [
        "To možnost omenjamo samo zato, da boste lahko razumeli pogosto napako: če se pri pisanju seznamov zmotimo in namesto podpičij pišemo vejice, dobimo seznam z enim elementom, ki je nabor:"
      ]
    },
    {
      "cell_type": "code",
      "execution_count": 37,
      "metadata": {
        "vscode": {
          "languageId": "ocaml"
        }
      },
      "outputs": [
        {
          "data": {
            "text/plain": [
              "- : (int * int * int * int) list = [(1, 2, 3, 4)]\n"
            ]
          },
          "execution_count": 37,
          "metadata": {},
          "output_type": "execute_result"
        }
      ],
      "source": [
        "[1, 2, 3, 4]"
      ]
    },
    {
      "cell_type": "code",
      "execution_count": 39,
      "metadata": {
        "vscode": {
          "languageId": "ocaml"
        }
      },
      "outputs": [
        {
          "data": {
            "text/plain": [
              "- : int list = [1; 2; 3; 4]\n"
            ]
          },
          "execution_count": 39,
          "metadata": {},
          "output_type": "execute_result"
        }
      ],
      "source": [
        "[1; 2; 3; 4]"
      ]
    },
    {
      "cell_type": "markdown",
      "metadata": {},
      "source": [
        "### Razstavljanje z vzorci"
      ]
    },
    {
      "cell_type": "markdown",
      "metadata": {},
      "source": [
        "Na parih (torej naborih velikosti 2) imamo na voljo funkciji `fst` in `snd`, ki projecirata na prvo in drugo komponento."
      ]
    },
    {
      "cell_type": "code",
      "execution_count": 4,
      "metadata": {
        "vscode": {
          "languageId": "ocaml"
        }
      },
      "outputs": [
        {
          "data": {
            "text/plain": [
              "- : int = 5\n"
            ]
          },
          "execution_count": 4,
          "metadata": {},
          "output_type": "execute_result"
        }
      ],
      "source": [
        "fst (5, true)"
      ]
    },
    {
      "cell_type": "markdown",
      "metadata": {
        "vscode": {
          "languageId": "ocaml"
        }
      },
      "source": [
        "V lokalnih definicijah in argumentih funkcij lahko nabore razstavimo s pomočjo vzorcev. Na primer, namesto:"
      ]
    },
    {
      "cell_type": "code",
      "execution_count": 5,
      "metadata": {
        "vscode": {
          "languageId": "ocaml"
        }
      },
      "outputs": [
        {
          "data": {
            "text/plain": [
              "val raztegni : float -> float * float -> float * float = <fun>\n"
            ]
          },
          "execution_count": 5,
          "metadata": {},
          "output_type": "execute_result"
        }
      ],
      "source": [
        "let raztegni faktor koord =\n",
        "  (faktor *. fst koord, faktor *. snd koord)"
      ]
    },
    {
      "cell_type": "markdown",
      "metadata": {
        "vscode": {
          "languageId": "ocaml"
        }
      },
      "source": [
        "lahko pišemo:"
      ]
    },
    {
      "cell_type": "code",
      "execution_count": null,
      "metadata": {
        "vscode": {
          "languageId": "ocaml"
        }
      },
      "outputs": [],
      "source": [
        "let raztegni faktor koord =\n",
        "  let (x, y) = koord in\n",
        "  (faktor *. x, faktor *. y)"
      ]
    },
    {
      "cell_type": "markdown",
      "metadata": {
        "vscode": {
          "languageId": "ocaml"
        }
      },
      "source": [
        "ali še bolje kot:"
      ]
    },
    {
      "cell_type": "code",
      "execution_count": null,
      "metadata": {
        "vscode": {
          "languageId": "ocaml"
        }
      },
      "outputs": [],
      "source": [
        "let raztegni faktor (x, y) =\n",
        "  (faktor *. x, faktor *. y)"
      ]
    },
    {
      "cell_type": "markdown",
      "metadata": {},
      "source": [
        "Vrednosti lahko ignoriramo z vzorcem `_`"
      ]
    },
    {
      "cell_type": "code",
      "execution_count": 80,
      "metadata": {
        "vscode": {
          "languageId": "ocaml"
        }
      },
      "outputs": [
        {
          "data": {
            "text/plain": [
              "val poste : (int * string) list =\n",
              "  [(1000, \"Ljubljana\"); (2000, \"Maribor\"); (3000, \"Celje\")]\n"
            ]
          },
          "execution_count": 80,
          "metadata": {},
          "output_type": "execute_result"
        }
      ],
      "source": [
        "let poste = [(1000, \"Ljubljana\"); (2000, \"Maribor\"); (3000, \"Celje\")]"
      ]
    },
    {
      "cell_type": "code",
      "execution_count": 81,
      "metadata": {
        "vscode": {
          "languageId": "ocaml"
        }
      },
      "outputs": [
        {
          "data": {
            "text/plain": [
              "- : int list * string list =\n",
              "([1000; 2000; 3000], [\"Ljubljana\"; \"Maribor\"; \"Celje\"])\n"
            ]
          },
          "execution_count": 81,
          "metadata": {},
          "output_type": "execute_result"
        }
      ],
      "source": [
        "List.split poste"
      ]
    },
    {
      "cell_type": "code",
      "execution_count": 82,
      "metadata": {
        "vscode": {
          "languageId": "ocaml"
        }
      },
      "outputs": [
        {
          "data": {
            "text/plain": [
              "val imena_krajev : string list = [\"Ljubljana\"; \"Maribor\"; \"Celje\"]\n"
            ]
          },
          "execution_count": 82,
          "metadata": {},
          "output_type": "execute_result"
        }
      ],
      "source": [
        "let (_, imena_krajev) = List.split poste"
      ]
    },
    {
      "cell_type": "markdown",
      "metadata": {},
      "source": [
        "Vzorce lahko uporabljamo tudi v definicijah funkcij in anonimnih funkcijah:"
      ]
    },
    {
      "cell_type": "code",
      "execution_count": 84,
      "metadata": {
        "vscode": {
          "languageId": "ocaml"
        }
      },
      "outputs": [
        {
          "data": {
            "text/plain": [
              "- : (int * string) list =\n",
              "[(61000, \"Ljubljana\"); (62000, \"Maribor\"); (63000, \"Celje\")]\n"
            ]
          },
          "execution_count": 84,
          "metadata": {},
          "output_type": "execute_result"
        }
      ],
      "source": [
        "let stara_posta (postna, ime) = (60000 + postna, ime) in\n",
        "List.map stara_posta poste"
      ]
    },
    {
      "cell_type": "code",
      "execution_count": 85,
      "metadata": {
        "vscode": {
          "languageId": "ocaml"
        }
      },
      "outputs": [
        {
          "data": {
            "text/plain": [
              "- : (int * string) list =\n",
              "[(61000, \"Ljubljana\"); (62000, \"Maribor\"); (63000, \"Celje\")]\n"
            ]
          },
          "execution_count": 85,
          "metadata": {},
          "output_type": "execute_result"
        }
      ],
      "source": [
        "List.map (fun (postna, ime) -> (60000 + postna, ime)) poste"
      ]
    },
    {
      "cell_type": "markdown",
      "metadata": {},
      "source": [
        "### Delne vrednosti `τ option`"
      ]
    },
    {
      "cell_type": "markdown",
      "metadata": {},
      "source": [
        "Včasih imamo opravka s funkcijami, ki jih ne moremo povsod dobro definirati. Na primer, vsak niz ne predstavlja števila. Če funkcijo `int_of_string` uporabimo na takem nizu, bomo dobili napako ob izvajanju."
      ]
    },
    {
      "cell_type": "code",
      "execution_count": null,
      "metadata": {
        "vscode": {
          "languageId": "ocaml"
        }
      },
      "outputs": [],
      "source": [
        "int_of_string \"100\""
      ]
    },
    {
      "cell_type": "code",
      "execution_count": null,
      "metadata": {
        "tags": [
          "raises-exception"
        ],
        "vscode": {
          "languageId": "ocaml"
        }
      },
      "outputs": [],
      "source": [
        "int_of_string \"sto\""
      ]
    },
    {
      "cell_type": "markdown",
      "metadata": {},
      "source": [
        "Varnejši način je, da uporabimo tip `'a option`, ki predstavlja morebitno vrednost tipa `'a`:"
      ]
    },
    {
      "cell_type": "code",
      "execution_count": null,
      "metadata": {
        "vscode": {
          "languageId": "ocaml"
        }
      },
      "outputs": [],
      "source": [
        "int_of_string_opt \"100\""
      ]
    },
    {
      "cell_type": "code",
      "execution_count": null,
      "metadata": {
        "vscode": {
          "languageId": "ocaml"
        }
      },
      "outputs": [],
      "source": [
        "int_of_string_opt"
      ]
    },
    {
      "cell_type": "code",
      "execution_count": null,
      "metadata": {
        "vscode": {
          "languageId": "ocaml"
        }
      },
      "outputs": [],
      "source": [
        "List.filter_map int_of_string_opt [\"100\"; \"sto\"; \"123\"; \"tisoč\"]"
      ]
    },
    {
      "cell_type": "markdown",
      "metadata": {},
      "source": [
        "## Polimorfizem"
      ]
    },
    {
      "cell_type": "markdown",
      "metadata": {},
      "source": [
        "Vsaka vrednost v OCamlu ima natančno določen tip. Kakšen pa je tip funkcije `@`, saj lahko z njo stikamo tako sezname logičnih vrednosti, sezname števil, sezname seznamov števil, ..."
      ]
    },
    {
      "cell_type": "code",
      "execution_count": null,
      "metadata": {
        "vscode": {
          "languageId": "ocaml"
        }
      },
      "outputs": [],
      "source": [
        "[true; false] @ [false; true]"
      ]
    },
    {
      "cell_type": "code",
      "execution_count": null,
      "metadata": {
        "vscode": {
          "languageId": "ocaml"
        }
      },
      "outputs": [],
      "source": [
        "[1; 2] @ [3; 4; 5]"
      ]
    },
    {
      "cell_type": "markdown",
      "metadata": {
        "vscode": {
          "languageId": "ocaml"
        }
      },
      "source": [
        "Je `@` torej tipa `bool list -> bool list -> bool list` ali `int list -> int list -> int list` ali `int list list -> int list list -> int list list`? V resnici je lahko tipa `α list -> α list -> α list` za poljuben tip `α`. To v OCamlu označimo kot `'a list -> 'a list -> 'a list`. In res:"
      ]
    },
    {
      "cell_type": "code",
      "execution_count": null,
      "metadata": {
        "vscode": {
          "languageId": "ocaml"
        }
      },
      "outputs": [],
      "source": [
        "( @ )"
      ]
    },
    {
      "cell_type": "markdown",
      "metadata": {},
      "source": [
        "### Parametrično polimorfne vrednosti"
      ]
    },
    {
      "cell_type": "markdown",
      "metadata": {},
      "source": [
        "Vrednostim, ki imajo v tipih spremenljivke, pravimo _parametrično polimorfne_. Polimorfne zaradi tega, ker lahko delujejo pri več tipih, parametrično pa zato, ker pri vseh tipih delujejo na enak način."
      ]
    },
    {
      "cell_type": "code",
      "execution_count": null,
      "metadata": {
        "vscode": {
          "languageId": "ocaml"
        }
      },
      "outputs": [],
      "source": [
        "List.flatten"
      ]
    },
    {
      "cell_type": "code",
      "execution_count": null,
      "metadata": {
        "vscode": {
          "languageId": "ocaml"
        }
      },
      "outputs": [],
      "source": [
        "List.filter"
      ]
    },
    {
      "cell_type": "markdown",
      "metadata": {},
      "source": [
        "Tudi nekatere vrednosti so parametrično polimorfne:"
      ]
    },
    {
      "cell_type": "code",
      "execution_count": null,
      "metadata": {
        "vscode": {
          "languageId": "ocaml"
        }
      },
      "outputs": [],
      "source": [
        "[]"
      ]
    },
    {
      "cell_type": "code",
      "execution_count": 1,
      "metadata": {
        "vscode": {
          "languageId": "ocaml"
        }
      },
      "outputs": [
        {
          "data": {
            "text/plain": [
              "- : 'a list * 'b list list * ('c list * int) = ([], [[]], ([], 3))\n"
            ]
          },
          "execution_count": 1,
          "metadata": {},
          "output_type": "execute_result"
        }
      ],
      "source": [
        "([], [[]], ([], 3))"
      ]
    },
    {
      "cell_type": "markdown",
      "metadata": {},
      "source": [
        "\n",
        "Poznamo tudi tako imenovani _ad hoc_ polimorfizem, kjer pri nekaterih tipih funkcije delujejo na en način, pri nekaterih na drugačen, pri tretjih pa sploh ne. Primer takega polimorfizma je na primer `+` v Pythonu: števila sešteva, sezname in nize stika, na funkcijah pa ne deluje. OCaml ad hoc polimorfizma nima, ker povzroča težave pri določanju tipov."
      ]
    },
    {
      "cell_type": "markdown",
      "metadata": {},
      "source": [
        "### Polimorfni tipi z več parametri"
      ]
    },
    {
      "cell_type": "markdown",
      "metadata": {},
      "source": [
        "V parametrično polimorfnih funkcijah lahko nastopa več parametrov. Na primer, projekcija na prvo komponento vzame par iz kartezičnega produkta poljubnih dveh tipov in slika v drugega:"
      ]
    },
    {
      "cell_type": "code",
      "execution_count": null,
      "metadata": {
        "vscode": {
          "languageId": "ocaml"
        }
      },
      "outputs": [],
      "source": [
        "snd"
      ]
    },
    {
      "cell_type": "code",
      "execution_count": null,
      "metadata": {
        "vscode": {
          "languageId": "ocaml"
        }
      },
      "outputs": [],
      "source": [
        "List.map"
      ]
    },
    {
      "cell_type": "code",
      "execution_count": null,
      "metadata": {
        "vscode": {
          "languageId": "ocaml"
        }
      },
      "outputs": [],
      "source": [
        "List.filter_map"
      ]
    },
    {
      "cell_type": "code",
      "execution_count": null,
      "metadata": {
        "vscode": {
          "languageId": "ocaml"
        }
      },
      "outputs": [],
      "source": [
        "List.combine"
      ]
    },
    {
      "cell_type": "markdown",
      "metadata": {},
      "source": [
        "### Primer: veriženje"
      ]
    },
    {
      "cell_type": "markdown",
      "metadata": {},
      "source": [
        "Funkcije verižimo z operacijo `|>`"
      ]
    },
    {
      "cell_type": "code",
      "execution_count": null,
      "metadata": {
        "vscode": {
          "languageId": "ocaml"
        }
      },
      "outputs": [],
      "source": [
        "let ( |> ) x f = f x"
      ]
    },
    {
      "cell_type": "code",
      "execution_count": null,
      "metadata": {
        "vscode": {
          "languageId": "ocaml"
        }
      },
      "outputs": [],
      "source": [
        "String.length (String.trim \"   beseda   \")"
      ]
    },
    {
      "cell_type": "code",
      "execution_count": null,
      "metadata": {
        "vscode": {
          "languageId": "ocaml"
        }
      },
      "outputs": [],
      "source": [
        "\"   beseda   \" |> String.trim |> String.length"
      ]
    },
    {
      "cell_type": "code",
      "execution_count": null,
      "metadata": {
        "vscode": {
          "languageId": "ocaml"
        }
      },
      "outputs": [],
      "source": [
        "\"100,sto,123,tisoč\"\n",
        "|> String.split_on_char ','\n",
        "|> List.filter_map int_of_string_opt\n"
      ]
    },
    {
      "cell_type": "markdown",
      "metadata": {},
      "source": [
        "Recimo, da bi radi izločili vsa števila v posameznih vrsticah besedila."
      ]
    },
    {
      "cell_type": "markdown",
      "metadata": {},
      "source": [
        "    1000,Ljubljana        [[1000];\n",
        "    sto,100          ~>    [100];\n",
        "    1,a,2,b,3              [1; 2; 3]]"
      ]
    },
    {
      "cell_type": "code",
      "execution_count": null,
      "metadata": {
        "vscode": {
          "languageId": "ocaml"
        }
      },
      "outputs": [],
      "source": [
        "let stevila_v_vrstici vrstica =\n",
        "  vrstica |> String.split_on_char ',' |> List.filter_map int_of_string_opt"
      ]
    },
    {
      "cell_type": "code",
      "execution_count": null,
      "metadata": {
        "vscode": {
          "languageId": "ocaml"
        }
      },
      "outputs": [],
      "source": [
        "let stevila_v_besedilu besedilo =\n",
        "  besedilo |> String.split_on_char '\\n' |> List.map stevila_v_vrstici"
      ]
    },
    {
      "cell_type": "code",
      "execution_count": null,
      "metadata": {
        "vscode": {
          "languageId": "ocaml"
        }
      },
      "outputs": [],
      "source": [
        "\"1000,Ljubljana\n",
        "sto,100\n",
        "1,a,2,b,3\n",
        "\" |> stevila_v_besedilu"
      ]
    },
    {
      "cell_type": "markdown",
      "metadata": {},
      "source": [
        "## Curryrane funkcije"
      ]
    },
    {
      "cell_type": "markdown",
      "metadata": {},
      "source": [
        "Funkcijam več argumentov, kot jih poznamo v OCamlu, pravimo **curryrane**. Imenujejo se po logiku ([Haskellu Brooksu Curryju](https://en.wikipedia.org/wiki/Haskell_Curry), 1900–1982), ki je bil eden prvih raziskovalcev idej, na katerih temeljijo funkcijski jeziki. Na curryrane funkcije dveh argumentov lahko gledamo kot na funkcije _enega_ argumenta (prvega), ki vrnejo funkcijo _enega_ argumenta (drugega). Ko ta funkcija dobi še drugi argument, ima na voljo vse, kar potrebuje, in lahko izračuna končno vrednost."
      ]
    },
    {
      "cell_type": "markdown",
      "metadata": {},
      "source": [
        "\n",
        "Tako je definicija funkcija več argumentov `fun x y -> ...` v resnici samo okrajšava za gnezdeni funkciji enega argumenta `fun x -> fun y -> ...`. Prav tako je `f arg1 arg2` samo okrajšava za `(f arg1) arg2`, saj `f` uporabimo na prvem argumentu `arg1` in dobimo funkcijo `f arg1`, ki jo uporabimo še na drugem argumentu `arg2`. Pravimo, da je aplikacija _levo asociativna_."
      ]
    },
    {
      "cell_type": "markdown",
      "metadata": {
        "vscode": {
          "languageId": "ocaml"
        }
      },
      "source": [
        "Če bi želeli, bi se lahko odločili, da bi bila aplikacija desno asociativna, torej da bi `a b c` pomenilo `a (b c)`, kar bi bilo koristno za veriženje funkcij, saj bi namesto `f (g x)` lahko pisali kar `f g x`. Vendar je takih primerov veliko manj kot klicev funkcij več argumentov, zato je leva asociativnost boljša izbira. Veriženje pa lahko tako ali tako pišemo kot `x |> g |> f` ali `f @@ g @@ x`."
      ]
    },
    {
      "cell_type": "markdown",
      "metadata": {},
      "source": [
        "Funkcijski tip `A -> B -> C` predpisujemo funkcijam, ki sprejemajo dva argumenta: najprej sprejmejo argument tipa `A`, nato pa vrnejo funkcijo, ki čaka še drugi argument tipa `B`. Torej je `A -> B -> C` okrajšava za `A -> (B -> C)`. Podobno je `A -> B -> C -> D` okrajšava za `A -> (B -> (C -> D))`. Operacija `->` ki iz dveh tipov vrne tip funkcij med njima je torej _desno_ asociativna.\n",
        "\n",
        "Lahko bi se dogovorili tudi drugače in rekli, da je `->` levo asociativna operacija. S tem bi bil tip `A -> B -> C` okrajšava za tip funkcij drugega reda `(A -> B) -> C`. Ker je koristnih funkcij višjega veliko manj kot funkcij več argumentov, je desna asociativnost boljša izbira."
      ]
    },
    {
      "cell_type": "markdown",
      "metadata": {},
      "source": [
        "Namesto curryranih funkcij bi za funkcije več argumentov lahko uporabili tudi običajne funkcije, ki sprejmejo par:"
      ]
    },
    {
      "cell_type": "code",
      "execution_count": 95,
      "metadata": {
        "vscode": {
          "languageId": "ocaml"
        }
      },
      "outputs": [
        {
          "data": {
            "text/plain": [
              "val zmnozi : int -> int -> int = <fun>\n"
            ]
          },
          "execution_count": 95,
          "metadata": {},
          "output_type": "execute_result"
        },
        {
          "data": {
            "text/plain": [
              "val zmnozi' : int * int -> int = <fun>\n"
            ]
          },
          "execution_count": 95,
          "metadata": {},
          "output_type": "execute_result"
        }
      ],
      "source": [
        "let zmnozi x y = x * y\n",
        "let zmnozi' (x, y) = x * y"
      ]
    },
    {
      "cell_type": "code",
      "execution_count": 96,
      "metadata": {
        "vscode": {
          "languageId": "ocaml"
        }
      },
      "outputs": [
        {
          "data": {
            "text/plain": [
              "- : int = 42\n"
            ]
          },
          "execution_count": 96,
          "metadata": {},
          "output_type": "execute_result"
        }
      ],
      "source": [
        "zmnozi 6 7"
      ]
    },
    {
      "cell_type": "code",
      "execution_count": 97,
      "metadata": {
        "vscode": {
          "languageId": "ocaml"
        }
      },
      "outputs": [
        {
          "data": {
            "text/plain": [
              "- : int = 42\n"
            ]
          },
          "execution_count": 97,
          "metadata": {},
          "output_type": "execute_result"
        }
      ],
      "source": [
        "zmnozi' (6, 7)"
      ]
    },
    {
      "cell_type": "markdown",
      "metadata": {},
      "source": [
        "V tem primeru jih seveda ne moremo uporabiti samo na enem argumentu:"
      ]
    },
    {
      "cell_type": "code",
      "execution_count": 98,
      "metadata": {
        "vscode": {
          "languageId": "ocaml"
        }
      },
      "outputs": [
        {
          "data": {
            "text/plain": [
              "- : int -> int = <fun>\n"
            ]
          },
          "execution_count": 98,
          "metadata": {},
          "output_type": "execute_result"
        }
      ],
      "source": [
        "zmnozi 6"
      ]
    },
    {
      "cell_type": "code",
      "execution_count": 99,
      "metadata": {
        "tags": [
          "raises-exception"
        ],
        "vscode": {
          "languageId": "ocaml"
        }
      },
      "outputs": [
        {
          "ename": "error",
          "evalue": "compile_error",
          "output_type": "error",
          "traceback": [
            "File \"[99]\", line 1, characters 8-9:\n1 | zmnozi' 6\n            ^\nError: This expression has type int but an expression was expected of type\n         int * int\n"
          ]
        }
      ],
      "source": [
        "zmnozi' 6"
      ]
    },
    {
      "cell_type": "markdown",
      "metadata": {},
      "source": [
        "Prednost Curryranih funkcij je, da jih lahko uporabimo delno, nato pa dobljeno funkcijo preostalih argumentov uporabimo v kakšni funkciji drugega reda:"
      ]
    },
    {
      "cell_type": "code",
      "execution_count": 100,
      "metadata": {
        "vscode": {
          "languageId": "ocaml"
        }
      },
      "outputs": [
        {
          "data": {
            "text/plain": [
              "- : int list = [6; 12; 18; 24; 30; 36; 42]\n"
            ]
          },
          "execution_count": 100,
          "metadata": {},
          "output_type": "execute_result"
        }
      ],
      "source": [
        "List.map (zmnozi 6) [1; 2; 3; 4; 5; 6; 7]"
      ]
    },
    {
      "cell_type": "markdown",
      "metadata": {},
      "source": [
        "Seveda pa sta tipa `A * B -> C` in `A -> B -> C` izomorfna, saj vsebujeta vsebinsko enake, le po obliki različne funkcije. Med njima obstaja izomorfizem, tako kot med množicama $C^{A \\times B} \\cong (C^B)^A$. Postopku pretvorbe iz običajne funkcije v curryrano pravimo _curryranje_:"
      ]
    },
    {
      "cell_type": "code",
      "execution_count": 101,
      "metadata": {
        "vscode": {
          "languageId": "ocaml"
        }
      },
      "outputs": [
        {
          "data": {
            "text/plain": [
              "val curry : ('a * 'b -> 'c) -> 'a -> 'b -> 'c = <fun>\n"
            ]
          },
          "execution_count": 101,
          "metadata": {},
          "output_type": "execute_result"
        }
      ],
      "source": [
        "let curry f = fun x y -> f (x, y)"
      ]
    },
    {
      "cell_type": "code",
      "execution_count": 102,
      "metadata": {
        "vscode": {
          "languageId": "ocaml"
        }
      },
      "outputs": [
        {
          "data": {
            "text/plain": [
              "val zmnozi'' : int -> int -> int = <fun>\n"
            ]
          },
          "execution_count": 102,
          "metadata": {},
          "output_type": "execute_result"
        }
      ],
      "source": [
        "let zmnozi'' = curry zmnozi'"
      ]
    },
    {
      "cell_type": "code",
      "execution_count": 104,
      "metadata": {
        "vscode": {
          "languageId": "ocaml"
        }
      },
      "outputs": [
        {
          "data": {
            "text/plain": [
              "- : int list = [2; 4; 6; 8; 10; 12; 14]\n"
            ]
          },
          "execution_count": 104,
          "metadata": {},
          "output_type": "execute_result"
        }
      ],
      "source": [
        "List.map (zmnozi'' 2) [1; 2; 3; 4; 5; 6; 7]"
      ]
    },
    {
      "cell_type": "markdown",
      "metadata": {
        "vscode": {
          "languageId": "ocaml"
        }
      },
      "source": [
        "Kot vsak izomorfizem ima tudi curryranje svoj inverz, ki mu pravimo _razcurriranje_"
      ]
    },
    {
      "cell_type": "code",
      "execution_count": 105,
      "metadata": {
        "vscode": {
          "languageId": "ocaml"
        }
      },
      "outputs": [
        {
          "data": {
            "text/plain": [
              "val uncurry : ('a -> 'b -> 'c) -> 'a * 'b -> 'c = <fun>\n"
            ]
          },
          "execution_count": 105,
          "metadata": {},
          "output_type": "execute_result"
        }
      ],
      "source": [
        "let uncurry g = fun (x, y) -> g x y"
      ]
    },
    {
      "cell_type": "code",
      "execution_count": 107,
      "metadata": {
        "vscode": {
          "languageId": "ocaml"
        }
      },
      "outputs": [
        {
          "data": {
            "text/plain": [
              "- : int = 42\n"
            ]
          },
          "execution_count": 107,
          "metadata": {},
          "output_type": "execute_result"
        }
      ],
      "source": [
        "(uncurry zmnozi) (6, 7)"
      ]
    },
    {
      "cell_type": "markdown",
      "metadata": {},
      "source": [
        "## Vaje"
      ]
    },
    {
      "cell_type": "markdown",
      "metadata": {},
      "source": [
        "### Vektorji"
      ]
    },
    {
      "cell_type": "markdown",
      "metadata": {
        "vscode": {
          "languageId": "ocaml"
        }
      },
      "source": [
        "1. Napišite funkcijo `skaliraj : float -> float list -> float list`, ki vektor, predstavljen s seznamom števil s plavajočo vejico, pomnoži z danim skalarjem."
      ]
    },
    {
      "cell_type": "code",
      "execution_count": 3,
      "metadata": {
        "tags": [
          "remove-cell",
          "remove-stdout"
        ],
        "vscode": {
          "languageId": "ocaml"
        }
      },
      "outputs": [
        {
          "data": {
            "text/plain": [
              "val skaliraj : float -> float list -> float list = <fun>\n"
            ]
          },
          "execution_count": 3,
          "metadata": {},
          "output_type": "execute_result"
        }
      ],
      "source": [
        "let skaliraj k = List.map (( *. ) k)"
      ]
    },
    {
      "cell_type": "code",
      "execution_count": 4,
      "metadata": {
        "vscode": {
          "languageId": "ocaml"
        }
      },
      "outputs": [
        {
          "data": {
            "text/plain": [
              "- : float list = [2.; 4.; 6.]\n"
            ]
          },
          "execution_count": 4,
          "metadata": {},
          "output_type": "execute_result"
        }
      ],
      "source": [
        "skaliraj 2.0 [1.0; 2.0; 3.0]"
      ]
    },
    {
      "cell_type": "markdown",
      "metadata": {},
      "source": [
        "2. Napišite funkcijo `sestej : float list -> float list -> float list`, ki vrne vsoto dveh vektorjev."
      ]
    },
    {
      "cell_type": "code",
      "execution_count": 5,
      "metadata": {
        "tags": [
          "remove-cell",
          "remove-stdout"
        ],
        "vscode": {
          "languageId": "ocaml"
        }
      },
      "outputs": [
        {
          "data": {
            "text/plain": [
              "val sestej : float list -> float list -> float list = <fun>\n"
            ]
          },
          "execution_count": 5,
          "metadata": {},
          "output_type": "execute_result"
        }
      ],
      "source": [
        "let sestej v1 v2 = List.map2 (+.) v1 v2"
      ]
    },
    {
      "cell_type": "code",
      "execution_count": 6,
      "metadata": {
        "vscode": {
          "languageId": "ocaml"
        }
      },
      "outputs": [
        {
          "data": {
            "text/plain": [
              "- : float list = [5.; 7.; 9.]\n"
            ]
          },
          "execution_count": 6,
          "metadata": {},
          "output_type": "execute_result"
        }
      ],
      "source": [
        "sestej [1.0; 2.0; 3.0] [4.0; 5.0; 6.0]"
      ]
    },
    {
      "cell_type": "markdown",
      "metadata": {},
      "source": [
        "3. Napišite funkcijo `skalarni_produkt : float list -> float list -> float`, ki izračuna skalarni produkt dveh vektorjev. Pri tem si lahko pomagate s funkcijo `vsota_seznama : float list -> float`, definirano prek funkcije `List.fold_left`, ki jo bomo spoznali kasneje:"
      ]
    },
    {
      "cell_type": "code",
      "execution_count": 7,
      "metadata": {
        "vscode": {
          "languageId": "ocaml"
        }
      },
      "outputs": [
        {
          "data": {
            "text/plain": [
              "val vsota_seznama : float list -> float = <fun>\n"
            ]
          },
          "execution_count": 7,
          "metadata": {},
          "output_type": "execute_result"
        }
      ],
      "source": [
        "let vsota_seznama = List.fold_left (+.) 0."
      ]
    },
    {
      "cell_type": "code",
      "execution_count": 8,
      "metadata": {
        "tags": [
          "remove-cell",
          "remove-stdout"
        ],
        "vscode": {
          "languageId": "ocaml"
        }
      },
      "outputs": [
        {
          "data": {
            "text/plain": [
              "val skalarni_produkt : float list -> float list -> float = <fun>\n"
            ]
          },
          "execution_count": 8,
          "metadata": {},
          "output_type": "execute_result"
        }
      ],
      "source": [
        "let skalarni_produkt v1 v2 =\n",
        "  (* List.fold_left2 ( +. ) 0. v1 v2 *)\n",
        "  vsota_seznama @@ List.map2 ( *. ) v1 v2"
      ]
    },
    {
      "cell_type": "code",
      "execution_count": 9,
      "metadata": {
        "vscode": {
          "languageId": "ocaml"
        }
      },
      "outputs": [
        {
          "data": {
            "text/plain": [
              "- : float = 32.\n"
            ]
          },
          "execution_count": 9,
          "metadata": {},
          "output_type": "execute_result"
        }
      ],
      "source": [
        "\n",
        "skalarni_produkt [1.0; 2.0; 3.0] [4.0; 5.0; 6.0]"
      ]
    },
    {
      "cell_type": "markdown",
      "metadata": {},
      "source": [
        "4. Napišite funkcijo `norma : float list -> float`, ki vrne evklidsko normo vektorja."
      ]
    },
    {
      "cell_type": "code",
      "execution_count": 10,
      "metadata": {
        "tags": [
          "remove-cell",
          "remove-stdout"
        ],
        "vscode": {
          "languageId": "ocaml"
        }
      },
      "outputs": [
        {
          "data": {
            "text/plain": [
              "val norma : float list -> float = <fun>\n"
            ]
          },
          "execution_count": 10,
          "metadata": {},
          "output_type": "execute_result"
        }
      ],
      "source": [
        "let norma v = sqrt (skalarni_produkt v v)"
      ]
    },
    {
      "cell_type": "code",
      "execution_count": 11,
      "metadata": {
        "vscode": {
          "languageId": "ocaml"
        }
      },
      "outputs": [
        {
          "data": {
            "text/plain": [
              "- : float = 5.\n"
            ]
          },
          "execution_count": 11,
          "metadata": {},
          "output_type": "execute_result"
        }
      ],
      "source": [
        "norma [3.0; 4.0]"
      ]
    },
    {
      "cell_type": "markdown",
      "metadata": {},
      "source": [
        "5. Napišite funkcijo `kot_med_vektorjema : float list -> float list -> float`, ki izračuna kot med dvema vektorjema v radianih."
      ]
    },
    {
      "cell_type": "code",
      "execution_count": 12,
      "metadata": {
        "tags": [
          "remove-cell",
          "remove-stdout"
        ],
        "vscode": {
          "languageId": "ocaml"
        }
      },
      "outputs": [
        {
          "data": {
            "text/plain": [
              "val kot_med_vektorjema : float list -> float list -> float = <fun>\n"
            ]
          },
          "execution_count": 12,
          "metadata": {},
          "output_type": "execute_result"
        }
      ],
      "source": [
        "let kot_med_vektorjema v1 v2 =\n",
        "  acos (skalarni_produkt v1 v2 /. (norma v1 *. norma v2))"
      ]
    },
    {
      "cell_type": "code",
      "execution_count": 13,
      "metadata": {
        "vscode": {
          "languageId": "ocaml"
        }
      },
      "outputs": [
        {
          "data": {
            "text/plain": [
              "- : float = 1.57079632679489656\n"
            ]
          },
          "execution_count": 13,
          "metadata": {},
          "output_type": "execute_result"
        }
      ],
      "source": [
        "kot_med_vektorjema [1.0; 0.0] [0.0; 1.0]"
      ]
    },
    {
      "cell_type": "markdown",
      "metadata": {},
      "source": [
        "6. Napišite funkcijo `normiraj : float list -> float list`, ki normira dani vektor."
      ]
    },
    {
      "cell_type": "code",
      "execution_count": 14,
      "metadata": {
        "tags": [
          "remove-cell",
          "remove-stdout"
        ],
        "vscode": {
          "languageId": "ocaml"
        }
      },
      "outputs": [
        {
          "data": {
            "text/plain": [
              "val normiraj : float list -> float list = <fun>\n"
            ]
          },
          "execution_count": 14,
          "metadata": {},
          "output_type": "execute_result"
        }
      ],
      "source": [
        "let normiraj v = skaliraj (1.0 /. norma v) v"
      ]
    },
    {
      "cell_type": "code",
      "execution_count": 15,
      "metadata": {
        "vscode": {
          "languageId": "ocaml"
        }
      },
      "outputs": [
        {
          "data": {
            "text/plain": [
              "- : float list = [0.600000000000000089; 0.8]\n"
            ]
          },
          "execution_count": 15,
          "metadata": {},
          "output_type": "execute_result"
        }
      ],
      "source": [
        "normiraj [3.0; 4.0]"
      ]
    },
    {
      "cell_type": "markdown",
      "metadata": {},
      "source": [
        "7. Napišite funkcijo `projeciraj : float list -> float list -> float list`, ki izračuna projekcijo prvega vektorja na drugega.\n"
      ]
    },
    {
      "cell_type": "code",
      "execution_count": 16,
      "metadata": {
        "tags": [
          "remove-cell",
          "remove-stdout"
        ],
        "vscode": {
          "languageId": "ocaml"
        }
      },
      "outputs": [
        {
          "data": {
            "text/plain": [
              "val projeciraj : float list -> float list -> float list = <fun>\n"
            ]
          },
          "execution_count": 16,
          "metadata": {},
          "output_type": "execute_result"
        }
      ],
      "source": [
        "let projeciraj v1 v2 =\n",
        "  skaliraj (skalarni_produkt v1 v2) (normiraj v2)"
      ]
    },
    {
      "cell_type": "code",
      "execution_count": 17,
      "metadata": {
        "vscode": {
          "languageId": "ocaml"
        }
      },
      "outputs": [
        {
          "data": {
            "text/plain": [
              "- : float list = [3.; 0.]\n"
            ]
          },
          "execution_count": 17,
          "metadata": {},
          "output_type": "execute_result"
        }
      ],
      "source": [
        "projeciraj [3.0; 4.0] [1.0; 0.0]"
      ]
    },
    {
      "cell_type": "markdown",
      "metadata": {},
      "source": [
        "### Generiranje HTML-ja"
      ]
    },
    {
      "cell_type": "markdown",
      "metadata": {},
      "source": [
        "1. Napišite funkcijo `wrap : string -> string -> string`, ki sprejme ime HTML oznake in vsebino ter vrne niz, ki predstavlja ustrezno HTML oznako."
      ]
    },
    {
      "cell_type": "code",
      "execution_count": 20,
      "metadata": {
        "tags": [
          "remove-cell",
          "remove-stdout"
        ],
        "vscode": {
          "languageId": "ocaml"
        }
      },
      "outputs": [
        {
          "data": {
            "text/plain": [
              "val wrap : string -> string -> string = <fun>\n"
            ]
          },
          "execution_count": 20,
          "metadata": {},
          "output_type": "execute_result"
        }
      ],
      "source": [
        "let wrap tag content =\n",
        "  (* Printf.sprintf \"<%s>%s</%s>\" tag content tag *)\n",
        "  \"<\" ^ tag ^ \">\" ^ content ^ \"</\" ^ tag ^ \">\""
      ]
    },
    {
      "cell_type": "code",
      "execution_count": null,
      "metadata": {
        "vscode": {
          "languageId": "ocaml"
        }
      },
      "outputs": [
        {
          "data": {
            "text/plain": [
              "- : string = \"<h1>Hello, world!</h1>\"\n"
            ]
          },
          "execution_count": 19,
          "metadata": {},
          "output_type": "execute_result"
        }
      ],
      "source": [
        "wrap \"h1\" \"Hello, world!\""
      ]
    },
    {
      "cell_type": "markdown",
      "metadata": {},
      "source": [
        "\n",
        "2. Napišite funkcijo `indent : int -> string -> string`, ki sprejme število presledkov in niz ter vrne niz, v katerem je vsaka vrstica zamaknjena za ustrezno število presledkov.\n"
      ]
    },
    {
      "cell_type": "code",
      "execution_count": 21,
      "metadata": {
        "tags": [
          "remove-cell",
          "remove-stdout"
        ],
        "vscode": {
          "languageId": "ocaml"
        }
      },
      "outputs": [
        {
          "data": {
            "text/plain": [
              "val indent : int -> string -> string = <fun>\n"
            ]
          },
          "execution_count": 21,
          "metadata": {},
          "output_type": "execute_result"
        }
      ],
      "source": [
        "let indent n content =\n",
        "  let spaces = String.make n ' ' in\n",
        "  content\n",
        "  |> String.split_on_char '\\n'\n",
        "  |> List.map (String.cat spaces)\n",
        "  |> String.concat \"\\n\""
      ]
    },
    {
      "cell_type": "code",
      "execution_count": 22,
      "metadata": {
        "vscode": {
          "languageId": "ocaml"
        }
      },
      "outputs": [
        {
          "data": {
            "text/plain": [
              "- : string = \"    Hello,\\n    world!\"\n"
            ]
          },
          "execution_count": 22,
          "metadata": {},
          "output_type": "execute_result"
        }
      ],
      "source": [
        "indent 4 \"Hello,\\nworld!\""
      ]
    },
    {
      "cell_type": "markdown",
      "metadata": {},
      "source": [
        "3. Napišite funkcijo `unordered_list : string list -> string`, ki sprejme seznam nizov in vrne niz, ki predstavlja ustrezno zamaknjen neurejeni seznam v HTML-ju:\n"
      ]
    },
    {
      "cell_type": "code",
      "execution_count": 23,
      "metadata": {
        "tags": [
          "remove-cell",
          "remove-stdout"
        ],
        "vscode": {
          "languageId": "ocaml"
        }
      },
      "outputs": [
        {
          "data": {
            "text/plain": [
              "val unordered_list : string list -> string = <fun>\n"
            ]
          },
          "execution_count": 23,
          "metadata": {},
          "output_type": "execute_result"
        }
      ],
      "source": [
        "let unordered_list items =\n",
        "  items\n",
        "  |> List.map (wrap \"li\")\n",
        "  |> String.concat \"\\n\"\n",
        "  |> indent 2\n",
        "  |> (fun content -> \"\\n\" ^ content ^ \"\\n\")\n",
        "  |> wrap \"ul\""
      ]
    },
    {
      "cell_type": "code",
      "execution_count": 24,
      "metadata": {
        "vscode": {
          "languageId": "ocaml"
        }
      },
      "outputs": [
        {
          "name": "stdout",
          "output_type": "stream",
          "text": [
            "<ul>\n",
            "  <li>apple</li>\n",
            "  <li>banana</li>\n",
            "  <li>cherry</li>\n",
            "</ul>\n"
          ]
        },
        {
          "data": {
            "text/plain": [
              "- : unit = ()\n"
            ]
          },
          "execution_count": 24,
          "metadata": {},
          "output_type": "execute_result"
        }
      ],
      "source": [
        "print_endline @@ unordered_list [\"apple\"; \"banana\"; \"cherry\"]"
      ]
    },
    {
      "cell_type": "markdown",
      "metadata": {},
      "source": [
        "### Nakupovalni seznam"
      ]
    },
    {
      "cell_type": "markdown",
      "metadata": {},
      "source": [
        "1.\tNapišite funkcijo `razdeli_vrstico : string -> string * string`, ki sprejme niz, ki vsebuje vejico, loči na del pred in del za njo."
      ]
    },
    {
      "cell_type": "code",
      "execution_count": 26,
      "metadata": {
        "tags": [
          "remove-cell",
          "remove-stdout"
        ],
        "vscode": {
          "languageId": "ocaml"
        }
      },
      "outputs": [
        {
          "data": {
            "text/plain": [
              "val razdeli_vrstico : string -> string * string = <fun>\n"
            ]
          },
          "execution_count": 26,
          "metadata": {},
          "output_type": "execute_result"
        }
      ],
      "source": [
        "let razdeli_vrstico vrstica =\n",
        "  let indeks = String.index vrstica ',' in\n",
        "  let prvi = String.sub vrstica 0 indeks\n",
        "  and drugi = String.sub vrstica (indeks + 1) (String.length vrstica - indeks - 1) in\n",
        "  (String.trim prvi, String.trim drugi)"
      ]
    },
    {
      "cell_type": "code",
      "execution_count": 27,
      "metadata": {
        "vscode": {
          "languageId": "ocaml"
        }
      },
      "outputs": [
        {
          "data": {
            "text/plain": [
              "- : string * string = (\"mleko\", \"2\")\n"
            ]
          },
          "execution_count": 27,
          "metadata": {},
          "output_type": "execute_result"
        }
      ],
      "source": [
        "razdeli_vrstico \"mleko, 2\""
      ]
    },
    {
      "cell_type": "markdown",
      "metadata": {},
      "source": [
        "\n",
        "2.\tNapišite funkcijo `pretvori_v_seznam_parov : string -> (string * string) list`, ki sprejme večvrstični niz, kjer je vsaka vrstica niz oblike `\"izdelek, vrednost\"`, in vrne seznam ustreznih parov.\n"
      ]
    },
    {
      "cell_type": "code",
      "execution_count": 28,
      "metadata": {
        "tags": [
          "remove-cell",
          "remove-stdout"
        ],
        "vscode": {
          "languageId": "ocaml"
        }
      },
      "outputs": [
        {
          "data": {
            "text/plain": [
              "val pretvori_v_seznam_parov : string -> (string * string) list = <fun>\n"
            ]
          },
          "execution_count": 28,
          "metadata": {},
          "output_type": "execute_result"
        }
      ],
      "source": [
        "let pretvori_v_seznam_parov niz =\n",
        "  niz\n",
        "  |> String.trim\n",
        "  |> String.split_on_char '\\n'\n",
        "  |> List.map razdeli_vrstico"
      ]
    },
    {
      "cell_type": "code",
      "execution_count": 33,
      "metadata": {
        "vscode": {
          "languageId": "ocaml"
        }
      },
      "outputs": [
        {
          "data": {
            "text/plain": [
              "- : (string * string) list =\n",
              "[(\"mleko\", \"2\"); (\"kruh\", \"1\"); (\"jabolko\", \"5\")]\n"
            ]
          },
          "execution_count": 33,
          "metadata": {},
          "output_type": "execute_result"
        }
      ],
      "source": [
        "pretvori_v_seznam_parov \"mleko, 2\\nkruh, 1\\njabolko, 5\""
      ]
    },
    {
      "cell_type": "markdown",
      "metadata": {},
      "source": [
        "\n",
        "3.\tNapišite funkcijo `pretvori_druge_komponente : ('a -> 'b) -> (string * 'a) list -> (string * 'b) list`, ki dano funkcijo uporabi na vseh drugih komponentah elementov seznama.\n"
      ]
    },
    {
      "cell_type": "code",
      "execution_count": 30,
      "metadata": {
        "tags": [
          "remove-cell",
          "remove-stdout"
        ],
        "vscode": {
          "languageId": "ocaml"
        }
      },
      "outputs": [
        {
          "data": {
            "text/plain": [
              "val pretvori_druge_komponente :\n",
              "  ('a -> 'b) -> ('c * 'a) list -> ('c * 'b) list = <fun>\n"
            ]
          },
          "execution_count": 30,
          "metadata": {},
          "output_type": "execute_result"
        }
      ],
      "source": [
        "let pretvori_druge_komponente f =\n",
        "  List.map (fun (x, y) -> (x, f y))"
      ]
    },
    {
      "cell_type": "code",
      "execution_count": 34,
      "metadata": {
        "vscode": {
          "languageId": "ocaml"
        }
      },
      "outputs": [
        {
          "data": {
            "text/plain": [
              "- : (string * int) list = [(\"ata\", 4); (\"teta\", 5)]\n"
            ]
          },
          "execution_count": 34,
          "metadata": {},
          "output_type": "execute_result"
        }
      ],
      "source": [
        "let seznam = [(\"ata\", \"mama\"); (\"teta\", \"stric\")] in\n",
        "pretvori_druge_komponente String.length seznam"
      ]
    },
    {
      "cell_type": "markdown",
      "metadata": {},
      "source": [
        "\n",
        "4.\tNapišite funkcijo `izracunaj_skupni_znesek : string -> string -> float`, ki sprejme večvrstična niza nakupovalnega seznama in cenika in izračuna skupni znesek nakupa.\n"
      ]
    },
    {
      "cell_type": "code",
      "execution_count": 47,
      "metadata": {
        "tags": [
          "remove-cell",
          "remove-stdout"
        ],
        "vscode": {
          "languageId": "ocaml"
        }
      },
      "outputs": [
        {
          "data": {
            "text/plain": [
              "val izracunaj_skupni_znesek : string -> string -> float list = <fun>\n"
            ]
          },
          "execution_count": 47,
          "metadata": {},
          "output_type": "execute_result"
        }
      ],
      "source": [
        "let izracunaj_skupni_znesek cenik seznam =\n",
        "  let cenik =\n",
        "    cenik\n",
        "    |> pretvori_v_seznam_parov\n",
        "    |> pretvori_druge_komponente float_of_string\n",
        "  in\n",
        "  let cena_izdelka (izdelek, kolicina) =\n",
        "    let cena = List.assoc izdelek cenik in\n",
        "    float_of_int kolicina *. cena\n",
        "  in\n",
        "  seznam\n",
        "  |> pretvori_v_seznam_parov\n",
        "  |> pretvori_druge_komponente int_of_string\n",
        "  |> List.map cena_izdelka\n",
        "  |> vsota_seznama"
      ]
    },
    {
      "cell_type": "code",
      "execution_count": 50,
      "metadata": {
        "vscode": {
          "languageId": "ocaml"
        }
      },
      "outputs": [
        {
          "data": {
            "text/plain": [
              "- : float list = [3.; 2.5]\n"
            ]
          },
          "execution_count": 50,
          "metadata": {},
          "output_type": "execute_result"
        }
      ],
      "source": [
        "let nakupovalni_seznam = \"mleko, 2\\njabolka, 5\"\n",
        "and cenik = \"jabolka, 0.5\\nkruh, 2\\nmleko, 1.5\" in\n",
        "izracunaj_skupni_znesek cenik nakupovalni_seznam"
      ]
    }
  ],
  "metadata": {
    "kernelspec": {
      "display_name": "OCaml default",
      "language": "OCaml",
      "name": "ocaml-jupyter-default"
    },
    "language_info": {
      "codemirror_mode": "text/x-ocaml",
      "file_extension": ".ml",
      "mimetype": "text/x-ocaml",
      "name": "OCaml",
      "nbconverter_exporter": null,
      "pygments_lexer": "OCaml",
      "version": "4.14.1"
    }
  },
  "nbformat": 4,
  "nbformat_minor": 2
}
