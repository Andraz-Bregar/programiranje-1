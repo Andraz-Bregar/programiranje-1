{
 "cells": [
  {
   "cell_type": "markdown",
   "id": "a751d058",
   "metadata": {},
   "source": [
    "# Abstrakcija"
   ]
  },
  {
   "cell_type": "markdown",
   "id": "f3a247aa",
   "metadata": {},
   "source": [
    "Ko pišemo večje programe, je dobro, da jih razdelimo na manjše dele, ki jih lahko ločeno razumemo, razvijamo in preizkušamo. Pravimo, da programe pišemo _modularno_. V programskih jezikih modularnost dosežemo na več načinov. Eden, na katerega smo že navajeni, je razbitje kode na funkcije. Dostikrat pa želimo sorodne funkcije in podatke združiti v povezane enote.\n",
    "\n",
    "V Pythonu to lahko storimo z razredi, ki združujejo določeno vrsto podatkov s funkcijami za delo na njih. Včasih je med seboj povezanih več razredov, ki jih združujemo v posamezne datoteke, ki jim pravimo tudi _[moduli](https://docs.python.org/3/tutorial/modules.html)_.\n",
    "\n",
    "Tudi OCaml pozna module, ki imajo enako ime kot Pythonovi, a so precej naprednejši, saj omogočajo tudi skrivanje podrobnosti implementacije, čemur pravimo _abstrakcija_. Namen skrivanja podrobnosti seveda ni v zaščiti industrijskih skrivnosti, saj običajno delamo z lastnimi moduli, temveč v tem, da skrijemo podrobnosti in s tem poenostavimo razumevanje, preprečimo nepričakovano uporabo in olajšamo kasnejše spremembe implementacije."
   ]
  },
  {
   "cell_type": "markdown",
   "id": "2648a703",
   "metadata": {},
   "source": [
    "## Moduli"
   ]
  },
  {
   "cell_type": "markdown",
   "id": "5591e9eb",
   "metadata": {},
   "source": [
    "OCamlovi moduli so zbirke definicij tipov, funkcij, vrednosti, (kasneje tudi drugih modulov), kot smo jih do sedaj pisali v datoteke ali v ukazno vrstico. V resnici vsaka `.ml` datoteka predstavlja modul, ki vsebuje vse definicije v njej. Do sedaj smo spoznali že nekaj modulov iz standardne knjižnice: `String` za delo z nizi, `List` za delo s seznami ali `Random` za delo z naključnimi vrednostmi."
   ]
  },
  {
   "cell_type": "markdown",
   "id": "238cc65b",
   "metadata": {},
   "source": [
    "Sestavimo svoj modul `Datum` za delo z datumi, v katerega za začetek naberimo funkcije in tipe, ki smo jih videli že prej. Module definiramo z ukazom `module`, vse definicije v modulu pa morajo biti znotraj bloka `struct ... end`. Glavni tip modula običajno poimenujemo `t`, da pišemo `Datum.t` namesto `Datum.datum`."
   ]
  },
  {
   "cell_type": "code",
   "execution_count": 143,
   "id": "cd08757d",
   "metadata": {
    "vscode": {
     "languageId": "ocaml"
    }
   },
   "outputs": [
    {
     "data": {
      "text/plain": [
       "module Datum :\n",
       "  sig\n",
       "    type t = { dan : int; mesec : int; leto : int; }\n",
       "    val je_prestopno : int -> bool\n",
       "    val dolzina_meseca : int -> int -> int\n",
       "    val je_veljaven : t -> bool\n",
       "    val naredi : int -> int -> int -> t option\n",
       "    val to_string : t -> string\n",
       "  end\n"
      ]
     },
     "execution_count": 143,
     "metadata": {},
     "output_type": "execute_result"
    }
   ],
   "source": [
    "module Datum = struct\n",
    "  type t = { dan : int; mesec : int; leto : int }\n",
    "\n",
    "  let je_prestopno leto =\n",
    "    (leto mod 4 = 0 && leto mod 100 <> 0) || leto mod 400 = 0\n",
    "    \n",
    "  let dolzina_meseca leto =\n",
    "    function\n",
    "    | 4 | 6 | 9 | 11 -> 30\n",
    "    | 2 -> if je_prestopno leto then 29 else 28\n",
    "    | _ -> 31\n",
    "\n",
    "  let je_veljaven datum =\n",
    "    let veljaven_dan = 1 <= datum.dan && datum.dan <= dolzina_meseca datum.leto datum.mesec\n",
    "    and veljaven_mesec = 1 <= datum.mesec && datum.mesec <= 12\n",
    "    in\n",
    "    veljaven_dan && veljaven_mesec\n",
    "\n",
    "  let naredi dan mesec leto =\n",
    "    let datum = { dan; mesec; leto } in\n",
    "    if je_veljaven datum then Some datum else None\n",
    "\n",
    "  let to_string { dan; mesec; leto } =\n",
    "    Format.sprintf \"%04d-%02d-%02d\" leto mesec dan\n",
    "end"
   ]
  },
  {
   "cell_type": "markdown",
   "id": "7a4696eb",
   "metadata": {},
   "source": [
    "Do funkcij iz modula dostopamo prek `ImeModula.ime_funkcije`, tako kot smo do sedaj dostopali do funkcij iz modulov `List`, `String` in `Random`."
   ]
  },
  {
   "cell_type": "code",
   "execution_count": 144,
   "id": "285bd7c7",
   "metadata": {
    "vscode": {
     "languageId": "ocaml"
    }
   },
   "outputs": [
    {
     "data": {
      "text/plain": [
       "- : string = \"1991-06-25\"\n"
      ]
     },
     "execution_count": 144,
     "metadata": {},
     "output_type": "execute_result"
    }
   ],
   "source": [
    "{ dan = 25; mesec = 6; leto = 1991} |> Datum.to_string"
   ]
  },
  {
   "cell_type": "code",
   "execution_count": 145,
   "id": "c468a78f",
   "metadata": {
    "vscode": {
     "languageId": "ocaml"
    }
   },
   "outputs": [
    {
     "data": {
      "text/plain": [
       "- : int = 30\n"
      ]
     },
     "execution_count": 145,
     "metadata": {},
     "output_type": "execute_result"
    }
   ],
   "source": [
    "Datum.dolzina_meseca 1991 6"
   ]
  },
  {
   "cell_type": "markdown",
   "id": "18484da9",
   "metadata": {},
   "source": [
    "## Signature"
   ]
  },
  {
   "cell_type": "markdown",
   "id": "33b61083",
   "metadata": {},
   "source": [
    "Tako kot ima vsaka vrednost v OCamlu svoj tip, lahko zgoraj vidimo, da ga imajo tudi moduli. Tipom modulov pravimo _signature_. Signatura opisuje definirane tipe ter tipe definiranih vrednosti (ne pa njihovih implementacij). Signature pišemo podobno kot module, le da uporabimo blok `sig ... end`, tipe vrednosti pa podamo s ključno besedo `val`. Definicije tipov ostanejo enake."
   ]
  },
  {
   "cell_type": "markdown",
   "id": "7b20dc78",
   "metadata": {},
   "source": [
    "### Definicije signatur"
   ]
  },
  {
   "cell_type": "markdown",
   "id": "128309e7",
   "metadata": {},
   "source": [
    "Signature definiramo podobno kot module, le da uporabimo ukaz `module type`."
   ]
  },
  {
   "cell_type": "code",
   "execution_count": 146,
   "id": "04307e42",
   "metadata": {
    "vscode": {
     "languageId": "ocaml"
    }
   },
   "outputs": [
    {
     "data": {
      "text/plain": [
       "module type DATUM =\n",
       "  sig\n",
       "    type t = { dan : int; mesec : int; leto : int; }\n",
       "    val je_prestopno : int -> bool\n",
       "    val dolzina_meseca : int -> int -> int\n",
       "    val je_veljaven : t -> bool\n",
       "    val naredi : int -> int -> int -> t option\n",
       "    val to_string : t -> string\n",
       "  end\n"
      ]
     },
     "execution_count": 146,
     "metadata": {},
     "output_type": "execute_result"
    }
   ],
   "source": [
    "module type DATUM =\n",
    "  sig\n",
    "    type t = { dan : int; mesec : int; leto : int; }\n",
    "    val je_prestopno : int -> bool\n",
    "    val dolzina_meseca : int -> int -> int\n",
    "    val je_veljaven : t -> bool\n",
    "    val naredi : int -> int -> int -> t option\n",
    "    val to_string : t -> string\n",
    "  end"
   ]
  },
  {
   "cell_type": "markdown",
   "id": "d61a366f",
   "metadata": {},
   "source": [
    "Kot smo videli zgoraj, zna OCaml tako signaturo izračunati tudi sam. Toda tako kot smo morali prej nekaterim funkcijam z označbami sami vsiliti tip, bomo enako želeli s signaturami modulov. Razloga sta dva:\n",
    "1. preverjanje skladnosti in\n",
    "2. skrivanje implementacije."
   ]
  },
  {
   "cell_type": "markdown",
   "id": "1f86690a",
   "metadata": {},
   "source": [
    "### Preverjanje skladnosti implementacije"
   ]
  },
  {
   "cell_type": "markdown",
   "id": "3de7713b",
   "metadata": {},
   "source": [
    "Prvi namen signatur je specifikacija vsebine modula. Običajno delo začnemo tako, da v signaturi opišemo, kaj bodo sestavni deli modula, nato pa začnemo pisati implementacijo, ki ji zadošča. Ko definiramo modul, lahko zraven z označbo podamo tudi njegovo signaturo:"
   ]
  },
  {
   "cell_type": "code",
   "execution_count": 147,
   "id": "6b5325eb",
   "metadata": {
    "vscode": {
     "languageId": "ocaml"
    }
   },
   "outputs": [
    {
     "data": {
      "text/plain": [
       "module Datum : DATUM\n"
      ]
     },
     "execution_count": 147,
     "metadata": {},
     "output_type": "execute_result"
    }
   ],
   "source": [
    "module Datum : DATUM = struct\n",
    "  type t = { dan : int; mesec : int; leto : int }\n",
    "\n",
    "  let je_prestopno leto =\n",
    "    (leto mod 4 = 0 && leto mod 100 <> 0) || leto mod 400 = 0\n",
    "    \n",
    "  let dolzina_meseca leto =\n",
    "    function\n",
    "    | 4 | 6 | 9 | 11 -> 30\n",
    "    | 2 -> if je_prestopno leto then 29 else 28\n",
    "    | _ -> 31\n",
    "\n",
    "  let je_veljaven datum =\n",
    "    let veljaven_dan = 1 <= datum.dan && datum.dan <= dolzina_meseca datum.leto datum.mesec\n",
    "    and veljaven_mesec = 1 <= datum.mesec && datum.mesec <= 12\n",
    "    in\n",
    "    veljaven_dan && veljaven_mesec\n",
    "\n",
    "  let naredi dan mesec leto =\n",
    "    let datum = { dan; mesec; leto } in\n",
    "    if je_veljaven datum then Some datum else None\n",
    "\n",
    "  let to_string { dan; mesec; leto } =\n",
    "    Format.sprintf \"%04d-%02d-%02d\" leto mesec dan\n",
    "end"
   ]
  },
  {
   "cell_type": "markdown",
   "id": "ab5c2b78",
   "metadata": {},
   "source": [
    "Isti signaturi lahko zadošča več modulov, ki se med seboj razlikujejo le v implementaciji. Na primer, tu je malo bolj ohlapna implementacija datumov. Seveda si take implementacije ne želimo, je pa morda dobro začetno izhodišče. Od vsega začetka razvoja pa bo OCaml preverjal, ali se implementacija ujema s signaturo."
   ]
  },
  {
   "cell_type": "code",
   "execution_count": 148,
   "id": "1a300ecd",
   "metadata": {
    "vscode": {
     "languageId": "ocaml"
    }
   },
   "outputs": [
    {
     "data": {
      "text/plain": [
       "module VednoVeljavenDatum : DATUM\n"
      ]
     },
     "execution_count": 148,
     "metadata": {},
     "output_type": "execute_result"
    }
   ],
   "source": [
    "module VednoVeljavenDatum : DATUM = struct\n",
    "  type t = { dan : int; mesec : int; leto : int }\n",
    "\n",
    "  let je_prestopno leto = false\n",
    "    \n",
    "  let dolzina_meseca _ _ = 31\n",
    "\n",
    "  let je_veljaven _ = true\n",
    "\n",
    "  let naredi dan mesec leto = Some { dan; mesec; leto }\n",
    "\n",
    "  let to_string { dan; mesec; leto } =\n",
    "    Format.sprintf \"%04d-%02d-%02d\" leto mesec dan\n",
    "end"
   ]
  },
  {
   "cell_type": "markdown",
   "id": "b90d58f8",
   "metadata": {},
   "source": [
    "Če kakšna od naštetih funkcij manjka, bo OCaml to opazil in javil napako:"
   ]
  },
  {
   "cell_type": "code",
   "execution_count": 149,
   "id": "19cc7e1f",
   "metadata": {
    "tags": [
     "raises-exception"
    ],
    "vscode": {
     "languageId": "ocaml"
    }
   },
   "outputs": [
    {
     "ename": "error",
     "evalue": "compile_error",
     "output_type": "error",
     "traceback": [
      "File \"[149]\", lines 1-22, characters 23-3:\n 1 | .......................struct\n 2 |   type t = { dan : int; mesec : int; leto : int }\n 3 | \n 4 |   let je_prestopno leto =\n 5 |     (leto mod 4 = 0 && leto mod 100 <> 0) || leto mod 400 = 0\n...\n19 |   let naredi dan mesec leto =\n20 |     let datum = { dan; mesec; leto } in\n21 |     if je_veljaven datum then Some datum else None\n22 | end\nError: Signature mismatch:\n       ...\n       The value `to_string' is required but not provided\n       File \"[146]\", line 8, characters 4-31: Expected declaration\n"
     ]
    }
   ],
   "source": [
    "module Datum : DATUM = struct\n",
    "  type t = { dan : int; mesec : int; leto : int }\n",
    "\n",
    "  let je_prestopno leto =\n",
    "    (leto mod 4 = 0 && leto mod 100 <> 0) || leto mod 400 = 0\n",
    "    \n",
    "  let dolzina_meseca leto =\n",
    "    function\n",
    "    | 4 | 6 | 9 | 11 -> 30\n",
    "    | 2 -> if je_prestopno leto then 29 else 28\n",
    "    | _ -> 31\n",
    "\n",
    "  let je_veljaven datum =\n",
    "    let veljaven_dan = 1 <= datum.dan && datum.dan <= dolzina_meseca datum.leto datum.mesec\n",
    "    and veljaven_mesec = 1 <= datum.mesec && datum.mesec <= 12\n",
    "    in\n",
    "    veljaven_dan && veljaven_mesec\n",
    "\n",
    "  let naredi dan mesec leto =\n",
    "    let datum = { dan; mesec; leto } in\n",
    "    if je_veljaven datum then Some datum else None\n",
    "end"
   ]
  },
  {
   "cell_type": "markdown",
   "id": "55e76c41",
   "metadata": {},
   "source": [
    "Podobno bo preveril, ali se pri vseh definicijah ujemajo tipi."
   ]
  },
  {
   "cell_type": "code",
   "execution_count": 150,
   "id": "6c66276f",
   "metadata": {
    "tags": [
     "raises-exception"
    ],
    "vscode": {
     "languageId": "ocaml"
    }
   },
   "outputs": [
    {
     "ename": "error",
     "evalue": "compile_error",
     "output_type": "error",
     "traceback": [
      "File \"[150]\", lines 1-25, characters 23-3:\n 1 | .......................struct\n 2 |   type t = { dan : int; mesec : int; leto : int }\n 3 | \n 4 |   let je_prestopno leto =\n 5 |     (leto mod 4 = 0 && leto mod 100 <> 0) || leto mod 400 = 0\n...\n22 | \n23 |   let to_string { dan; mesec; leto } =\n24 |     Format.sprintf \"%04d-%02d-%02d\" leto mesec dan\n25 | end\nError: Signature mismatch:\n       ...\n       Values do not match:\n         val naredi : int * int * int -> t option\n       is not included in\n         val naredi : int -> int -> int -> t option\n       The type int * int * int -> t option is not compatible with the type\n         int -> int -> int -> t option\n       Type int * int * int is not compatible with type int \n       File \"[146]\", line 7, characters 4-46: Expected declaration\n       File \"[150]\", line 19, characters 6-12: Actual declaration\n"
     ]
    }
   ],
   "source": [
    "module Datum : DATUM = struct\n",
    "  type t = { dan : int; mesec : int; leto : int }\n",
    "\n",
    "  let je_prestopno leto =\n",
    "    (leto mod 4 = 0 && leto mod 100 <> 0) || leto mod 400 = 0\n",
    "    \n",
    "  let dolzina_meseca leto =\n",
    "    function\n",
    "    | 4 | 6 | 9 | 11 -> 30\n",
    "    | 2 -> if je_prestopno leto then 29 else 28\n",
    "    | _ -> 31\n",
    "\n",
    "  let je_veljaven datum =\n",
    "    let veljaven_dan = 1 <= datum.dan && datum.dan <= dolzina_meseca datum.leto datum.mesec\n",
    "    and veljaven_mesec = 1 <= datum.mesec && datum.mesec <= 12\n",
    "    in\n",
    "    veljaven_dan && veljaven_mesec\n",
    "\n",
    "  let naredi (dan, mesec, leto) =\n",
    "    let datum = { dan; mesec; leto } in\n",
    "    if je_veljaven datum then Some datum else None\n",
    "\n",
    "  let to_string { dan; mesec; leto } =\n",
    "    Format.sprintf \"%04d-%02d-%02d\" leto mesec dan\n",
    "end"
   ]
  },
  {
   "cell_type": "markdown",
   "id": "9d687499",
   "metadata": {},
   "source": [
    "### Skrivanje implementacije"
   ]
  },
  {
   "cell_type": "markdown",
   "id": "1c3d3aee",
   "metadata": {},
   "source": [
    "Glavna prednost uporabe signatur pa je v tem, da lahko z njimi implementacij ne le preverjamo, temveč tudi deloma skrivamo. Če uporabljamo pomožno funkcijo, ki ni del signature, navzven ne bo vidna. Na primer, funkcije za izračun veljavnosti datuma lahko skrijemo."
   ]
  },
  {
   "cell_type": "code",
   "execution_count": 151,
   "id": "eae75e27",
   "metadata": {
    "vscode": {
     "languageId": "ocaml"
    }
   },
   "outputs": [
    {
     "data": {
      "text/plain": [
       "module type DATUM =\n",
       "  sig\n",
       "    type t = { dan : int; mesec : int; leto : int; }\n",
       "    val naredi : int -> int -> int -> t option\n",
       "    val to_string : t -> string\n",
       "  end\n"
      ]
     },
     "execution_count": 151,
     "metadata": {},
     "output_type": "execute_result"
    }
   ],
   "source": [
    "module type DATUM =\n",
    "  sig\n",
    "    type t = { dan : int; mesec : int; leto : int; }\n",
    "    val naredi : int -> int -> int -> t option\n",
    "    val to_string : t -> string\n",
    "  end"
   ]
  },
  {
   "cell_type": "code",
   "execution_count": 152,
   "id": "8c706329",
   "metadata": {
    "vscode": {
     "languageId": "ocaml"
    }
   },
   "outputs": [
    {
     "data": {
      "text/plain": [
       "module Datum : DATUM\n"
      ]
     },
     "execution_count": 152,
     "metadata": {},
     "output_type": "execute_result"
    }
   ],
   "source": [
    "module Datum : DATUM = struct\n",
    "  type t = { dan : int; mesec : int; leto : int }\n",
    "\n",
    "  let je_prestopno leto =\n",
    "    (leto mod 4 = 0 && leto mod 100 <> 0) || leto mod 400 = 0\n",
    "    \n",
    "  let dolzina_meseca leto =\n",
    "    function\n",
    "    | 4 | 6 | 9 | 11 -> 30\n",
    "    | 2 -> if je_prestopno leto then 29 else 28\n",
    "    | _ -> 31\n",
    "\n",
    "  let je_veljaven datum =\n",
    "    let veljaven_dan = 1 <= datum.dan && datum.dan <= dolzina_meseca datum.leto datum.mesec\n",
    "    and veljaven_mesec = 1 <= datum.mesec && datum.mesec <= 12\n",
    "    in\n",
    "    veljaven_dan && veljaven_mesec\n",
    "\n",
    "  let naredi dan mesec leto =\n",
    "    let datum = { dan; mesec; leto } in\n",
    "    if je_veljaven datum then Some datum else None\n",
    "\n",
    "  let to_string { dan; mesec; leto } =\n",
    "    Format.sprintf \"%04d-%02d-%02d\" leto mesec dan\n",
    "end"
   ]
  },
  {
   "cell_type": "markdown",
   "id": "1ae55e73",
   "metadata": {},
   "source": [
    "Modul še vedno vsebuje vse funkcije iz signature, zato se OCaml ne pritoži. A če poskusimo dostopati do dodatnih funkcij, bomo dobili napako:"
   ]
  },
  {
   "cell_type": "code",
   "execution_count": 153,
   "id": "0109dd4d",
   "metadata": {
    "vscode": {
     "languageId": "ocaml"
    }
   },
   "outputs": [
    {
     "data": {
      "text/plain": [
       "- : Datum.t option = Some {Datum.dan = 25; mesec = 6; leto = 1991}\n"
      ]
     },
     "execution_count": 153,
     "metadata": {},
     "output_type": "execute_result"
    }
   ],
   "source": [
    "Datum.naredi 25 6 1991"
   ]
  },
  {
   "cell_type": "code",
   "execution_count": 154,
   "id": "91f1e47a",
   "metadata": {
    "tags": [
     "raises-exception"
    ],
    "vscode": {
     "languageId": "ocaml"
    }
   },
   "outputs": [
    {
     "ename": "error",
     "evalue": "compile_error",
     "output_type": "error",
     "traceback": [
      "File \"[154]\", line 1, characters 0-20:\n1 | Datum.dolzina_meseca 1991 6\n    ^^^^^^^^^^^^^^^^^^^^\nError: Unbound value Datum.dolzina_meseca\n"
     ]
    }
   ],
   "source": [
    "Datum.dolzina_meseca 1991 6"
   ]
  },
  {
   "cell_type": "markdown",
   "id": "4263bbff",
   "metadata": {},
   "source": [
    "Skrivanje implementacij uporabnikom poenostavi uporabo, saj izpostavi le ključne funkcije. Hkrati pa razvijalcem olajša kasnejše spremembe implementacije, če na primer najdejo boljši algoritem. Če pomožne funkcije ne bi bile skrite, bi se lahko nanje kdo zanašal, kar bi otežilo kasnejše spremembe."
   ]
  },
  {
   "cell_type": "markdown",
   "id": "3206b53b",
   "metadata": {},
   "source": [
    "### Abstraktni tipi"
   ]
  },
  {
   "cell_type": "markdown",
   "id": "9f8e2784",
   "metadata": {},
   "source": [
    "Poleg pomožnih funkcij lahko skrivamo tudi definicije tipov. To ne poenostavlja samo uporabe in kasnejših razširitev, temveč tudi zagotavlja pravilnost podatkov. Recimo, kljub temu, da smo pripravili funkcijo `naredi`, ki bo vedno ustvarila veljaven datum, lahko uporabnik še vedno ustvari neveljaven datum."
   ]
  },
  {
   "cell_type": "code",
   "execution_count": 155,
   "id": "c64fe74e",
   "metadata": {
    "vscode": {
     "languageId": "ocaml"
    }
   },
   "outputs": [
    {
     "data": {
      "text/plain": [
       "- : string = \"2024-13-32\"\n"
      ]
     },
     "execution_count": 155,
     "metadata": {},
     "output_type": "execute_result"
    }
   ],
   "source": [
    "{ dan = 32; mesec = 13; leto = 2024 } |> Datum.to_string"
   ]
  },
  {
   "cell_type": "markdown",
   "id": "61c93c13",
   "metadata": {},
   "source": [
    "Temu se lahko izgonemo tako, da skrijemo definicijo tipa, samo povemo, da obstaja."
   ]
  },
  {
   "cell_type": "code",
   "execution_count": 156,
   "id": "26f25c01",
   "metadata": {
    "vscode": {
     "languageId": "ocaml"
    }
   },
   "outputs": [
    {
     "data": {
      "text/plain": [
       "module type DATUM =\n",
       "  sig\n",
       "    type t\n",
       "    val naredi : int -> int -> int -> t option\n",
       "    val to_string : t -> string\n",
       "  end\n"
      ]
     },
     "execution_count": 156,
     "metadata": {},
     "output_type": "execute_result"
    }
   ],
   "source": [
    "module type DATUM =\n",
    "  sig\n",
    "    type t\n",
    "    val naredi : int -> int -> int -> t option\n",
    "    val to_string : t -> string\n",
    "  end"
   ]
  },
  {
   "cell_type": "code",
   "execution_count": 157,
   "id": "88e0ebe9",
   "metadata": {
    "vscode": {
     "languageId": "ocaml"
    }
   },
   "outputs": [
    {
     "data": {
      "text/plain": [
       "module Datum : DATUM\n"
      ]
     },
     "execution_count": 157,
     "metadata": {},
     "output_type": "execute_result"
    }
   ],
   "source": [
    "module Datum : DATUM = struct\n",
    "  type t = { dan : int; mesec : int; leto : int }\n",
    "\n",
    "  let je_prestopno leto =\n",
    "    (leto mod 4 = 0 && leto mod 100 <> 0) || leto mod 400 = 0\n",
    "    \n",
    "  let dolzina_meseca leto =\n",
    "    function\n",
    "    | 4 | 6 | 9 | 11 -> 30\n",
    "    | 2 -> if je_prestopno leto then 29 else 28\n",
    "    | _ -> 31\n",
    "\n",
    "  let je_veljaven datum =\n",
    "    let veljaven_dan = 1 <= datum.dan && datum.dan <= dolzina_meseca datum.leto datum.mesec\n",
    "    and veljaven_mesec = 1 <= datum.mesec && datum.mesec <= 12\n",
    "    in\n",
    "    veljaven_dan && veljaven_mesec\n",
    "\n",
    "  let naredi dan mesec leto =\n",
    "    let datum = { dan; mesec; leto } in\n",
    "    if je_veljaven datum then Some datum else None\n",
    "\n",
    "  let to_string { dan; mesec; leto } =\n",
    "    Format.sprintf \"%04d-%02d-%02d\" leto mesec dan\n",
    "end"
   ]
  },
  {
   "cell_type": "markdown",
   "id": "845f186d",
   "metadata": {},
   "source": [
    "Sedaj je edini način, da ustvarimo vrednosti tipa `Datum.t` ta, da pokličemo funkcijo naredi, ki preveri veljavnost. Tudi če uporabnik uporabi identični tip, kot je v implementaciji, bo OCaml preprečil neposredno manipulacijo z njim."
   ]
  },
  {
   "cell_type": "code",
   "execution_count": 158,
   "id": "4ada7b0e",
   "metadata": {
    "tags": [
     "raises-exception"
    ],
    "vscode": {
     "languageId": "ocaml"
    }
   },
   "outputs": [
    {
     "ename": "error",
     "evalue": "compile_error",
     "output_type": "error",
     "traceback": [
      "File \"[158]\", line 1, characters 2-5:\n1 | { dan = 32; mesec = 13; leto = 2024 } |> Datum.to_string\n      ^^^\nError: Unbound record field dan\n"
     ]
    }
   ],
   "source": [
    "{ dan = 32; mesec = 13; leto = 2024 } |> Datum.to_string"
   ]
  },
  {
   "cell_type": "markdown",
   "id": "c966da13",
   "metadata": {},
   "source": [
    "Poleg tega lahko uporabimo tudi drugačno implementacijo datumov, recimo da mesece predstavimo z naštevnim tipom."
   ]
  },
  {
   "cell_type": "markdown",
   "id": "3fd4ee03",
   "metadata": {},
   "source": [
    "## Primer: štetje različnih elementov"
   ]
  },
  {
   "cell_type": "markdown",
   "id": "11189472",
   "metadata": {},
   "source": [
    "Za primer izračunajmo, koliko različnih elementov vsebuje dani seznam. Ena izmed možnosti je, da se sprehajamo čez seznam ter beležimo seznam elementov, ki smo jih že videli, začenši s praznim seznamom. Vsak element primerjamo z že videnimi in če ga še nismo videli, ga dodamo v seznam. Seveda bo ta primer majhen in ga ne bi bilo treba razčlenjevati, a bomo to vseeno storili, da spoznamo pristop."
   ]
  },
  {
   "cell_type": "code",
   "execution_count": 159,
   "id": "9095d8b9",
   "metadata": {
    "vscode": {
     "languageId": "ocaml"
    }
   },
   "outputs": [
    {
     "data": {
      "text/plain": [
       "val stevilo_razlicnih : 'a list -> int = <fun>\n"
      ]
     },
     "execution_count": 159,
     "metadata": {},
     "output_type": "execute_result"
    }
   ],
   "source": [
    "let stevilo_razlicnih xs =\n",
    "  let rec aux ze_videni = function\n",
    "    | [] -> List.length ze_videni\n",
    "    | x :: xs ->\n",
    "        if List.mem x ze_videni\n",
    "        then aux ze_videni xs\n",
    "        else aux (x :: ze_videni) xs\n",
    "  in\n",
    "  aux [] xs"
   ]
  },
  {
   "cell_type": "code",
   "execution_count": 160,
   "id": "f48c7034",
   "metadata": {
    "vscode": {
     "languageId": "ocaml"
    }
   },
   "outputs": [
    {
     "data": {
      "text/plain": [
       "- : int = 3\n"
      ]
     },
     "execution_count": 160,
     "metadata": {},
     "output_type": "execute_result"
    }
   ],
   "source": [
    "stevilo_razlicnih [1; 2; 1; 2; 1; 2; 3]"
   ]
  },
  {
   "cell_type": "markdown",
   "id": "8bca11bc",
   "metadata": {},
   "source": [
    "Napišimo še nekaj funkcij, s katerimi bomo izmerili (ne)učinkovitost take implementacije."
   ]
  },
  {
   "cell_type": "code",
   "execution_count": 161,
   "id": "1d790672",
   "metadata": {
    "vscode": {
     "languageId": "ocaml"
    }
   },
   "outputs": [
    {
     "data": {
      "text/plain": [
       "val nakljucni_seznam : int -> int -> int list = <fun>\n"
      ]
     },
     "execution_count": 161,
     "metadata": {},
     "output_type": "execute_result"
    }
   ],
   "source": [
    "let nakljucni_seznam m n = List.init n (fun _ -> Random.int m)"
   ]
  },
  {
   "cell_type": "code",
   "execution_count": 162,
   "id": "2ee6069e",
   "metadata": {
    "vscode": {
     "languageId": "ocaml"
    }
   },
   "outputs": [
    {
     "data": {
      "text/plain": [
       "- : int list = [0; 3; 3; 1; 1; 3; 4; 3; 0; 2; 1; 1; 4; 3; 1; 1; 1; 2; 0; 4]\n"
      ]
     },
     "execution_count": 162,
     "metadata": {},
     "output_type": "execute_result"
    }
   ],
   "source": [
    "nakljucni_seznam 5 20"
   ]
  },
  {
   "cell_type": "code",
   "execution_count": 163,
   "id": "0d4bfc0b",
   "metadata": {
    "vscode": {
     "languageId": "ocaml"
    }
   },
   "outputs": [
    {
     "data": {
      "text/plain": [
       "- : int = 5\n"
      ]
     },
     "execution_count": 163,
     "metadata": {},
     "output_type": "execute_result"
    }
   ],
   "source": [
    "stevilo_razlicnih @@ nakljucni_seznam 5 20"
   ]
  },
  {
   "cell_type": "code",
   "execution_count": 164,
   "id": "fd1e3d66",
   "metadata": {
    "vscode": {
     "languageId": "ocaml"
    }
   },
   "outputs": [
    {
     "data": {
      "text/plain": [
       "val seznam_zaporednih : int -> int list = <fun>\n"
      ]
     },
     "execution_count": 164,
     "metadata": {},
     "output_type": "execute_result"
    }
   ],
   "source": [
    "let seznam_zaporednih n = List.init n (fun i -> i)"
   ]
  },
  {
   "cell_type": "code",
   "execution_count": 165,
   "id": "fed2cdf4",
   "metadata": {
    "vscode": {
     "languageId": "ocaml"
    }
   },
   "outputs": [
    {
     "data": {
      "text/plain": [
       "- : int list = [0; 1; 2; 3; 4; 5; 6; 7; 8; 9]\n"
      ]
     },
     "execution_count": 165,
     "metadata": {},
     "output_type": "execute_result"
    }
   ],
   "source": [
    "seznam_zaporednih 10"
   ]
  },
  {
   "cell_type": "code",
   "execution_count": 166,
   "id": "29599437",
   "metadata": {
    "vscode": {
     "languageId": "ocaml"
    }
   },
   "outputs": [
    {
     "data": {
      "text/plain": [
       "- : int = 10\n"
      ]
     },
     "execution_count": 166,
     "metadata": {},
     "output_type": "execute_result"
    }
   ],
   "source": [
    "stevilo_razlicnih @@ seznam_zaporednih 10"
   ]
  },
  {
   "cell_type": "code",
   "execution_count": 167,
   "id": "8027f545",
   "metadata": {
    "vscode": {
     "languageId": "ocaml"
    }
   },
   "outputs": [
    {
     "data": {
      "text/plain": [
       "val stopaj : ('a -> 'b) -> 'a -> 'b = <fun>\n"
      ]
     },
     "execution_count": 167,
     "metadata": {},
     "output_type": "execute_result"
    }
   ],
   "source": [
    "let stopaj f x =\n",
    "  let zacetek = Sys.time () in\n",
    "  let y = f x in\n",
    "  let konec = Sys.time () in\n",
    "  let izpis = \n",
    "    Printf.sprintf \"Porabljen čas: %f ms\\n\" (1000. *. (konec -. zacetek))\n",
    "  in\n",
    "  print_endline izpis;\n",
    "  y"
   ]
  },
  {
   "cell_type": "code",
   "execution_count": 168,
   "id": "4c9e466d",
   "metadata": {
    "vscode": {
     "languageId": "ocaml"
    }
   },
   "outputs": [
    {
     "name": "stdout",
     "output_type": "stream",
     "text": [
      "Porabljen čas: 9.122000 ms\n",
      "\n"
     ]
    },
    {
     "data": {
      "text/plain": [
       "- : int = 1000\n"
      ]
     },
     "execution_count": 168,
     "metadata": {},
     "output_type": "execute_result"
    }
   ],
   "source": [
    "stopaj stevilo_razlicnih (seznam_zaporednih 1000)"
   ]
  },
  {
   "cell_type": "code",
   "execution_count": 169,
   "id": "7183295b",
   "metadata": {
    "vscode": {
     "languageId": "ocaml"
    }
   },
   "outputs": [
    {
     "name": "stdout",
     "output_type": "stream",
     "text": [
      "Porabljen čas: 36.560000 ms\n",
      "\n"
     ]
    },
    {
     "data": {
      "text/plain": [
       "- : int = 2000\n"
      ]
     },
     "execution_count": 169,
     "metadata": {},
     "output_type": "execute_result"
    }
   ],
   "source": [
    "stopaj stevilo_razlicnih (seznam_zaporednih 2000)"
   ]
  },
  {
   "cell_type": "markdown",
   "id": "94f76315",
   "metadata": {},
   "source": [
    "Za dvakrat daljši seznam smo potrebovali okoli štirikrat več časa, saj se mora funkcija `List.mem` sprehajati po vedno daljšem seznamu, da ugotovi, da elementa ni v njem. Razlog za neučinkovitost je v tem, da za beleženje videnih elemente uporabljamo sezname, čeprav potrebujemo samo množice, ki se ne ozirajo na vrstni red in število ponovitev. V kratkem bomo spoznali učinkovite podatkovne strukture za predstavitev množic, zaenkrat pa si pripravimo teren za spremembe implementacij."
   ]
  },
  {
   "cell_type": "code",
   "execution_count": 170,
   "id": "7e9667ce",
   "metadata": {
    "vscode": {
     "languageId": "ocaml"
    }
   },
   "outputs": [
    {
     "data": {
      "text/plain": [
       "module type MNOZICA =\n",
       "  sig\n",
       "    type 'a t\n",
       "    val prazna : 'a t\n",
       "    val dodaj : 'a -> 'a t -> 'a t\n",
       "    val velikost : 'a t -> int\n",
       "    val vsebuje : 'a -> 'a t -> bool\n",
       "  end\n"
      ]
     },
     "execution_count": 170,
     "metadata": {},
     "output_type": "execute_result"
    }
   ],
   "source": [
    "module type MNOZICA = sig\n",
    "  type 'a t\n",
    "  val prazna : 'a t\n",
    "  val dodaj : 'a -> 'a t -> 'a t\n",
    "  val velikost : 'a t -> int\n",
    "  val vsebuje : 'a -> 'a t -> bool\n",
    "end"
   ]
  },
  {
   "cell_type": "code",
   "execution_count": 171,
   "id": "c6b60290",
   "metadata": {
    "vscode": {
     "languageId": "ocaml"
    }
   },
   "outputs": [
    {
     "data": {
      "text/plain": [
       "module Mnozica : MNOZICA\n"
      ]
     },
     "execution_count": 171,
     "metadata": {},
     "output_type": "execute_result"
    }
   ],
   "source": [
    "module Mnozica : MNOZICA = struct\n",
    "  type 'a t = 'a list\n",
    "  let prazna = []\n",
    "  let velikost m = List.length m\n",
    "  let vsebuje x m = List.mem x m\n",
    "  let dodaj x m = if vsebuje x m then m else x :: m\n",
    "end"
   ]
  },
  {
   "cell_type": "markdown",
   "id": "d9675482",
   "metadata": {},
   "source": [
    "Na ta način naš algoritem namesto kot"
   ]
  },
  {
   "cell_type": "code",
   "execution_count": 172,
   "id": "0b5e7c74",
   "metadata": {
    "vscode": {
     "languageId": "ocaml"
    }
   },
   "outputs": [
    {
     "data": {
      "text/plain": [
       "val stevilo_razlicnih : 'a list -> int = <fun>\n"
      ]
     },
     "execution_count": 172,
     "metadata": {},
     "output_type": "execute_result"
    }
   ],
   "source": [
    "let stevilo_razlicnih xs =\n",
    "  let rec aux ze_videni = function\n",
    "    | [] -> List.length ze_videni\n",
    "    | x :: xs ->\n",
    "        if List.mem x ze_videni\n",
    "        then aux ze_videni xs\n",
    "        else aux (x :: ze_videni) xs\n",
    "  in\n",
    "  aux [] xs"
   ]
  },
  {
   "cell_type": "markdown",
   "id": "e5a249d7",
   "metadata": {},
   "source": [
    "napišemo kot:"
   ]
  },
  {
   "cell_type": "code",
   "execution_count": 173,
   "id": "fabbc53e",
   "metadata": {
    "vscode": {
     "languageId": "ocaml"
    }
   },
   "outputs": [
    {
     "data": {
      "text/plain": [
       "val stevilo_razlicnih : 'a list -> int = <fun>\n"
      ]
     },
     "execution_count": 173,
     "metadata": {},
     "output_type": "execute_result"
    }
   ],
   "source": [
    "\n",
    "let stevilo_razlicnih xs =\n",
    "  let rec aux ze_videni = function\n",
    "    | [] -> Mnozica.velikost ze_videni\n",
    "    | x :: xs -> aux (Mnozica.dodaj x ze_videni) xs\n",
    "  in\n",
    "  aux Mnozica.prazna xs"
   ]
  },
  {
   "cell_type": "markdown",
   "id": "2a6e6f9d",
   "metadata": {},
   "source": [
    "Vidimo, da je definicija precej bolj pregledna, saj smo implementacijo in uporabo množic razdelili na dva dela."
   ]
  }
 ],
 "metadata": {
  "kernelspec": {
   "display_name": "OCaml 4.14",
   "language": "OCaml",
   "name": "ocaml-jupyter"
  },
  "language_info": {
   "codemirror_mode": "text/x-ocaml",
   "file_extension": ".ml",
   "mimetype": "text/x-ocaml",
   "name": "OCaml",
   "nbconverter_exporter": null,
   "pygments_lexer": "OCaml",
   "version": "4.14.2"
  }
 },
 "nbformat": 4,
 "nbformat_minor": 5
}
