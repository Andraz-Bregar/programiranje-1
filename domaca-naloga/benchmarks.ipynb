{
 "cells": [
  {
   "cell_type": "markdown",
   "metadata": {
    "id": "GvSWHVzqdetf"
   },
   "source": [
    "# Izračun točk"
   ]
  },
  {
   "cell_type": "code",
   "execution_count": 82,
   "metadata": {
    "id": "kFBpj_WdZLHW"
   },
   "outputs": [],
   "source": [
    "import pandas as pd\n",
    "import re"
   ]
  },
  {
   "cell_type": "code",
   "execution_count": 83,
   "metadata": {
    "colab": {
     "base_uri": "https://localhost:8080/",
     "height": 375
    },
    "id": "XAV5ZsWGihP6",
    "outputId": "dc100fa7-1ecc-4dd8-b449-f4f20018c77a"
   },
   "outputs": [],
   "source": [
    "benchmarks = pd.read_csv(\"benchmarks.csv\", names=[\"name\", \"sudoku\", \"result\", \"time\"])"
   ]
  },
  {
   "cell_type": "code",
   "execution_count": 84,
   "metadata": {},
   "outputs": [],
   "source": [
    "def kind(sudoku):\n",
    "    match = re.search(\"(?P<kind>\\w+)-\\d+\\.sdk\", sudoku)\n",
    "    if match:\n",
    "        return match.group(\"kind\")\n",
    "\n",
    "\n",
    "benchmarks[\"kind\"] = benchmarks.sudoku.apply(kind)"
   ]
  },
  {
   "cell_type": "code",
   "execution_count": 85,
   "metadata": {
    "colab": {
     "base_uri": "https://localhost:8080/",
     "height": 232
    },
    "id": "iPHV6DCZinvQ",
    "outputId": "2127f4c1-69f7-44e0-a5eb-6d490fe61fbe"
   },
   "outputs": [],
   "source": [
    "fastest_time = (\n",
    "    benchmarks[benchmarks.result == \"CORRECT\"]\n",
    "    .groupby(\"sudoku\")\n",
    "    .min()\n",
    "    .time.rename(\"fastest\")\n",
    ")\n",
    "\n",
    "times_with_fastest = pd.merge(benchmarks[[\"sudoku\"]], fastest_time, on=\"sudoku\")\n",
    "\n",
    "benchmarks[\"relative_time\"] = benchmarks.time / times_with_fastest.fastest"
   ]
  },
  {
   "cell_type": "markdown",
   "metadata": {
    "id": "wEWAIT2MaLYE"
   },
   "source": [
    "## Točke za pravilnost\n",
    "\n",
    "- 5 točk - 100% pravilno rešenih običajnih sudokujev\n",
    "- 4 točke - ≥50% pravilno rešenih običajnih sudokujev\n",
    "- 3 točke - >0% pravilno rešenih običajnih sudokujev\n",
    "- 0-2 točki - odvisno od pravilnosti pomožnih funkcij - se določi ročno"
   ]
  },
  {
   "cell_type": "code",
   "execution_count": 86,
   "metadata": {},
   "outputs": [],
   "source": [
    "number_of_correct = (\n",
    "    benchmarks[(benchmarks.kind == \"obicajni\") & (benchmarks.result == \"CORRECT\")]\n",
    "    .groupby(\"name\")\n",
    "    .size()\n",
    ")"
   ]
  },
  {
   "cell_type": "code",
   "execution_count": 87,
   "metadata": {},
   "outputs": [
    {
     "data": {
      "text/plain": [
       "<AxesSubplot:xlabel='name'>"
      ]
     },
     "execution_count": 87,
     "metadata": {},
     "output_type": "execute_result"
    },
    {
     "data": {
      "image/png": "[encoded data removed]",
      "text/plain": [
       "<Figure size 432x288 with 1 Axes>"
      ]
     },
     "metadata": {
      "needs_background": "light"
     },
     "output_type": "display_data"
    }
   ],
   "source": [
    "number_of_correct.sort_values(ascending=False).plot.bar()"
   ]
  },
  {
   "cell_type": "code",
   "execution_count": 88,
   "metadata": {
    "id": "0Bp9NYhfahh1"
   },
   "outputs": [],
   "source": [
    "total = len(set(benchmarks[benchmarks.kind == \"obicajni\"].sudoku))\n",
    "\n",
    "\n",
    "def tocke_za_pravilnost(correct):\n",
    "    if correct == total:\n",
    "        return 5\n",
    "    elif correct / total >= 0.5:\n",
    "        return 4\n",
    "    else:\n",
    "        # če se vrednost pojavi, je moral biti vsaj en pravilen\n",
    "        return 3"
   ]
  },
  {
   "cell_type": "code",
   "execution_count": 89,
   "metadata": {
    "colab": {
     "base_uri": "https://localhost:8080/"
    },
    "id": "aINHi2DFZpkk",
    "outputId": "4571fc7d-5292-4822-84be-4d9b9d1460b8"
   },
   "outputs": [
    {
     "data": {
      "text/plain": [
       "name\n",
       "ocamlc      4\n",
       "ocamlopt    4\n",
       "dtype: int64"
      ]
     },
     "execution_count": 89,
     "metadata": {},
     "output_type": "execute_result"
    }
   ],
   "source": [
    "number_of_correct.apply(tocke_za_pravilnost)"
   ]
  },
  {
   "cell_type": "markdown",
   "metadata": {
    "id": "OgXEZI0vdO5a"
   },
   "source": [
    "## Točke za hitrost"
   ]
  },
  {
   "cell_type": "code",
   "execution_count": 90,
   "metadata": {},
   "outputs": [],
   "source": [
    "speed_benchmarks = benchmarks[\n",
    "    (benchmarks.kind == \"obicajni\") & ~pd.isna(benchmarks.relative_time)\n",
    "]"
   ]
  },
  {
   "cell_type": "code",
   "execution_count": 92,
   "metadata": {
    "colab": {
     "base_uri": "https://localhost:8080/",
     "height": 372
    },
    "id": "r3Xh8MzFdtyr",
    "outputId": "cf2595d5-17c7-4746-de45-4c2eb3c33d8b"
   },
   "outputs": [
    {
     "data": {
      "text/plain": [
       "<AxesSubplot:title={'center':'relative_time'}, xlabel='name'>"
      ]
     },
     "execution_count": 92,
     "metadata": {},
     "output_type": "execute_result"
    },
    {
     "data": {
      "image/png": "[encoded data removed]",
      "text/plain": [
       "<Figure size 432x288 with 1 Axes>"
      ]
     },
     "metadata": {
      "needs_background": "light"
     },
     "output_type": "display_data"
    }
   ],
   "source": [
    "speed_benchmarks.boxplot(\"relative_time\", by=\"name\", vert=False)"
   ]
  },
  {
   "cell_type": "code",
   "execution_count": 93,
   "metadata": {
    "colab": {
     "base_uri": "https://localhost:8080/",
     "height": 759
    },
    "id": "mrdF7XWsor-X",
    "outputId": "3f5dafbf-ae1f-41f5-8521-737657f1d935"
   },
   "outputs": [
    {
     "data": {
      "text/plain": [
       "name\n",
       "ocamlc      3.155319\n",
       "ocamlopt    1.000000\n",
       "Name: relative_time, dtype: float64"
      ]
     },
     "execution_count": 93,
     "metadata": {},
     "output_type": "execute_result"
    },
    {
     "data": {
      "image/png": "[encoded data removed]",
      "text/plain": [
       "<Figure size 432x288 with 1 Axes>"
      ]
     },
     "metadata": {
      "needs_background": "light"
     },
     "output_type": "display_data"
    }
   ],
   "source": [
    "mean_relative_times = speed_benchmarks.groupby(\"name\").mean().relative_time\n",
    "min_relative_time = min(mean_relative_times)\n",
    "speed = mean_relative_times / min(mean_relative_times)\n",
    "speed.sort_values().plot.bar(log=True)\n",
    "speed"
   ]
  },
  {
   "cell_type": "markdown",
   "metadata": {
    "id": "IP-LjO-VbZ5V"
   },
   "source": [
    "## Točke za razširitve\n",
    "\n"
   ]
  },
  {
   "cell_type": "code",
   "execution_count": 94,
   "metadata": {},
   "outputs": [],
   "source": [
    "extension_benchmarks = benchmarks[(benchmarks.result != \"ERROR\")]"
   ]
  },
  {
   "cell_type": "code",
   "execution_count": 95,
   "metadata": {
    "colab": {
     "base_uri": "https://localhost:8080/",
     "height": 359
    },
    "id": "Lj-fTyqWaB7V",
    "outputId": "532562a3-5560-4bde-b66c-05938fd77935"
   },
   "outputs": [
    {
     "data": {
      "text/html": [
       "<div>\n",
       "<style scoped>\n",
       "    .dataframe tbody tr th:only-of-type {\n",
       "        vertical-align: middle;\n",
       "    }\n",
       "\n",
       "    .dataframe tbody tr th {\n",
       "        vertical-align: top;\n",
       "    }\n",
       "\n",
       "    .dataframe thead th {\n",
       "        text-align: right;\n",
       "    }\n",
       "</style>\n",
       "<table border=\"1\" class=\"dataframe\">\n",
       "  <thead>\n",
       "    <tr style=\"text-align: right;\">\n",
       "      <th></th>\n",
       "      <th>result</th>\n",
       "      <th>CORRECT</th>\n",
       "      <th>TIMEOUT</th>\n",
       "      <th>WRONG</th>\n",
       "    </tr>\n",
       "    <tr>\n",
       "      <th>name</th>\n",
       "      <th>kind</th>\n",
       "      <th></th>\n",
       "      <th></th>\n",
       "      <th></th>\n",
       "    </tr>\n",
       "  </thead>\n",
       "  <tbody>\n",
       "    <tr>\n",
       "      <th>ocamlc</th>\n",
       "      <th>obicajni</th>\n",
       "      <td>69</td>\n",
       "      <td>22</td>\n",
       "      <td>9</td>\n",
       "    </tr>\n",
       "    <tr>\n",
       "      <th>ocamlopt</th>\n",
       "      <th>obicajni</th>\n",
       "      <td>87</td>\n",
       "      <td>4</td>\n",
       "      <td>9</td>\n",
       "    </tr>\n",
       "  </tbody>\n",
       "</table>\n",
       "</div>"
      ],
      "text/plain": [
       "result             CORRECT  TIMEOUT  WRONG\n",
       "name     kind                             \n",
       "ocamlc   obicajni       69       22      9\n",
       "ocamlopt obicajni       87        4      9"
      ]
     },
     "execution_count": 95,
     "metadata": {},
     "output_type": "execute_result"
    }
   ],
   "source": [
    "extension_benchmarks.groupby([\"name\", \"kind\", \"result\"]).size().unstack()"
   ]
  },
  {
   "cell_type": "code",
   "execution_count": 96,
   "metadata": {
    "colab": {
     "base_uri": "https://localhost:8080/"
    },
    "id": "o5_MaIShzE70",
    "outputId": "2c4baf26-e263-40fb-d651-e56826cfbbc1"
   },
   "outputs": [
    {
     "data": {
      "text/plain": [
       "name      kind    \n",
       "ocamlc    obicajni    16.334424\n",
       "ocamlopt  obicajni     5.176789\n",
       "Name: relative_time, dtype: float64"
      ]
     },
     "execution_count": 96,
     "metadata": {},
     "output_type": "execute_result"
    }
   ],
   "source": [
    "extension_benchmarks.groupby([\"name\", \"kind\"]).mean().relative_time"
   ]
  }
 ],
 "metadata": {
  "colab": {
   "collapsed_sections": [],
   "name": "Untitled21.ipynb",
   "provenance": []
  },
  "kernelspec": {
   "display_name": "Python 3",
   "name": "python3"
  },
  "language_info": {
   "codemirror_mode": {
    "name": "ipython",
    "version": 3
   },
   "file_extension": ".py",
   "mimetype": "text/x-python",
   "name": "python",
   "nbconvert_exporter": "python",
   "pygments_lexer": "ipython3",
   "version": "3.9.1"
  }
 },
 "nbformat": 4,
 "nbformat_minor": 0
}
