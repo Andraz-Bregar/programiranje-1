{
 "cells": [
  {
   "cell_type": "markdown",
   "metadata": {},
   "source": [
    "# Računalniška arhitektura"
   ]
  },
  {
   "cell_type": "markdown",
   "metadata": {},
   "source": [
    "## von Neumannova arhitektura"
   ]
  },
  {
   "cell_type": "markdown",
   "metadata": {},
   "source": [
    "![von Neumann](https://upload.wikimedia.org/wikipedia/commons/thumb/5/5e/JohnvonNeumann-LosAlamos.gif/460px-JohnvonNeumann-LosAlamos.gif)\n",
    "\n",
    "[John von Neumann](https://en.wikipedia.org/wiki/John_von_Neumann), * 1903, Budimpešta † 1957, Washington D.C."
   ]
  },
  {
   "cell_type": "markdown",
   "metadata": {
    "vscode": {
     "languageId": "plaintext"
    }
   },
   "source": [
    "![von Neumannova arhitektura](von-neumannova-arhitektura.drawio.png)"
   ]
  },
  {
   "cell_type": "markdown",
   "metadata": {},
   "source": [
    "## Harvardska arhitektura"
   ]
  },
  {
   "cell_type": "markdown",
   "metadata": {
    "vscode": {
     "languageId": "plaintext"
    }
   },
   "source": [
    "![Harvardska arhitektura](harvardska-arhitektura.drawio.png)"
   ]
  },
  {
   "cell_type": "markdown",
   "metadata": {
    "vscode": {
     "languageId": "plaintext"
    }
   },
   "source": [
    "## Primerjave različnih vrst pomnilnikov"
   ]
  },
  {
   "cell_type": "markdown",
   "metadata": {},
   "source": [
    "pomnilnik       | velikost | čas dostopa | čas dostopa × 10⁹\n",
    "--------------: | -------: | :---------: | :---------------:\n",
    "register        | 32 × 8 B | < 1 ns      | < 1 s\n",
    "L1 medpomnilnik |   128 kB | 1 ns        | 1 s\n",
    "L2 medpomnilnik |     2 MB | 10 ns       | 10 s\n",
    "L3 medpomnilnik |    32 MB | 20 ns       | 20 s\n",
    "RAM             |     8 GB | 100 ns      | 2 min\n",
    "SSD             |     1 TB | 1 ms        | 11 dni\n",
    "trdi disk       |     3 TB | 10 ms       | 4 meseci\n",
    "internet        |   256 ZB | 200 ms      | 6 let"
   ]
  },
  {
   "cell_type": "markdown",
   "metadata": {},
   "source": [
    "## Pregled ukazov"
   ]
  },
  {
   "cell_type": "markdown",
   "metadata": {
    "vscode": {
     "languageId": "plaintext"
    }
   },
   "source": [
    "@Schweigi: [Simple 8-bit Assembler Simulator](https://schweigi.github.io/assembler-simulator/)"
   ]
  },
  {
   "cell_type": "markdown",
   "metadata": {},
   "source": [
    "ukaz                      | opis \n",
    "------------------------: | --------------------------------------------------------------------\n",
    "`MOV` _R_, _V_            | premakni vrednost _V_ v register _R_          \n",
    "`DB` _C_                  | zapiši konstanto _C_ v pomnilnik\n",
    "`ADD/SUB` _R_, _V_        | register _R_ povečaj/zmanjšaj za _V_\n",
    "`INC`/`DEC` _R_           | register _R_ povečaj/zmanjšaj za 1\n",
    "`MUL`/`DIV` _V_           | register `A` pomnoži/deli z _V_\n",
    "`AND`/`OR`/`XOR` _R_, _V_ | v register _R_ shrani rezultat logične operacije _R op v_\n",
    "`NOT` _R_                 | negiraj register _R_\n",
    "`SHL`/`SHR` _R_, _V_      | register _R_ pomakni za _V_ mest v levo/desno\n",
    "`CMP` _R_, _V_            | primerjaj register _R_ z vrednostjo _V_\n",
    "`JMP` _A_                 | skoči na naslov _A_\n",
    "`JA`/`JAE` _A_            | skoči na naslov _A_, če je v zadnji primerjavi veljalo _x > y_ / _x ≥ y_\n",
    "`JB`/`JBE` _A_            | skoči na naslov _A_, če je v zadnji primerjavi veljalo _x < y_ / _x ≤ y_\n",
    "`JE`/`JNE` _A_            | skoči na naslov _A_, če je v zadnji primerjavi veljalo _x = y_ / _x ≠ y_\n",
    "`CALL` _A_                | skoči na naslov _A_ in shrani naslov naslednjega ukaza na vrh sklada\n",
    "`RET`                     | iz funkcije se vrni na naslov na vrhu sklada\n",
    "`PUSH` _V_                | vrednost _V_ shrani na vrh sklada\n",
    "`POP` _R_                 | snemi vrednost s sklada in jo shrani v register _R_\n",
    "`HLT`                     | ustavi izvajanje programa"
   ]
  },
  {
   "cell_type": "markdown",
   "metadata": {},
   "source": [
    "Register _R_ je lahko katerikoli od registrov `A`, `B`, `C`, `D`, včasih tudi `SP`. Vrednost _V_ je lahko register, konstanta ali naslov v pomnilniku. Konstanta _C_ je lahko število v enem od številskih sistemov, znak ali niz znakov."
   ]
  }
 ],
 "metadata": {
  "language_info": {
   "name": "python"
  }
 },
 "nbformat": 4,
 "nbformat_minor": 2
}
